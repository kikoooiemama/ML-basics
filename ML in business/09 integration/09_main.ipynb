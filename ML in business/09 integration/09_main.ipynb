{
 "cells": [
  {
   "cell_type": "markdown",
   "metadata": {},
   "source": [
    "# Урок 9. Интеграция. Итоговый проект"
   ]
  },
  {
   "cell_type": "markdown",
   "metadata": {},
   "source": [
    "Программа урока:\n",
    "1. Теоретическая часть:\n",
    "    - Вспоминаем “типовой” процесс построения модели машинного обучения \n",
    "    - Этапы “обучение” и “предсказание”\n",
    "    - Введение в json и rest\n",
    "2. Практическая часть:\n",
    "    - Создание проекта: venv, pycharm, github\n",
    "    - Обзор фреймворка flask\n",
    "    - Создаем проект, первый запуск\n",
    "    - Коммитим и пушим изменения в git"
   ]
  },
  {
   "cell_type": "markdown",
   "metadata": {},
   "source": [
    "#### 1. \"Типовой\" процесс построения модели"
   ]
  },
  {
   "cell_type": "markdown",
   "metadata": {},
   "source": [
    "![crisp1](images/crisp1.png \"CRISP ML\")"
   ]
  },
  {
   "cell_type": "markdown",
   "metadata": {},
   "source": [
    "Также нужно понимать разницу между этапом обучения и предсказания"
   ]
  },
  {
   "cell_type": "markdown",
   "metadata": {},
   "source": [
    "![typical_ml](images/typical_ml.png \"'Typical' ML\")"
   ]
  },
  {
   "cell_type": "markdown",
   "metadata": {},
   "source": [
    "Если говорить проще, то обучение модели - маленькая (пусть и важная) часть процесса решения конкретной бизнес-задачи"
   ]
  },
  {
   "cell_type": "markdown",
   "metadata": {},
   "source": [
    "Сама по себе обученная модель бесполезна, если нет возможности с ней взаимодействовать"
   ]
  },
  {
   "cell_type": "markdown",
   "metadata": {},
   "source": [
    "#### Пример\n",
    "\n",
    "Интернет-магазин \"ходит\" к нам за рекомендациями для пользователя.\n",
    "\n",
    "Т.е нам передают user_id и просят вернуть топ k рекомендованных товаров."
   ]
  },
  {
   "cell_type": "markdown",
   "metadata": {},
   "source": [
    "Здесь бывает два варианта:\n",
    "\n",
    "1. модель запускается периодически, чтобы сделать прогнозы, которые затем сохраняются куда-то для дальнейшей работы (\"асинхронный\" режим)\n",
    "2. модель должна работать в режиме \"реального времени\""
   ]
  },
  {
   "cell_type": "markdown",
   "metadata": {},
   "source": [
    "Какой вариант будет - зависит от потребностей бизнеса. И в завивисимости от выбранного варианта отличаются также и инструменты работы с моделью"
   ]
  },
  {
   "cell_type": "markdown",
   "metadata": {},
   "source": [
    "В общем виде процесс \"выкатывания\" модели в прод может выглядеть так:"
   ]
  },
  {
   "cell_type": "markdown",
   "metadata": {},
   "source": [
    "![ab_split](images/prod1.png \"Production ML\")"
   ]
  },
  {
   "cell_type": "markdown",
   "metadata": {},
   "source": [
    "Этап Model Deployment может быть очень сложным и нетривиальным во всем процессе (по сравнению с этапом обучения модели и подготовки данных)."
   ]
  },
  {
   "cell_type": "markdown",
   "metadata": {},
   "source": [
    "#### Пример реализации проекта"
   ]
  },
  {
   "cell_type": "markdown",
   "metadata": {},
   "source": [
    "![ab_split](images/docker_flask.png \"Docker ML\")"
   ]
  },
  {
   "cell_type": "markdown",
   "metadata": {},
   "source": [
    "https://hackmd.io/@AndreyPhys/flask-ml-api#/"
   ]
  },
  {
   "cell_type": "markdown",
   "metadata": {},
   "source": [
    "### REST API\n",
    "\n",
    "https://ru.wikipedia.org/wiki/REST"
   ]
  },
  {
   "cell_type": "markdown",
   "metadata": {},
   "source": [
    "![restapi](images/restapi.png \"REST API\")"
   ]
  },
  {
   "cell_type": "markdown",
   "metadata": {},
   "source": [
    "### JSON"
   ]
  },
  {
   "cell_type": "markdown",
   "metadata": {},
   "source": [
    "![json](images/json.png \"JSON\")"
   ]
  },
  {
   "cell_type": "markdown",
   "metadata": {},
   "source": [
    "### Что может понадобиться для проекта"
   ]
  },
  {
   "cell_type": "markdown",
   "metadata": {},
   "source": [
    "- среда разработки (например, Pycharm)\n",
    "- docker \n",
    "- python + requirements.txt (содержит зависимости)\n",
    "- знания по ML"
   ]
  },
  {
   "cell_type": "markdown",
   "metadata": {},
   "source": [
    "Как вытащить зависимости в python:\n",
    "\n",
    "<b>pip freeze > requirements.txt</b>"
   ]
  },
  {
   "cell_type": "markdown",
   "metadata": {},
   "source": [
    "### Docker"
   ]
  },
  {
   "cell_type": "markdown",
   "metadata": {},
   "source": [
    "- платформа, которая максимально упрощает процесс сборки, запуска, управления и масштабирования приложений\n",
    "- виртуализация ОС, на которой запущен\n",
    "- написан на языке Go"
   ]
  },
  {
   "cell_type": "markdown",
   "metadata": {},
   "source": [
    "#### Пример проблемы\n",
    "\n",
    "У вас есть приложение с версией python и зависимостями, несовместимое с имеющимся окружением python на сервере (еще может быть такое, что установка дополнительных библиотек строго регулируется правилами безопасности). Но у вас задача - запустить копию приложения на сервере (например, для тестирования)\n",
    "\n",
    "\n",
    "#### Решение\n",
    "\n",
    "Используем один из множества доступных docker-образов и запускаем изолированное окружение, называемое контейнером"
   ]
  },
  {
   "cell_type": "markdown",
   "metadata": {},
   "source": [
    "#### Почему это вообще работает?"
   ]
  },
  {
   "cell_type": "markdown",
   "metadata": {},
   "source": [
    "![docker](images/docker_1.png \"DOCKER\")"
   ]
  },
  {
   "cell_type": "markdown",
   "metadata": {},
   "source": [
    "- Docker host - сервер, на котором запущен docker\n",
    "- Docker container - изолированное окружение\n",
    "- в контейнере нет своей ОС, но есть копия таблицы процессов, портов и точек монтирования ОС докер-хоста\n",
    "- Ядро ОС хоста делится между всеми контейнерами\n",
    "\n",
    "Получаем виртуализацию на уровне ОС, а не hardware"
   ]
  },
  {
   "cell_type": "markdown",
   "metadata": {},
   "source": [
    "### Компоненты docker"
   ]
  },
  {
   "cell_type": "markdown",
   "metadata": {},
   "source": [
    "![docker2](images/docker_2.png \"DOCKER2\")"
   ]
  },
  {
   "cell_type": "markdown",
   "metadata": {},
   "source": [
    "Сервер:\n",
    "- запускает демон под названием dockerd (Docker Daemon), являющийся просто процессом. Он отвечает за создание и управление образами Docker, контейнерами, сетями, томами (volumes) платформы Docker.\n",
    "\n",
    "REST API:\n",
    "- определяет, каким образом приложения могут взаимодействовать с сервером и указывает им, как они должны работать.\n",
    "\n",
    "Клиент:\n",
    "- интерфейс командной строки, позволяющий пользователям взаимодействовать с Docker при помощи команд."
   ]
  },
  {
   "cell_type": "markdown",
   "metadata": {},
   "source": [
    "### Flask"
   ]
  },
  {
   "cell_type": "markdown",
   "metadata": {},
   "source": [
    "* Установить"
   ]
  },
  {
   "cell_type": "code",
   "execution_count": 1,
   "metadata": {},
   "outputs": [
    {
     "name": "stdout",
     "output_type": "stream",
     "text": [
      "Collecting flask\n",
      "  Downloading Flask-2.2.2-py3-none-any.whl (101 kB)\n",
      "     -------------------------------------- 101.5/101.5 kB 1.9 MB/s eta 0:00:00\n",
      "Collecting Werkzeug>=2.2.2\n",
      "  Downloading Werkzeug-2.2.2-py3-none-any.whl (232 kB)\n",
      "     -------------------------------------- 232.7/232.7 kB 4.7 MB/s eta 0:00:00\n",
      "Requirement already satisfied: Jinja2>=3.0 in c:\\users\\kikoooiemama\\anaconda3\\envs\\ml_business\\lib\\site-packages (from flask) (3.1.2)\n",
      "Collecting itsdangerous>=2.0\n",
      "  Downloading itsdangerous-2.1.2-py3-none-any.whl (15 kB)\n",
      "Requirement already satisfied: click>=8.0 in c:\\users\\kikoooiemama\\anaconda3\\envs\\ml_business\\lib\\site-packages (from flask) (8.0.4)\n",
      "Requirement already satisfied: importlib-metadata>=3.6.0 in c:\\users\\kikoooiemama\\anaconda3\\envs\\ml_business\\lib\\site-packages (from flask) (5.0.0)\n",
      "Requirement already satisfied: colorama in c:\\users\\kikoooiemama\\anaconda3\\envs\\ml_business\\lib\\site-packages (from click>=8.0->flask) (0.4.4)\n",
      "Requirement already satisfied: zipp>=0.5 in c:\\users\\kikoooiemama\\anaconda3\\envs\\ml_business\\lib\\site-packages (from importlib-metadata>=3.6.0->flask) (3.10.0)\n",
      "Requirement already satisfied: MarkupSafe>=2.0 in c:\\users\\kikoooiemama\\anaconda3\\envs\\ml_business\\lib\\site-packages (from Jinja2>=3.0->flask) (2.1.1)\n",
      "Installing collected packages: Werkzeug, itsdangerous, flask\n",
      "Successfully installed Werkzeug-2.2.2 flask-2.2.2 itsdangerous-2.1.2\n"
     ]
    }
   ],
   "source": [
    "# !pip install flask"
   ]
  },
  {
   "cell_type": "markdown",
   "metadata": {},
   "source": [
    "* Создать объект "
   ]
  },
  {
   "cell_type": "markdown",
   "metadata": {},
   "source": [
    "```\n",
    "from flask import Flask, request, jsonify\n",
    "app = Flask(__name__) \n",
    "\n",
    "__name__ - имя модуля\n",
    "\n",
    "```"
   ]
  },
  {
   "cell_type": "markdown",
   "metadata": {},
   "source": [
    "* Написать обработчики (handler)"
   ]
  },
  {
   "cell_type": "markdown",
   "metadata": {},
   "source": [
    "```\n",
    "@app.route(\"/\", methods=[\"GET\"])\n",
    "def general():\n",
    "    return \"Welcome to the club, buddy\"\n",
    "    \n",
    "```"
   ]
  },
  {
   "cell_type": "markdown",
   "metadata": {},
   "source": [
    "* Запустить (и не выключать)"
   ]
  },
  {
   "cell_type": "markdown",
   "metadata": {},
   "source": [
    "```\n",
    "if __name__ == \"__main__\":\n",
    "    app.run()\n",
    "\n",
    "```"
   ]
  },
  {
   "cell_type": "markdown",
   "metadata": {},
   "source": [
    "---"
   ]
  }
 ],
 "metadata": {
  "kernelspec": {
   "display_name": "Python 3 (ipykernel)",
   "language": "python",
   "name": "python3"
  },
  "language_info": {
   "codemirror_mode": {
    "name": "ipython",
    "version": 3
   },
   "file_extension": ".py",
   "mimetype": "text/x-python",
   "name": "python",
   "nbconvert_exporter": "python",
   "pygments_lexer": "ipython3",
   "version": "3.9.16"
  }
 },
 "nbformat": 4,
 "nbformat_minor": 2
}
