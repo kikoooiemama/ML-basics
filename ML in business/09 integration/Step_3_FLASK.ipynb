{
 "cells": [
  {
   "cell_type": "markdown",
   "metadata": {},
   "source": [
    "### При внедрении"
   ]
  },
  {
   "cell_type": "markdown",
   "metadata": {},
   "source": [
    "* Определить формат json \n",
    "* Определить ip-адрес и порт, на который будут поступать данные\n",
    "* Создать во Flask необходимые роутеры:\n",
    "```\n",
    "@app.route('/predict_example', method='POST')\n",
    "def predict_example():\n",
    "```\n",
    "* Перенести во Flask все функции преобразования данных\n",
    "    * формат данные, приходящих от фронт-системы, может отличаться от формата исторических данных, использовавшихся при построении модели; в результате данные на вход модели должны поступить ровно в том виде, в каком было обучена модель.\n",
    "* Загрузить обученные модели\n",
    "* Настроить логгирование"
   ]
  },
  {
   "cell_type": "markdown",
   "metadata": {},
   "source": [
    "### Flask"
   ]
  },
  {
   "cell_type": "code",
   "execution_count": 1,
   "metadata": {},
   "outputs": [],
   "source": [
    "from flask import Flask, request, jsonify\n",
    "import pandas as pd\n",
    "import dill"
   ]
  },
  {
   "cell_type": "markdown",
   "metadata": {},
   "source": [
    "Пробный запуск Flask"
   ]
  },
  {
   "cell_type": "code",
   "execution_count": 5,
   "metadata": {
    "scrolled": true
   },
   "outputs": [
    {
     "name": "stdout",
     "output_type": "stream",
     "text": [
      " * Serving Flask app '__main__'\n",
      " * Debug mode: off\n"
     ]
    },
    {
     "name": "stderr",
     "output_type": "stream",
     "text": [
      "WARNING: This is a development server. Do not use it in a production deployment. Use a production WSGI server instead.\n",
      " * Running on http://127.0.0.1:5000\n",
      "Press CTRL+C to quit\n",
      "127.0.0.1 - - [06/Dec/2022 19:35:31] \"GET / HTTP/1.1\" 404 -\n",
      "127.0.0.1 - - [06/Dec/2022 19:35:31] \"GET /favicon.ico HTTP/1.1\" 404 -\n",
      "127.0.0.1 - - [06/Dec/2022 19:36:07] \"GET /a HTTP/1.1\" 200 -\n"
     ]
    }
   ],
   "source": [
    "app = Flask(__name__)\n",
    "# run_with_ngrok(app) # это говно только в колабе нужно\n",
    "\n",
    "@app.route('/a')\n",
    "def hello():\n",
    "    return \"Hello world!\"\n",
    "\n",
    "if __name__ == '__main__':\n",
    "    app.run()"
   ]
  },
  {
   "cell_type": "markdown",
   "metadata": {},
   "source": [
    "Заходим по ссылке, вписываем адрес - видим Hello world!"
   ]
  },
  {
   "cell_type": "markdown",
   "metadata": {},
   "source": [
    "### Создаем сервис для обработки запросов к модели"
   ]
  },
  {
   "cell_type": "code",
   "execution_count": 2,
   "metadata": {},
   "outputs": [],
   "source": [
    "from flask import Flask, request, jsonify\n",
    "import pandas as pd\n",
    "import dill"
   ]
  },
  {
   "cell_type": "code",
   "execution_count": 3,
   "metadata": {},
   "outputs": [],
   "source": [
    "with open('logreg_pipeline.dill', 'rb') as in_strm:\n",
    "    model = dill.load(in_strm)"
   ]
  },
  {
   "cell_type": "code",
   "execution_count": 4,
   "metadata": {},
   "outputs": [],
   "source": [
    "X_test = pd.read_csv(\"X_test.csv\")\n",
    "y_test = pd.read_csv(\"y_test.csv\")"
   ]
  },
  {
   "cell_type": "markdown",
   "metadata": {},
   "source": [
    "Запустить сервис и не глушить его, пока работаем"
   ]
  },
  {
   "cell_type": "code",
   "execution_count": 5,
   "metadata": {},
   "outputs": [
    {
     "name": "stdout",
     "output_type": "stream",
     "text": [
      " * Serving Flask app '__main__'\n",
      " * Debug mode: off\n"
     ]
    },
    {
     "name": "stderr",
     "output_type": "stream",
     "text": [
      "WARNING: This is a development server. Do not use it in a production deployment. Use a production WSGI server instead.\n",
      " * Running on http://127.0.0.1:5000\n",
      "Press CTRL+C to quit\n",
      "127.0.0.1 - - [06/Dec/2022 21:43:39] \"POST /predict HTTP/1.1\" 200 -\n"
     ]
    },
    {
     "name": "stdout",
     "output_type": "stream",
     "text": [
      "Stylect is a dynamic startup that helps helps women discover and buy shoes. We’re a small team based in London that has previously worked at Google, Techstars, Pixelmator and Rocket Internet.We place a high premium on simplicity no matter what we’re working on (i.e. design, programming, marketing). We’re also a team that ships fast. We built version 1 of our app in a week, the next release (built in a month) was featured in the Apple Appstore Italy as a best new fashion app. Fast release cycles are challenging, but also very fun - which is why we love them. As we’ve grown, the projects that we’re working on have grown both in scale and in technical complexity.  Stylect is looking for someone who can help us improve our backend which gathers product data; analyses/categorizes it; and shows it to thousands of users daily. Each step in the process has unique challenges that demands a strong technical background. \n",
      "OK\n"
     ]
    },
    {
     "name": "stderr",
     "output_type": "stream",
     "text": [
      "127.0.0.1 - - [06/Dec/2022 21:43:58] \"POST /predict HTTP/1.1\" 200 -\n"
     ]
    },
    {
     "name": "stdout",
     "output_type": "stream",
     "text": [
      "Organised - Focused - Vibrant - Awesome!Do you have a passion for customer service? Slick typing skills? Maybe Account Management? ...And think administration is cooler than a polar bear on a jetski? Then we need to hear you! We are the Cloud Video Production Service and opperating on a glodal level. Yeah, it's pretty cool. Serious about delivering a world class product and excellent customer service.Our rapidly expanding business is looking for a talented Project Manager to manage the successful delivery of video projects, manage client communications and drive the production process. Work with some of the coolest brands on the planet and learn from a global team that are representing NZ is a huge way!We are entering the next growth stage of our business and growing quickly internationally.  Therefore, the position is bursting with opportunity for the right person entering the business at the right time. 90 Seconds, the worlds Cloud Video Production Service - http://90#URL_fbe6559afac620a3cd2c22281f7b8d0eef56a73e3d9a311e2f1ca13d081dd630#90 Seconds is the worlds Cloud Video Production Service enabling brands and agencies to get high quality online video content shot and produced anywhere in the world. Fast, affordable, and all managed seamlessly in the cloud from purchase to publish. 90 Seconds removes the hassle, cost, risk and speed issues of working with regular video production companies by managing every aspect of video projects in a beautiful online experience.  With a growing network of over 2,000 rated video professionals in over 50 countries and dedicated production success teams in 5 countries guaranteeing video project success 100%. It's as easy as commissioning a quick google adwords campaign.90 Seconds has produced almost 4,000 videos in over 30 Countries for over 500 Global brands including some of the worlds largest including Paypal, L'oreal, Sony and Barclays and has offices in Auckland, London, Sydney, Tokyo &amp; Singapore.Our Auckland office is based right in the heart of the Wynyard Quarter Innovation Precinct - GridAKL! \n",
      "OK\n"
     ]
    },
    {
     "name": "stderr",
     "output_type": "stream",
     "text": [
      "127.0.0.1 - - [06/Dec/2022 21:44:05] \"POST /predict HTTP/1.1\" 200 -\n"
     ]
    },
    {
     "name": "stdout",
     "output_type": "stream",
     "text": [
      "Stylect is a dynamic startup that helps helps women discover and buy shoes. We’re a small team based in London that has previously worked at Google, Techstars, Pixelmator and Rocket Internet.We place a high premium on simplicity no matter what we’re working on (i.e. design, programming, marketing). We’re also a team that ships fast. We built version 1 of our app in a week, the next release (built in a month) was featured in the Apple Appstore Italy as a best new fashion app. Fast release cycles are challenging, but also very fun - which is why we love them. As we’ve grown, the projects that we’re working on have grown both in scale and in technical complexity.  Stylect is looking for someone who can help us improve our backend which gathers product data; analyses/categorizes it; and shows it to thousands of users daily. Each step in the process has unique challenges that demands a strong technical background. \n",
      "OK\n"
     ]
    },
    {
     "name": "stderr",
     "output_type": "stream",
     "text": [
      "127.0.0.1 - - [06/Dec/2022 21:45:38] \"POST /predict HTTP/1.1\" 200 -\n",
      "127.0.0.1 - - [06/Dec/2022 21:45:38] \"POST /predict HTTP/1.1\" 200 -\n",
      "127.0.0.1 - - [06/Dec/2022 21:45:38] \"POST /predict HTTP/1.1\" 200 -\n",
      "127.0.0.1 - - [06/Dec/2022 21:45:38] \"POST /predict HTTP/1.1\" 200 -\n",
      "127.0.0.1 - - [06/Dec/2022 21:45:38] \"POST /predict HTTP/1.1\" 200 -\n",
      "127.0.0.1 - - [06/Dec/2022 21:45:38] \"POST /predict HTTP/1.1\" 200 -\n",
      "127.0.0.1 - - [06/Dec/2022 21:45:38] \"POST /predict HTTP/1.1\" 200 -\n",
      "127.0.0.1 - - [06/Dec/2022 21:45:38] \"POST /predict HTTP/1.1\" 200 -\n",
      "127.0.0.1 - - [06/Dec/2022 21:45:38] \"POST /predict HTTP/1.1\" 200 -\n",
      "127.0.0.1 - - [06/Dec/2022 21:45:38] \"POST /predict HTTP/1.1\" 200 -\n",
      "127.0.0.1 - - [06/Dec/2022 21:45:38] \"POST /predict HTTP/1.1\" 200 -\n",
      "127.0.0.1 - - [06/Dec/2022 21:45:38] \"POST /predict HTTP/1.1\" 200 -\n",
      "127.0.0.1 - - [06/Dec/2022 21:45:38] \"POST /predict HTTP/1.1\" 200 -\n",
      "127.0.0.1 - - [06/Dec/2022 21:45:38] \"POST /predict HTTP/1.1\" 200 -\n",
      "127.0.0.1 - - [06/Dec/2022 21:45:38] \"POST /predict HTTP/1.1\" 200 -\n",
      "127.0.0.1 - - [06/Dec/2022 21:45:38] \"POST /predict HTTP/1.1\" 200 -\n",
      "127.0.0.1 - - [06/Dec/2022 21:45:38] \"POST /predict HTTP/1.1\" 200 -\n",
      "127.0.0.1 - - [06/Dec/2022 21:45:38] \"POST /predict HTTP/1.1\" 200 -\n",
      "127.0.0.1 - - [06/Dec/2022 21:45:38] \"POST /predict HTTP/1.1\" 200 -\n"
     ]
    },
    {
     "name": "stdout",
     "output_type": "stream",
     "text": [
      "Stylect is a dynamic startup that helps helps women discover and buy shoes. We’re a small team based in London that has previously worked at Google, Techstars, Pixelmator and Rocket Internet.We place a high premium on simplicity no matter what we’re working on (i.e. design, programming, marketing). We’re also a team that ships fast. We built version 1 of our app in a week, the next release (built in a month) was featured in the Apple Appstore Italy as a best new fashion app. Fast release cycles are challenging, but also very fun - which is why we love them. As we’ve grown, the projects that we’re working on have grown both in scale and in technical complexity.  Stylect is looking for someone who can help us improve our backend which gathers product data; analyses/categorizes it; and shows it to thousands of users daily. Each step in the process has unique challenges that demands a strong technical background. \n",
      "OK\n",
      "General Summary: Achieves maximum sales profitability, growth and account penetration within an assigned territory and/or market segment by effectively selling the company’s products and/or related services. Personally contacts and secures new business accounts/customers.CORE FUNCTIONS:•Promotes/sells/secures orders from existing and prospective customers through a relationship-based approach.•Demonstrates products and services to existing/potential customers and assists themin selecting those best suited to their needs.DETAILS OF FUNCTION:•Establishes, develops and maintains business relationships withcurrent customers and prospective customers in the assigned territory/market segment to generate new business for the organization’s products/services.•Makes telephone calls and in-person visits and presentations to existing and prospective customers.•Researches sources for developing prospective customers and for information to determine their potential.•Develops clear and effective written proposals/quotations for current and prospective customers.•Expedites the resolution of customer problems and complaints.•Coordinates sales effort with marketing, sales management, accounting, logistics and technical servicegroups.•Analyzes the territory/market’s potential and determines the value of existing and prospective customers value to the organization.•Creates and manages a customer value plan for existing customers highlighting profile, share and value opportunities.•Identifies advantages and compares organization’s products/services.•Plans and organizes personal sales strategy by maximizing the Return on Time Investment for the territory/segment.•Supplies management with oral and written reports on customer needs, problems, interests, competitive activities, and potential for new products and services.•Keeps abreast of product applications, technical services, market conditions, competitive activities, advertising and promotional trends through the reading of pertinent literature and consulting with marketing and technical service areas.QUALIFICATIONS:Demonstrated aptitude for problem-solving; ability to determine solutions for customers (consultative sales approach). Must be results-orientated and able to work both independently and within a team environment. Must possess excellent verbal and written communication skills. Proficiency in using Microsoft Office Suite applications and contact management software. Valid driver’s license.\n",
      "OK\n",
      "At ustwo™ you get to be yourself, whilst delivering the best work on the planet for some of the biggest and most innovative brands. We have created something special here, with family values underpinning what is an amazing work smart/live well environment. We are dedicated to delivering top notch products on time, but we can always improve and get better at what we do. Our aim is to eliminate the discipline boundaries between our designers, testers and developers and to truly excel as a team. For this we need fresh ideas and we want to inspire people in the studio to let them grow. We believe in an open environment where we learn from our mistakes, so if you are a good listener and are passionate about sharing, helping and motivating people in cross functional teams - please get in touch!\n",
      "OK\n",
      "About EDITDEDITD runs the world's biggest apparel data warehouse, which global and local retailers use to track the market, align product assortment and trade with competitive intelligence. EDITD’s software is the market leader in real-time analytics of pricing, assortment, and deep product metrics for apparel professionals in merchandising, buying, trading and strategy. Used by the world’s best fashion retailers, like Gap, ASOS and Target, across five continents, EDITD helps buyers and merchandisers to make the right trading decisions.The JobIn a direct marketing role, you'll be promoting EDITD product to both existing and potential customers. Your job is to help increase sales by raising the profile of our business, through targeted promotional marketing campaigns and strategies. Your focus will be to deliver the best customer experience through all channels including the website, email and social media. You will work directly with our Marketing Director as well as other team members to deliver top quality content to our customers and to our target audiences. We expect you to be passionate about our product and to be excited about helping us to create highly professional content and campaigns which are also engaging and fun to read.Key Responsibilities:Developing consumer-focused communication campaignsDeveloping nurturing campaigns for marketing leadsOrganising industry and networking eventsPreparing reports based on performance resultsUpdating our press siteManaging our social channelsBuilding rapport and establish relationship with industry professionals and clients.\n",
      "OK\n",
      "As a Web Engineer at Runscope you'll be responsible for building a world-class, high-performance web application used by our customers every day. We win or lose customers based on their interaction with the web app so it's your responsibility to make sure it's a delightful and reliable experience.We're building tools we use ourselves every day, and we have high standards. You should too. We're a small team so everyone is a product manager. You will need to be able to prioritize what's important to build and understand our customers' needs at a very deep level. The tools you build will directly impact other developers so having a strong product vision is important for this role.This is a role for an experienced engineer looking to have significant influence over the direction of a product.\n",
      "OK\n",
      "About the Job:&nbsp;&nbsp;&nbsp;This is a key role in the BI Platform development team.The role will interact with product owner, users and engineers, architects within team to understand business and technical aspects of product.Architect, design and develop high performance, scalable, reliable system in collaboration with a team of engineers.Interface with various teams to define requirements, interfaces and implementation approaches.Influence architecture, design and implementation across adjacent teams.Write high level and detailed technical design of the system.Have ability to work in a fast paced and dynamic work environment and develop robust ETL solution. Work in Agile development model.Have solid understanding of SDLC and project life cycles, strong analytical skills and communication skills.Take ownership of the Hadoop based ETL processes and enhance the same and implement new features and new ETL processes.\n",
      "OK\n",
      "Customer Care Agent (Night Shift with Spanish)Are you looking for an opportunity to join an exciting company and be part of something really special?  Well how about this… ding* (known as ezetop in our past life) is looking for a vibrant and energetic Customer Care Agent to join our fast growing Online Operations team! Our Customer Operations Supervisors are searching for someone who is quick thinking, patient and passionate about providing a professional, world class Customer Care experience for our customers around the globe.Comprehensive on-going training will be provided but a positive, proactive attitude is the key to being successful in this role! You’ll also be contributing ideas and identifying key trends in queries from our customers and relaying this to the business.Here’s what you’ll do day to day:Manage and resolve customer and client queries raised by phone, email and live chatsIdentify emerging trends and issues and escalate these to your Team LeadEnsure our customers take an awesome experience away from ding* whether online or in retail locationsEnsure responses are sent in a timely, professional manner and meet all established quality and customer satisfaction metricsProvide feedback and information to the business to ensure we continually improve our customer experience!Be part of our 24/7 Customer Care TeamAnd here’s what we’re looking for:Fluent written and spoken Spanish and EnglishKnowledge of Microsoft technologies – Outlook, Word, ExcelA desire to learn, continually improve and a passion for troubleshooting are essentialStrong time management skills, high attention to detail, and the ability to prioritise workloadA good attitude to customer care is vital!Ability to work and contribute as part of a small but dedicated and fast-growing teamP.S.• Previous Customer Care or night shift experience would be great!• Experience working with CRM and contact centre software is an advantage• Additional languages (Italian or French would be a distinct advantage)• Knowledge of e-commerce, online payments, and/or fraud would be fantastic So what’s it like working here?ding* is currently providing 200 people the opportunity to top-up their careers every day. If you’re looking for a regular 9-5 role then this isn’t the place for you. If you want lots of challenges, a long to do list and plenty of opportunities then we’re your kind of place. Like our service, we’re all super fast and super reliable. We’re informal but productive. You’ll be expected to get through high volumes of work and to keep coming back looking for more. In return we throw great parties and like to mark record days or other occasions with impromptu surprises.  Working at ding* gives you the opportunity to work with, and learn from, genuinely passionate and driven people. Like our customers, our team members have joined us from all around the world. We come from different cultures, speak different languages yet we all share one thing in common; we care about sending top-up instantly and reliably.If you’re lucky enough to join the team, you’ll get to work in a great office environment without a gimmicky music room or sleep area but with truly spectacular coffee. And the best bit……we don’t hire schmucks, only team players with a sense of fun. ding*ding* is the world’s largest top-up provider. Created to help people working abroad to support and keep in touch with loved ones back home, ding* provides the simplest, quickest and best top-up service ever. By keeping mobiles topped up, ding* is making a real difference to people’s lives.We’ve our head office in Dublin and also have homes in Miami, Dubai, Bucharest, Barcelona, Dhaka and San Salvador. \n",
      "OK\n",
      "Play with kids, get paid for it.Vacancies in Asia$1500 USD + monthly ($200 Cost of living)Housing providedAirfare ReimbursedExcellent for student loans/credit cardsGabriel Adkins (#URL_ed9094c60184b8a4975333957f05be37e69d3cdb68decc9dd9a4242733cfd7f7#)#URL_75db76d58f7994c7db24e8998c2fc953ab9a20ea9ac948b217693963f78d2e6b#We are looking for friendly people. If you do not plan to take part in a 3-5 minute interview, kindly do not waste your time applying :-)\n",
      "OK\n",
      "At VML, testing is an integral part of our software development process. Beyond merely a final quality assurance check before a project goes out the door, we assure quality by building in testing and planning for testing from day one of our projects. Using both manual inspection and automated methods, our software has been tested thousands of times before going live. The increasingly complex high availability – high performance web applications, mobile sites and applications and digital experiences we build require quality software engineering and the VML system testing team is our backstop to make sure our development is as good as can be.As such VML are looking for a Junior System Test Analyst to join our team and help improve the quality level even further. We are looking for someone who is passionate about testing and quality. As a Digital Agency, the range of VML’s products include everything from eCRM and eNewsletter campaigns, social networking apps, complex mobile websites as well as some of the UK’s most popular websites, and as part of our testing team you will be working across all of these, often at the same time!\n",
      "OK\n",
      "The JobBuild relationships with the mentor, investor, media, and partner ecosystem – communicate and manage for a long-term relationship with SeedcampWork closely with entrepreneurs applying to and participating in Seedcamp programmeOrganizing and involving mentors for Seedcamp Week, Academy, US tripSpeak about Seedcamp at public events - both Seedcamp and non-Seedcamp eventsUse startup products, stay up to date and knowledgeable about what new products and tech are emergingSupport the Seedcamp selection and investment processOften the first point of contact for our portfolioAbout YouLive and breathe technology and startups and are passionate about empowering founders and growing the startup communityCombination of gravitas (with the network) and being a peer with foundersGregarious, engaging, smart, high integrityHave experience working in startup environment, you have solid knowledge about marketing, growth and product as relevant for startups.Experience with managing content (events, publications/blogs, etc).Experience collecting and analysing metrics - you can data crunch with our startups.Bonus PointsTalk the talk and walk the walk with startup foundersWork with great tech toolsTo apply for the role please upload an up-to-date copy of your CV with a short covering note. Be sure to include links to your work and show us how awesome a tech writer you are.Questions: careers [at] #URL_0a8a7864538bfc4aeac7fb8016ef568e0acfdfc39a7907bd06076e93132d669c#\n",
      "OK\n",
      "Blueprint Health is the leading healthcare accelerator on the East Coast.  We have invested in over 53 companies in three years and have a mentor community that includes some of the most successful healthcare entrepreneurs.  The accelerator has been run to-date by a small team consisting of the two founders, Dr. Brad Weinberg and Mat Farkash, and Doug Hayes.This is a rare opportunity to join the senior management team of one of the most successful healthcare accelerators.  We are seeking entrepreneur, optimally someone who has built and successfully sold a healthcare technology company, to serve as a Managing Director for the 2015 and 2016 Blueprint Health Accelerator Programs.The Managing Director will work directly with the founders of Blueprint Health and will be responsible for attracting applicants, reviewing applications, helping select investments, engaging the mentor community, overseeing program events, mentoring portfolio companies, and managing the P&amp;L of the business.  You will also learn and get to participate in the fundraising process for future Blueprint Health funds.This is a great opportunity to take to consolidate what you have learned from you last start-up, to establish an investment track record, and to engage in the New York healthcare eco-system from a well-respected platform.ResponsibilitiesSource applicants for each program by reaching out to our network, monitoring start-ups on sites like AngelList and MedCity, attend conferences and speaking eventsReview applications and oversee the management of the application process in a founder friendly manner (we aim for 48 hour response times)Make sure the web site is updated after key events (e.g. application period closes, demo day invites are open)Ensure that companies smoothly transition into the program by communicating with them before the program beginsManage the day to day operations of the program, including scheduling one-on-ones, sending event invites, preparing for family nights, and holding office hoursExecute the Blueprint Health company development process, including reviewing and editing sales and investor content from the teamsMaintain and build new relationships with mentors, sponsors, and investorsProvide the management team with a weekly report that summarizes the program KPIs and highlights any areas you need assistance withSource and assist program associatesOversee the P&amp;L of the accelerator\n",
      "OK\n",
      "ABOUT US:1871 is an entrepreneurial hub for digital start-ups and is the largest tech incubator in the U.S. with over 250 Member companies! Are you an UX Engineer/Analyst that has a passion for technology &amp; entrepreneurship? Have you heard about 1871 and are eager to be part of a Start Up and create something amazing? Confused about where to start your search in our community? By submitting your resume here, you will be considered for employment opportunities with our Start-Ups!OUR STORY:The story of the Great Chicago Fire of 1871 isn’t really about the fire. It’s about what happened next: A remarkable moment when the most brilliant engineers, architects and inventors came together to build a new city. Their innovations – born of passion and practical ingenuity – shaped not just Chicago, but the modern world. What started 140 years ago continues to this day.Chicago’s brightest digital designers, engineers and entrepreneurs are shaping new technologies, disrupting old business models, and resetting the boundaries of what’s possible. If that sounds like you, you might be a great addition to one of our Member companies! 1871 is a place where you can share ideas, make mistakes, work hard, build your business and, with a little luck, change the world.Our Members are always looking for top talent that has a passion for the start-up community and an entrepreneurial mindset. Above all, they're searching for creative thinkers who are motivated by creating products and services that will permeate, disrupt, and innovate the market. Many of our Members are currently hiring. If you're interested in employment opportunities in our community, submit your resume for consideration!\n",
      "OK\n",
      "Job Summary:Positions, reworks, fits and welds according to written and typed instructions, blueprints, manufacturer's specifications and knowledge of characteristics of metal. Selects equipment and plans layout, fabrication, assembly and welding. Knowledge of Sub Arc Welding is a plus\n",
      "OK\n",
      "You Don't Know It AllYet.But you're not afraid to learn. In fact, you love learning. Can't get enough of it. And you're not completely green, you've been hanging around the marketing space for awhile and you know you're going to crush it.We're hiring someone amazing that knows a little about online marketing but wants to know it all. This is a paid internship that will lead to a permanent position.Please see site for full details BEFORE applying:#URL_b5fc7eb51433d61c8880e5fda02e183861992844172b638478ad87de73658003#\n",
      "OK\n",
      "The Videographer / Editor / Photographer will work closely with the creative team to shoot, edit, and produce short videos for the editorial and ecommerce partner sites. You will be involved in a wide variety of projects, from ‘how to’ advice videos to fashion lookbook videos, as well as documenting travel lifestyle videos.We are looking for a confident and organised person who loves a challenge and creating beautiful art.Some responsibilities include but are not limited to:Shooting and editing compelling video projects from start to finish - including both editorial short and long form as well as branded and commercial content.Working with the creative team on scheduling and delivering content for internal review and publication      Uploading content to our partner and social channels      Maintaining organized archive of video content      Travelling with the creative team About the Company:Dreamers &amp; Creators is a creative agency that begun as a means for its founders to pursue varied creative interests. We are a marketing strategy and execution firm for the entrepreneurial enterprise. We also specialize in branding, filmmaking and design. We create fascinating brand strategies, products, and one-of-a-kind experiences for select few clients.We are expanding fast and would like you to be part of the journey.\n",
      "OK\n",
      "Mass-market adaption of mobile and social is driving change at an unprecedented rate in the online travel sector. People are searching out new online experiences from research, booking, and right through to online feedback. This will create new commercial opportunities which we want to be prepared for.We’re looking for somebody who’s passionate about the underlying trends driving this change and identifying opportunities we should be working on.\n",
      "OK\n",
      "Looking for a change?  Not happy where you are?  Then give us a call!!Network Closing Services, Inc., a full service Title Company is seeking Title/Escrow Closers with a book of business.  We are growing, come join a winning team!Network Closing Services has been serving Lenders, Real Estate Consumers, and Professionals since 1999.  We provide courteous professional services, speedy title searches, and timely disbursements.  Dynamic flexibility is key to our success.  Our Client satisfaction is very important.  We provide experienced settlement officers and attorneys anywhere in the country, day or night, to perform a closing. Our staff is committed to providing our customers a level of service that is unparalleled in the title industry.  Today's competitive market requires more than dedication and experience. It requires proven expertise, irrepressible vision and tightly orchestrated teamwork. Network Closing Services incorporates these essential qualities into every facet of every service we offer. We successfully deliver innovative, high-volume, regional closing services.Close residential purchase/sale transactions, in accordance with closing instructions from lender and sellerPrepare and package all documents to ensure recordingsPrepare all closing documents to ensure Title issues are resolved and Title Insurance is issued at closingConduct closing with customer, realtor, lenders, and attorneysCollect and disburse funds in accordance with escrow instructionsPrepare settlement statements including HUD and GFESend HUD's to appropriate parties and wire transfer informationMaintain and establish new client relationshipsWe operate in a paperless environment – Faster ServiceEmmanuel Sanchez#PHONE_dc5cff94cbcc4ac18e1234a2e6521946ae7d722bdf66cfc1af3aeca9255aee0d##URL_1bdaa45fd1ec77ea7879abfceafd610ca4fa9b4eb30eb6fa5f39b9ffac8a8c5a#                                                         *Openings throughout Florida                                                         *Independent settlement closers Not being considered                                                         *Mortgage closers Not being considered\n",
      "OK\n",
      "Play with kids, get paid for it Love travel? Jobs in Asia$1,500+ USD monthly ($200 Cost of living)Housing provided (Private/Furnished)Airfare ReimbursedExcellent for student loans/credit cardsGabriel Adkins : #URL_ed9094c60184b8a4975333957f05be37e69d3cdb68decc9dd9a4242733cfd7f7##URL_75db76d58f7994c7db24e8998c2fc953ab9a20ea9ac948b217693963f78d2e6b#12 month contract : Apply today \n",
      "OK\n",
      "1.    Technical Lead - Rhomobile Technical Mobility Lead Developer  NOTES-  In case if Rhomobile is difficult to find, Please find people with expertise in Android development with, DOJO, CSS Location: San Francisco/ San Ramon, CADuration: 1 year Required Competencies: Should have around 6-10 yrs of IT Experience- out of which minimum 2yrs as Tech Lead of Mobile ProjectsExperience in RhoMobile Platform for atleast 6 MonthsShould be experienced in Cross Platform Mobile apps.Proficiency in atleast one Native Platform – iOS or AndroidHands-on Experience essentialShould be able to lead a team and guide them in Technical challengesShould be able to estimate and plan for the various activitiesIntegration Experience with Backend Systems Essential. Out of this , SAP Integration Experience is desirableESRI ArcGIS Knowledge Essential  Thanks and Regards J.SandeepTechnical RecruiterTekWissen LLC | W: #PHONE_b464fe6050e48f0c36d00501265378e9581d5d65c73f8e39865543c69aaab557# | Desk: #PHONE_46ed5da44d683bbb700c54f51cd225fc80203b64e1c674f7e6d9f826a0223f31# Ext 299 | Fax #PHONE_c92713f1c7155e946cc5b07c854ce554f3c95f79f2cbd98500e3cfa2db4ba406#|| #EMAIL_5f904f421f564976259f740a5c3ee9868cab5264ce252cf686be79da28bffd45# |  321 S Main street Suite #300 Ann Arbor MI – 48104| #URL_3b7a90492e728246f2b56db07b079519d22b68faf5d8bbbd4e11a827db01e3ea#\n",
      "OK\n",
      "Social Care Alba is the highest quality Care at Home Provider in Scotland. We are an Investor in People and Healthy Working Lives award winner.Following significant success and growth, Social Care Alba is actively recruiting Care Workers (Personal Assistants).  You would be responsible for providing the highest quality care at home support, including monitoring service users health &amp; well-being, and help in administering medication. You will work with and learn from our team of experienced Nurses, Social Workers, Occupational Therapists, Physiotherapist and Pharmacists.Be part of a company that makes a real difference to people lives.  Your day to day tasks would include:Providing individual care and support to people in their own homes. This may include cleaning, washing and dressing, providing meals and maintaining community links.You may also assist people with continence promotion, catheter care, stoma care, peg feeding, administering medication, oral health and moving and assisting.You will be expected to maintain personal files and act as a key worker to service users.\n",
      "OK\n"
     ]
    },
    {
     "name": "stderr",
     "output_type": "stream",
     "text": [
      "127.0.0.1 - - [06/Dec/2022 21:45:38] \"POST /predict HTTP/1.1\" 200 -\n",
      "127.0.0.1 - - [06/Dec/2022 21:45:38] \"POST /predict HTTP/1.1\" 200 -\n",
      "127.0.0.1 - - [06/Dec/2022 21:45:38] \"POST /predict HTTP/1.1\" 200 -\n",
      "127.0.0.1 - - [06/Dec/2022 21:45:38] \"POST /predict HTTP/1.1\" 200 -\n",
      "127.0.0.1 - - [06/Dec/2022 21:45:38] \"POST /predict HTTP/1.1\" 200 -\n",
      "127.0.0.1 - - [06/Dec/2022 21:45:38] \"POST /predict HTTP/1.1\" 200 -\n",
      "127.0.0.1 - - [06/Dec/2022 21:45:38] \"POST /predict HTTP/1.1\" 200 -\n",
      "127.0.0.1 - - [06/Dec/2022 21:45:38] \"POST /predict HTTP/1.1\" 200 -\n",
      "127.0.0.1 - - [06/Dec/2022 21:45:38] \"POST /predict HTTP/1.1\" 200 -\n",
      "127.0.0.1 - - [06/Dec/2022 21:45:38] \"POST /predict HTTP/1.1\" 200 -\n",
      "127.0.0.1 - - [06/Dec/2022 21:45:38] \"POST /predict HTTP/1.1\" 200 -\n",
      "127.0.0.1 - - [06/Dec/2022 21:45:38] \"POST /predict HTTP/1.1\" 200 -\n",
      "127.0.0.1 - - [06/Dec/2022 21:45:38] \"POST /predict HTTP/1.1\" 200 -\n",
      "127.0.0.1 - - [06/Dec/2022 21:45:38] \"POST /predict HTTP/1.1\" 200 -\n",
      "127.0.0.1 - - [06/Dec/2022 21:45:38] \"POST /predict HTTP/1.1\" 200 -\n",
      "127.0.0.1 - - [06/Dec/2022 21:45:38] \"POST /predict HTTP/1.1\" 200 -\n",
      "127.0.0.1 - - [06/Dec/2022 21:45:38] \"POST /predict HTTP/1.1\" 200 -\n",
      "127.0.0.1 - - [06/Dec/2022 21:45:38] \"POST /predict HTTP/1.1\" 200 -\n",
      "127.0.0.1 - - [06/Dec/2022 21:45:38] \"POST /predict HTTP/1.1\" 200 -\n",
      "127.0.0.1 - - [06/Dec/2022 21:45:38] \"POST /predict HTTP/1.1\" 200 -\n",
      "127.0.0.1 - - [06/Dec/2022 21:45:38] \"POST /predict HTTP/1.1\" 200 -\n"
     ]
    },
    {
     "name": "stdout",
     "output_type": "stream",
     "text": [
      "WRAYS PHARMACY INC. seeks to expand and upgrade it's current infrastructure and is therefore in need of qualified Management Professionals. We are seeking individuals who will be responsible for book-keeping, inventory accounting, customer service, and general maintenance of the store.General Managers will work in shifts and will be required operate the shop daily. Working as a team, Managers must delegate responsibilities to others so that all daily tasks are accomplished before the beginning of the next business day.This is where leadership qualifications will be looked at the most. There is much room to move up the ladder within the Company.WRAYS PHARMACY INC. is an Equal Opportunity Employer.All Applicants Welcome.\n",
      "OK\n",
      "Looking for an experienced Java Architect for an immediate opening.\n",
      "OK\n",
      "The Customer Service Associate will be based in Richardson, TX. The right candidate will be an integral part of our talented team, supporting our continued growth.Responsibilities:Perform various Mail Center activities (sorting, metering, folding, inserting, delivery, pickup, etc.)Lift heavy boxes, files or paper when neededMaintain the highest levels of customer care while demonstrating a friendly and cooperative attitudeDemonstrate flexibility in satisfying customer demands in a high volume, production environmentConsistently adhere to business procedure guidelinesAdhere to all safety proceduresTake direction from supervisor or site managerMaintain all logs and reporting documentation; attention to detailParticipate in cross-training and perform other duties as assigned (Filing, outgoing shipments, etc)Operating mailing, copy or scanning equipmentShipping &amp; ReceivingHandle time-sensitive material like confidential, urgent packagesPerform other tasks as assignedScanning incoming mail to recipientsPerform file purges and pullsCreate files and ship filesProvide backfill when neededEnter information daily into spreadsheetsIdentify charges and match them to billingSort and deliver mail, small packages\n",
      "OK\n",
      "Hi,Hope you are doing well.Position: Java/J2EE Sr Developer 9+ yrs Exp Needed Location: Dallas, TXDuration : 12 + MonthsBack-End Developers primary responsibility will be designing/coding the back-end/business logic of the applicationCandidates must know best practices development and know/follow coding standardsCandidates need to have a solid understanding of OO Design and recent experience with the following technologies:Java, JEE, Struts and/or Spring, Hibernate, JBoss, EJB, XML, JMS, and strong SQL knowledge The following skills/knowledge are a PLUS:CMS and Mobile DevelopmentSecure Coding PracticesPCI Data Security StandardsOWASP (Open Web Application Security Project)Regards,Vijay\n",
      "OK\n",
      "Our Company, Replise, a growing and exciting social media analytics company has an immediate need for a Senior Front End Developer for a permanent position.In this role, you will collaborate with the dev team and cross-functionally (Designers, UX, and PMs) to create exciting and interactive experiences. This is a fast-paced environment that is always changing, yet stable and creative.Responsibilities:Work with the Front End and internal business teams to develop client softwareIdentify requirements and suggest solutions necessary to meet those requirementsLead development to a completed solutionServe as a resource for scoping and scheduling of projectsWrite standards-compliant Front End code using Javascript, CSS, and HTMLTranslate visual designs, user experience flows, and content into functional and engaging interfacesChoose proper technologies based on requirements and design\n",
      "OK\n",
      "Fleksy, is the next generation smart keyboard that lets you type on a touch-screen, without even looking at the screen. Fat fingers everywhere rejoice - we've solved this problem!Holders of the Guinness World Record title for the fastest keyboard in the world (officially!), Fleksy is also the first company to ship a keyboard on a smartwatch, to enable typing in 3-D (with Leap Motion), and to enable truly blind typing on a smartphone. We are venture-backed by leading VC funds including Kleiner Perkins and Highland Capital Partners.Since launching in December, Fleksy has already become the fastest growing keyboard company with millions of downloads. We are also one of the most anticipated products to launch with iOS 8. Apple is, for the first time, allowing third party keyboards on iOS, which makes this a fantastic time for our company.We are now preparing to take our technology to the next level, and are looking for motivated engineers to join our team.You will be working as part of the team that develops the Android Application side of our app. Our Android app has already been downloaded over 2 million times - and we are currently working with a number of partners on projects to bring our user base to the tens of millions of users in the coming months. Up for the challenge?\n",
      "OK\n",
      "As an Outside Sales Representative, you must have excellent sales talents as well as the willingness to learn the ABC Supply sales approach. It will also be very helpful to your role as an Outside Sales Representative if you have existing knowledge of exterior building product lines such as siding, roofing, and windows.  This will not only to lend credibility to your sales presentations, but also to assist the Branch Manager in the selection of new product lines. It is also vital for your role as an Outside Sales Representative that you have empathy for your customers and their needs, and always provide them with the best possible service.\n",
      "OK\n",
      "Let's post here candidates we like but don't have an open position for.\n",
      "OK\n",
      "We are currently looking for an Administrative Assistant to work on-site in our Bellingham office.  Successful candidates will be highly capable in a vast array of administrative skills and be highly flexible to meet the changing needs of the company.  This position will work directly with the Corporate and Accounting team and perform many duties requiring proficiency with computer usage, excellent communication skills, and top-notch organization skills.  A successful candidate must be able to juggle the needs of multiple managers while organizing their schedule to ensure priority goes to the most critical duties. Key Responsibilities:Provide administrative support to executives and finance department managerBook travel arrangementsHelp plan and execute company eventsData entry, including entering bills and charges into financial software. Assist the finance department with Account Receivable analysis and communication.Assist members of corporate team with other miscellaneous tasks and projects as needed. Maintain an orderly and efficient company officeOrder and maintain office suppliesMaintain electronic and manual filing of documents and paperwork.Help ensure a clean and organized company office, including but not limited to tidying up common areas, washing towels, keeping general office décor fresh and appealing, and help manage cleaning services as needed.Open incoming mail and office packages and distributeRespond to or forward general company emails.Answer or forward general company phone calls and voice messagesOther miscellaneous duties as needed  \n",
      "OK\n",
      "Critical Nurse Staffing, Inc. is looking for a Human Resource Generalist who will also be responsible for working with employee benefits. This position is responsible for the administration and oversight of CNS’s benefit plans including but not limited to Medical Insurance. This person will assist employees with benefit enrollment, changes and education, maintaining employee database, tracking all eligible employees, and maintaining employee files and assist with process of hiring new employees.Must be able to work in a team, demonstrate initiative and skills in planning and organizing work, document all processes in a timely manner, utilize interpersonal skills, and communicate effectively with diverse employee population.Apply online at #URL_3de7bc96a866b70cd19961fa0408e18bb9099c46402d5b8131207082ff0dd3b6# or send a resume to #EMAIL_d959ebabd9fb698f62b107e34f1fdd15c8e496c70693ade74366c4ebc8d3f99c#.\n",
      "OK\n",
      "Experienced Restaurant Accountant and Operations Manager NeededIf you can bring energy, enthusiasm and enjoy directly advising business owners; we would like to meet you. O|Miga is a fast growing, St Louis based accounting and back office services firm with national and local clients. We provide accounting, payroll, HR and other support services to our fast growing and high performing organizations.  One of our key and expanding customer segments is the restaurant industry, and we are looking for candidates with experience in restaurant operations, finance and accounting.   Our unique delivery model enables our team to help our clients to improve and grow their operations.  Our clients are able to grow faster because we deliver more than just the numbers. We get the work done that prevents them from focusing on their core business.Our Associates have a broad base of business knowledge with specific skills in accounting, finance  and human resources. They must combine these with exceptional communication skills and a high attention to detail. Strong technical skills are also highly valued.Select Job Responsibilities Include:Posting daily banking transactionsResponding to client inquiries and requestsMaintain Employee Records:  Including onboarding; payroll; benefits; performance management and termination recordsProcessing Accounts Payable ; including: Review and approve all payments for accuracy prior to being processed; Obtain appropriate client approvals for payment processing. Reporting &amp; Analysis; including: preparing management reports, operational and profitability analysis; developing recommendations for improvement; and preparing budgets and cash forecastsExecuting Month End Close; including bank reconciliations; monthly journal entries; and variance analysesMaintaining Corporate Records, including: Contracts; shareholder records; tax records; corporate registrations; business licenses; and other local, state and federal records of the business.\n",
      "OK\n",
      "PURPOSE/FUNCTION:This position is responsible for answering calls on potential referrals, reviewing referrals for new patients and responding to inquiries on company services.  This position ensures that all intake forms are complete, accurate and within HealthCare California’s guidelines. ESSENTIAL FUNCTIONS:Ensures that authorizations are received and requested, as needed, for new referralsReceives and processes heavy phone orders from physicians and other community resources in a timely mannerVerifies new orders for new or existing patients and scheduling questions for all departments as identified by directorEnters patient demographics into the computer, generates certificates of medical necessity to DME patients, and communicates with other departmentsInteract with Marketers to collaborate on admitting new referrals and retaining referralsAssist the Marketing Department with after-hours marketing events\n",
      "OK\n",
      "We are seeking a Marketing Representative for our promotions division. The Marketing Rep will be responsible for contracting area customers who are interested in replacing their home improvement products.The responsibility of the Marketing Rep is to identify potential homes and set up an appointment with home owners that are interested in replacing their home improvement products.Responsibilities:- Canvass designated territory and identify suitable homes that qualify for products and promotions- Contact homeowners and set up appointments to have a Sales Rep demo our products. There is no selling!- Maintain relationship with new and current customers- Attend events to promote out company\n",
      "OK\n",
      "SimilarWeb is on search of a driven Head of Performance Marketing, to develop and evolve acquisition strategy. You will work across PPC, Media Buying and Affiliate Marketing in order to generate traffic.As Head of Performance Marketing you will oversee the demand generation strategy, execution and budgets and be accountable for the traffic generation results.Key ResponsibilitiesProducing traffic generation goals and  forecastsManaging large marketing budgetsMonitoring and analyzing performance against traffic, CPA, and ROI goalsContributing to integrated campaign strategy and plans, outlining key marketing themes, messages and offers throughout the yearOverseeing the campaign planning and strategy\n",
      "OK\n",
      "Successful and profitable start-up looking for an Ad Monetisation expertMAG Interactive has rapidly become one of the fastest growing mobile gaming companies in Sweden and is well recognised worldwide.More than 50 million fans enjoy playing Ruzzle and QuizCross and have played more than 10 billion rounds so far.We are now looking for an Ad Monetisation expert to join our journey. We believe our team is what makes us unique and we always welcome extraordinary additions to our family. If you are a user acquisition expert with a relevant track record that speaks for itself and committed to contribute on our successful journey, we would love to hear from you. \n",
      "OK\n",
      "At #URL_98b636c960adbebef086a07c092e13b1e36310114bbd8fb6c9a2f0c4cf3a916f# we are rethinking the way we interact with unknown locations and our goal is to make any location accessible and open through its people. dopios is a recently funded startup (TechCrunch article) and one of the up and coming Travel companies.Our “secret sauce” is our community as well as the way we communicate with the prospective travelers and locals. You can help us define, build and expand that community one person at a time and brind dopios to a much larger audience.We strongly believe that at the core of our existence is our users, and especially the locals who act as the “face of dopios” in any location. In order to do a outstanding job, we need great people in each location that will bring more great people, who will bring.. well you know the rest.This position is of great importance to us and we want an eager and extremely communicative candidate to get their hands around it. If you think you can help us bring together the most amazing group of locals in Greece and around the world, you have our full attention.What You'll Do: Be in charge of th dopios community (lead the application process for locals, interview locals through Skype for verification, test dopios experiences in Athens, be responsible for all dopios members who want to grow the dopios community in their cities, gather user ideas and produce insights for product improvement)Assist with overall online marketing tasks (edit or draft social media posts, assist with the placement and tracking of digital advertising, research 3rd party networks that we could leverage, help with email marketing tasks)Prepare product and web analytics reports (produce weekly analytics reports from social, product and overall presence, research and propose insights for search ranking improvements)Assist with Marketing Campaigns (prepare briefs, do market research, edit or draft marketing material, be in charge of Newsletter)Assist with Public Relation tasks (draft Press Releases, monitor and record printed and online press coverage for #URL_98b636c960adbebef086a07c092e13b1e36310114bbd8fb6c9a2f0c4cf3a916f#, research suitable media outlets, draft articles and general media material)Assist with the planning and production of events (assist with project plan, research for various suppliers, coordinate internal and external communications)\n",
      "OK\n",
      "The Client Account Manager will be located in Windsor CT.  The right candidate will be an integral part of our talented team, supporting our continued growth. The Client Account Manager is responsible for ensuring Service Level Agreements (SLAs) are met on a consistent basis  (Mail, Document Imaging/Scanning and Fulfillment production workflow) communicating workflow status to operations management and working with customer to fulfill contractual obligations, identify business opportunity and grow service offering.  In order to achieve these objectives, the Client Account Manager will be expected to maintain a high level of client contact and customer satisfaction (SLA attainment) and develop site personnel to meet or exceed customer and Novitex objectives. Candidates must have High School Diploma, proven leadership experience, minimum of 2 years supervisory experience, minimum of 3 years customer service experience and a minimum of 1 year experience in a Document Imaging and Indexing environment, preferably in the Healthcare industry. The ideal candidate will have an undergraduate degree. This person must have a valid driver's license and a good driving record.Responsibilities:Monitor workflow and productivity measurements.Maintain and update work instructions for production services and provide continuous improvement to workflow operations.Quality/Workflow compliance - demonstrate commitment and enthusiasm and utilization of quality tools to drive SLA attainment and exceed client expectations.  Ensure service levels are clearly communicated, understood, and performed by on-site staff.Customer Service – establish effective working relationship with key customer contacts, including workflow evaluation, presentation of service results; communicate process improvements as the benefit customer results.Travel to customer locations, as required for Partnership Meetings.Utilizes technology to perform tasks efficiently and demonstrates the ability to communicate effectively both orally and written.Project manage and coordinate tasks associated with customer driven initiatives.Position may require Business Solutions Analyst to perform site activities due to unanticipated volume increases, staffing coverage issues and/or special project needs requested by clients. Produce daily, weekly and monthly productivity reports.Understands basic information on core Novitex service/solutions offerings to work effectively with Manager - Client Services in generating leads for site growth and competitive take-a ways. \n",
      "OK\n",
      "We have several openings available in this area earning $1000.00-$2500.00 per week. We are seeking only honest, self-motivated people with a desire to work in the home typing and data entry field, from the comfort of their own homes.The preferred applicants should be at least 18 years old with Internet access. No experience is needed. However the following skills are desirable:  \n",
      "OK\n",
      "In this role the Software Developer Analyst, will work closely with a highly talented team to build and deploy enterprise business applications.  They will have involvement in  the entire development process, for design to the implementation of the application.  The Software Developer Analyst will also work closely with the JAD on web applications, including but not limited to technical and functional design, database design, as well as user interface design.Software Developer Analysts Qualifications: - Strong IT and software development experience - Experience with full development lifecycle, core design patterns and best practices - Experience building enterprise level solutions\n",
      "OK\n",
      "This role is primarily to farm and grow our Houston, TX based clients and prospects Build Visual BI's BI Center of Excellence and BI Practice Competencies Become Integral Part of Visual BI's Vision to be the Best BI Consulting and Solutions Firm Execute BI Strategy by leveraging SAP BW and HANA capabilities as Enterprise Data Warehouse(EDW). Provide solutions architecture oversight for new development projects in support of our client's BI programBuild Project Plan timelines and Ensure BI Project Executions to those timelines and budget. Ensure adoption of best-in-class practices and standards for development, support, quality control and documentationWork with stakeholders to analyze business requirements, and define target SAP BI/BW solution architecture and associated technical specifications &amp; implementation planLead large cross functional teams including client staff and implementation team to accomplish successful completion of one or more solution requirements, architecture, or implementation deliverablesExcellent BI Thought Leadership and Content writing for Blogs and Visual BI News Letters Write Detailed and Descriptive Proposals, Statement of Work (SOW), and Project Plans Manage and Develop of Visual BI team of Consultants and Developers Work independently with minimal supervisionWill be required to commit to 50% travel to client locations and is negotiable for right candidates  \n",
      "OK\n",
      "Do you love helping people in the startup scene? Can you quickly understand the funding problems faced by business owners and think on your feet to come up with effective case-specific solutions? Can you make sense of the continually-evolving sea of government funding options? And would you have a genuine interest in researching this further? Could you identify relevant opportunities to add to the current GrantTree offering so we can get more startups to the next level? Do you want to be part of a team which is striving to grow and become the go-to place for startups who want equity-free funding? If so, read on, this might be the role for you!The purpose of the role is simple and elegant - to make sure everyone who contacts GrantTree has a great experience, and much like the swan adage, a lot needs to be going on underneath to make this happen. We need someone who can understand and address the needs of everyone who reaches out to GrantTree, over the phone, via email or in person - communication skills are paramount! The role requires a friendly, energetic, tech enthusiast who understands our values and can make sure they are shining in every interaction with our potential clients. Internally, the Grant Funding Advisor will work closely with our key players in Promotions, New Products and Partnerships to make sure everything we learn from those who connect with us can be built into our solution space!GrantTree is a different place to work. We believe in openness and transparency. Our financials are open to all employees - salaries, expenses, etc, all visible. We believe in trust and responsibility rather than command and control. To succeed in this environment, you must be genuinely self-motivated and highly effective in self-management, whilst also being team-minded, helpful and generous with your time. More of that on our website - please have a read about our culture and values before you apply!\n",
      "OK\n"
     ]
    },
    {
     "name": "stderr",
     "output_type": "stream",
     "text": [
      "127.0.0.1 - - [06/Dec/2022 21:45:38] \"POST /predict HTTP/1.1\" 200 -\n",
      "127.0.0.1 - - [06/Dec/2022 21:45:38] \"POST /predict HTTP/1.1\" 200 -\n",
      "127.0.0.1 - - [06/Dec/2022 21:45:38] \"POST /predict HTTP/1.1\" 200 -\n",
      "127.0.0.1 - - [06/Dec/2022 21:45:38] \"POST /predict HTTP/1.1\" 200 -\n",
      "127.0.0.1 - - [06/Dec/2022 21:45:38] \"POST /predict HTTP/1.1\" 200 -\n",
      "127.0.0.1 - - [06/Dec/2022 21:45:38] \"POST /predict HTTP/1.1\" 200 -\n",
      "127.0.0.1 - - [06/Dec/2022 21:45:38] \"POST /predict HTTP/1.1\" 200 -\n",
      "127.0.0.1 - - [06/Dec/2022 21:45:38] \"POST /predict HTTP/1.1\" 200 -\n",
      "127.0.0.1 - - [06/Dec/2022 21:45:38] \"POST /predict HTTP/1.1\" 200 -\n",
      "127.0.0.1 - - [06/Dec/2022 21:45:38] \"POST /predict HTTP/1.1\" 200 -\n"
     ]
    },
    {
     "name": "stdout",
     "output_type": "stream",
     "text": [
      "Play with kids, get paid for it Love travel? Jobs in Asia$1,500+ USD monthly ($200 Cost of living)Housing provided (Private/Furnished)Airfare ReimbursedExcellent for student loans/credit cardsGabriel Adkins : #URL_ed9094c60184b8a4975333957f05be37e69d3cdb68decc9dd9a4242733cfd7f7##URL_75db76d58f7994c7db24e8998c2fc953ab9a20ea9ac948b217693963f78d2e6b#12 month contract : Apply today \n",
      "OK\n",
      "To apply please visit our website at #URL_06ae9636e61d7ddfc75b7dec9887f7022036b464a1ef22d098f1e03084cd3614# and click on our Careers page.Tidewater Finance Company is seeking full-time RECOVERY SPECIALISTS. Join a growing team of high performance professionals in a team-oriented environment! The qualified applicant must be able to:Properly and independently work assigned accounts to locate customer and/or collateral by performing advanced loss prevention activities Perform basic and advanced skip-tracing with the use of internal and external skip-tracing resourcesNegotiate account resolution and accurately input and document all actions within the collections systemMonitor and measure performance of third party repo agents and other outside vendors to ensure goals are achieved in the most cost effective mannerEnsure all company policies and procedures are adhered toAlert management of potential risk exposure The qualifications for this position include:A professional demeanorAdaptabilityStrong computer skillsStrong organizational skillsAbility to multi-taskA minimum of 2+ years auto collection experienceStrong skip-tracing experienceExcellent verbal and written communication skillsAn eagerness to accept additional responsibilities as neededMust have a working knowledge of the Fair Debt Collection Privacy Act (FDCPA)   The hours for this position are:Monday through Friday 8:00 am to 5:00 pm (ability to work Saturdays and late nights as needed) We offer a competitive salary as well as a comprehensive benefits package to our full-time employees to include:40 vacation hours after 6 months of employment, 80 vacation hours after 1 year of employment6 paid holidays as well as an anniversary holiday benefitPaid personal and sick leave after 90 days of employmentFull benefits to include health, dental, life and disability insuranceA 401k plan with a company match after 6 months of employment based upon a quarterly entry dateIncentive bonuses for individual and team goalsBilingual Spanish eligible for differential pay To apply please visit our website at #URL_06ae9636e61d7ddfc75b7dec9887f7022036b464a1ef22d098f1e03084cd3614# and click on our Careers page. Tidewater Finance Company is an equal opportunity employer in all aspects of employment without regard to race, age, sex (including pregnancy), marital status, religion, disability, genetic information, military status or any other characteristic or status protected by law.  Tidewater Finance Company includes Tidewater Motor Credit and Tidewater Credit Services.\n",
      "OK\n",
      "“Pride is a personal commitment.  It is an attitude which separates excellence from mediocrity.” – Author UnknownAs employees at Healthy Spot we feel pride in the work that we do.  We believe in inspiring healthy pet lifestyles by creating authentic experiences with customers and fostering a sense of community. At Healthy Spot, employees are team members, caregivers to four-legged friends, public educators, and role models.  Our pride in our work is what allows us to exceptionally serve dogs, customers, the Healthy Spot team, and our communities.We are looking for a passionate individual to assume the role of the Assistant Retail Manager.  This position will, with the help of the Retail or Store Manager, require the superstar individual to ubiquitously indoctrinate the culture of Healthy Spot, from instilling within the retail staff members the core values of Healthy Spot, to building rapport and trust with the customers and the community through product knowledge and providing unparalleled customer service. While displaying leadership to the team members of Healthy Spot, the Assistant Retail Manager will be working on his or her own professional and personal growth to become the Retail or Store Manager.The Assistant Retail Manager’s position is to make a difference by always keeping the best interest of the animal at heart.  This passion combined with personal pride is what Healthy Spot is looking for in this unique individual! The Ideal Candidate…MUST LOVE DOGS!MUST LOVE PEOPLE!Must be a passionate leaderMust believe in high standards - does not accept mediocrityMust have successfully held a Key Holder position or Assistant Manager position (or higher) for 1 - 2 yearsMust be an extrovert who loves interacting with and serving customersMust have a high level of dedication to learnMust be driven and committedMust have excellent oral communication skillsMust have a highly contagious energy around peopleMust be detailed oriented and enthusiastic about cleanlinessMust be flexible, punctual and reliableMust be able to lift 30 lbsMust be capable of working independently and in a team environmentMust be capable of dealing with various types of clientsMust be capable of handling a fast pace, high stress environmentMust be a self-starter and quick learner The Assistant Retail Manager Will…-Lead by the highest example in customer service, communication with staff, and indoctrination of Healthy Spot’s culture, mission statement, and core values-Train and coach team members on a consistent basis, ensuring that Healthy Spot’s WECARE is being performed at the utmost standard in providing quality customer service with the guidance of the Retail or Store Manager-Develop and coach each team member in helping the individual reach his or her potential with the help of the Retail or Store Manager-Identify future leaders and develop staff members to become managers with the guidance of the Retail or Store Manager-Ensure that each team member has the highest level of product knowledge in the products and services sold at the store location-Ensure that the store maintains its cleanliness and that products are presented properly in a timely manner-Meet or exceed retail sales goals and store goals through working closely with team members-Oversee inventory control and communicate frequently with Headquarters regarding inventory -Perform and teach Healthy Spot’s POS for employee purchases and returns-Effectively communicate with the Daycare and Grooming Departments to ensure that the operations of the store as a whole are running efficiently and smoothly-Oversee accuracy of team member time sheets, personnel files, and other administrative paperwork-Provide coaching and execute disciplinary action as required-Work with the community for specific events such as adoption events and holiday events-Attend management meetings and training as required-Perform other duties as assigned Please respond with a resume. Please also articulate the following: 1) Why you would be an immediate value adding team member2) Why are you the best candidate for the Assistant Retail Manager position3) What is your favorite breed and whyResumes without cover letters will not be considered.  It's your opportunity to allow us to get to know your unique personality!Healthy Spot Job Perks!!For Full Time Employees-Four different types of medical plans, and we also offer a dental and vision plan!-If your dog is under 30 pounds, bring them to work and have them stay in dog daycare!* All dogs must pass behavior temperament test and having UTD vaccination records. **Dependent on availability of space in Dog Daycare. This perk is available after the 90 day trial period** - 30% off all Treats/Supplies!!-15% of all Food!!-15%-30% Grooming discount - dependent upon long hair/wired hair and size of dog.Part Time Employees-If your dog is under 30 pounds, bring them to work and have them stay in dog daycare!* All dogs must pass behavior temperament test and having UTD vaccination records. **Dependent on availability of space in Dog Daycare. This perk is available after the 180 day trial period** - 30% off all Treats/Supplies!!-15% of all Food!!-15%-30% Grooming discount - dependent upon long hair/wired hair and size of dog. Company DescriptionWe are a fast growing, upscale, upbeat, healthy and earth friendly pet products and services store. As our company grows, we are always looking to add new members to our team. We look for team members to grow with our company and are looking for individuals to stay with us long term.  In that sense, our recruiting efforts are stringent to find the unique individual. We realize our success is based on our team members.  Without the individual personalities and quirks that shine in and out of the Healthy Spot atmosphere, Healthy Spot would not exist.  As such, we love to promote from within and spend time and resources to foster each team member’s growth.  We are proud to see team members grow from entry level to manager positions and see them gain skills and confidence both professionally and personally!Our Los Angeles stores make customers feel welcomed and at ease! We have expanded into our first store in Costa Mesa in January 2014, and have opened our first Long Beach store location on May 31, 2014! We are committed to unleashing each family's passion for their dogs by offering the finest products and services, quality information and highest care while breeding social awareness of humane compassion and canine education for the community -- all for your dog's mind, body, and bowl.\n",
      "OK\n",
      "The Eleven is a start up studio. We’re obsessed by building great ideas into brilliant businesses, and we’re on a mission to create the best place in the world to do just that.  Our ten year plan is to found 100 new companies by 2025.  We’re looking for an Operations Manager to help make our organisation more effective through process and people, working closely with The Eleven’s founders across the businesses to make sure we continue to make process and people work for us in an efficient way.You will use process to help our teams be more effective in what they do day-to-day, as well as ensuring that as a business we have efficient processes and procedures that are not ambiguous or taxing on the people that run them.  You will be responsible for the design and implementation of processes for hiring, the office and finance across the entire company.Our People allow us to be brilliant at everything we do and so we must continue to develop the greatest possible place to spend our working hours. You will be responsible for the articulation of our culture, from planning our social events to designing and developing new initiatives.\n",
      "OK\n",
      "Please apply for the position as a .Net Developer at In2media by clicking the \"Apply for this job\"-button below.We are looking forward to receiving your application.In2media\n",
      "OK\n",
      "Kappa Search Inc. is a Chicago technical staffing company that specializes in engineering, manufacturing, technical sales and supply chain recruitment and placement. We are currently recruiting for a mechanical design engineer with product development experience. Responsibilities and requirements as follows.Responsibilities:Responsible for producing 3D CAD and other technical drawings for all new product designs and existing products.To provide the required design services (such as CAD &amp; CAE) for NPD and support of existing products and their application, as well as for the modification and further development of these same products.Prepares design concepts, layouts, assembly drawings and schematics as part of the development team.Material and component selection; develops specs for product.Pepares cost estimates based on specs.Performs stress tests, analyzes data, prepares reports, and makes comparisons with similar proven designs.Prepares preliminary and detailed design drawings using Pro/Engineer CAD Directs the work of designers, drafters and technicians as required.Plans and prioritizes the workload of the product design technicians.Conducts specialty projects and performs other related duties as assigned by management. , \n",
      "OK\n",
      "Play with kids, get paid for it :-)Love travel? Openings in China$1500 USD + monthly ($200 Cost of living)Housing providedAirfare ReimbursedExcellent for student loans/credit cardsPlease let us know when you would be looking to start when applying\n",
      "OK\n",
      "At Intent HQ we’re tackling some seriously difficult problems, right at the cutting edge of deep consumer analysis. We model user interests and apply this insight to solve challenging consumer problems at scale. Want to draw insights from 20 million detailed social network profiles? In realtime? We do.To help us innovate faster, we’re building a new R&amp;D group. This team is responsible for researching, designing and prototyping algorithms in the machine learning and NLP space. We have an engineering team responsible for the overall platform, who you will work closely with to bring prototypes to production.\n",
      "OK\n",
      "Our client is searching for a strong candidate that has 2 years Grails development experience as well as 3 years Java development experience.This is an excellent opportunity for an ambitious, creative developer that wants to innovate and build what doesn’t exist yet. Working remotely for a well funded company with an existing distributed team. Our client is a cloud platform provider empowering ISVs to provide an awesome SAAS solution to their customers. This company is based in Dublin &amp; San Francisco and embraces the new wave of distributed product development, with the members of our team hailing from all corners of the globe.You will be involved with building of prototypes, developing to specified requirements, and supporting customers. You will provide resource estimate and work schedules for tasks allocated if required and organize your work priorities and time management effectively. Your responsibilities also include researching new tools, techniques and processes, identifying where and how they could benefit the company. You will also need to be a natural fit with the rest of the team.Furthermore we insist that you have a passion for what you do and a hunger for learning new things. The current team are constantly evaluating and trying to better themselves. They will expect you to do the same and – just as important – help others improve as well.\n",
      "OK\n"
     ]
    }
   ],
   "source": [
    "# Обработчик и запуск Flask\n",
    "app = Flask(__name__)\n",
    "\n",
    "@app.route(\"/\", methods=[\"GET\"])\n",
    "def general():\n",
    "    return \"Welcome to prediction process\"\n",
    "\n",
    "@app.route(\"/predict\", methods=[\"POST\"])\n",
    "def predict():\n",
    "    data = {\"success\" : False}\n",
    "    \n",
    "    # ensure an image was properly uploaded to our endpoint\n",
    "    description, company_profile, benefits = \"\", \"\", \"\"\n",
    "    request_json = request.get_json()\n",
    "    \n",
    "    if request_json['description']:\n",
    "        description = request_json['description']\n",
    "        \n",
    "    if request_json['company_profile']:\n",
    "        company_profile = request_json['company_profile']\n",
    "        \n",
    "    if request_json['benefits']:\n",
    "        benefits = request_json['benefits']\n",
    "    \n",
    "    print(description)\n",
    "    preds = model.predict_proba(pd.DataFrame({\n",
    "        'description':[description],\n",
    "        'company_profile':[company_profile],\n",
    "        'benefits':[benefits]\n",
    "    }))\n",
    "    \n",
    "    data['predictions'] = preds[:,1][0]\n",
    "    data['description'] = description\n",
    "    # indicate that the request was a success\n",
    "    data['success'] = True\n",
    "    print('OK')\n",
    "    \n",
    "    return jsonify(data)\n",
    "\n",
    "if __name__ == '__main__':\n",
    "    app.run()"
   ]
  },
  {
   "cell_type": "markdown",
   "metadata": {
    "id": "znya-I2DdkwY"
   },
   "source": [
    "---"
   ]
  }
 ],
 "metadata": {
  "colab": {
   "name": "Step3_predict_api_integration.ipynb",
   "provenance": []
  },
  "kernelspec": {
   "display_name": "Python 3 (ipykernel)",
   "language": "python",
   "name": "python3"
  },
  "language_info": {
   "codemirror_mode": {
    "name": "ipython",
    "version": 3
   },
   "file_extension": ".py",
   "mimetype": "text/x-python",
   "name": "python",
   "nbconvert_exporter": "python",
   "pygments_lexer": "ipython3",
   "version": "3.9.16"
  }
 },
 "nbformat": 4,
 "nbformat_minor": 1
}
