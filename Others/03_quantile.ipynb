{
 "cells": [
  {
   "cell_type": "markdown",
   "metadata": {
    "toc": true
   },
   "source": [
    "<h1>Table of Contents<span class=\"tocSkip\"></span></h1>\n",
    "<div class=\"toc\" style=\"margin-top: 1em;\"><ul class=\"toc-item\"><li><ul class=\"toc-item\"><li><ul class=\"toc-item\"><li><span><a href=\"#Другое-разбиение-для-обучения-и-валидации\" data-toc-modified-id=\"Другое-разбиение-для-обучения-и-валидации-0.0.1\"><span class=\"toc-item-num\">0.0.1&nbsp;&nbsp;</span>Другое разбиение для обучения и валидации</a></span></li><li><span><a href=\"#Квантильная-регрессия\" data-toc-modified-id=\"Квантильная-регрессия-0.0.2\"><span class=\"toc-item-num\">0.0.2&nbsp;&nbsp;</span>Квантильная регрессия</a></span></li><li><span><a href=\"#Другой-подход---предсказание-ошибки\" data-toc-modified-id=\"Другой-подход---предсказание-ошибки-0.0.3\"><span class=\"toc-item-num\">0.0.3&nbsp;&nbsp;</span>Другой подход - предсказание ошибки</a></span></li></ul></li></ul></li></ul></div>"
   ]
  },
  {
   "cell_type": "markdown",
   "metadata": {},
   "source": [
    "В прошлых уроках:\n",
    "\n",
    "* Урок 1: Посмотрели наши данные, убрали лишние, сделали стандартизацию и обучили линейные модели. Проанализировали результат.\n",
    "* Урок 2: Научились делать Special Join'ы и выкачивать дополнительные данные по geo локации. Поработали с картой, полигонами, точками. Поделали различные операции с гемотрией. Поработали с Geopandas и Shapely"
   ]
  },
  {
   "cell_type": "code",
   "execution_count": 1,
   "metadata": {},
   "outputs": [],
   "source": [
    "import pandas as pd\n",
    "import numpy as np\n",
    "\n",
    "from sklearn.linear_model import LinearRegression, Lasso, Ridge, LassoCV, RidgeCV\n",
    "from sklearn.preprocessing import StandardScaler\n",
    "from sklearn.metrics import mean_squared_error\n",
    "from sklearn.model_selection import train_test_split\n",
    "from sklearn.ensemble import RandomForestRegressor, GradientBoostingRegressor\n",
    "%matplotlib inline\n",
    "import seaborn as sns\n",
    "\n",
    "from scipy.stats import boxcox, probplot\n",
    "import matplotlib.pyplot as plt"
   ]
  },
  {
   "cell_type": "code",
   "execution_count": 2,
   "metadata": {},
   "outputs": [],
   "source": [
    "data = pd.read_csv('data/calls_dataset_with_features.csv')"
   ]
  },
  {
   "cell_type": "code",
   "execution_count": 3,
   "metadata": {},
   "outputs": [
    {
     "data": {
      "text/html": [
       "<div>\n",
       "<style scoped>\n",
       "    .dataframe tbody tr th:only-of-type {\n",
       "        vertical-align: middle;\n",
       "    }\n",
       "\n",
       "    .dataframe tbody tr th {\n",
       "        vertical-align: top;\n",
       "    }\n",
       "\n",
       "    .dataframe thead th {\n",
       "        text-align: right;\n",
       "    }\n",
       "</style>\n",
       "<table border=\"1\" class=\"dataframe\">\n",
       "  <thead>\n",
       "    <tr style=\"text-align: right;\">\n",
       "      <th></th>\n",
       "      <th>address</th>\n",
       "      <th>duration_minutes</th>\n",
       "      <th>feat_1</th>\n",
       "      <th>feat_2</th>\n",
       "      <th>geometry</th>\n",
       "      <th>poly_side</th>\n",
       "      <th>atm</th>\n",
       "      <th>bank</th>\n",
       "      <th>bus_station</th>\n",
       "      <th>bus_stop</th>\n",
       "      <th>cafe</th>\n",
       "      <th>device_charging_station</th>\n",
       "      <th>office</th>\n",
       "      <th>public_service</th>\n",
       "      <th>restaurant</th>\n",
       "      <th>shelter</th>\n",
       "      <th>station</th>\n",
       "      <th>traffic_signals</th>\n",
       "      <th>waste_basket</th>\n",
       "    </tr>\n",
       "  </thead>\n",
       "  <tbody>\n",
       "    <tr>\n",
       "      <th>0</th>\n",
       "      <td>8811aa602dfffff</td>\n",
       "      <td>5.092667</td>\n",
       "      <td>0.0</td>\n",
       "      <td>25.0</td>\n",
       "      <td>POLYGON ((37.75103240708841 55.80603592669851,...</td>\n",
       "      <td>poly3</td>\n",
       "      <td>1.0</td>\n",
       "      <td>0.0</td>\n",
       "      <td>0.0</td>\n",
       "      <td>8.0</td>\n",
       "      <td>1.0</td>\n",
       "      <td>0.0</td>\n",
       "      <td>0.0</td>\n",
       "      <td>0.0</td>\n",
       "      <td>1.0</td>\n",
       "      <td>0.0</td>\n",
       "      <td>0.0</td>\n",
       "      <td>0.0</td>\n",
       "      <td>0.0</td>\n",
       "    </tr>\n",
       "    <tr>\n",
       "      <th>1</th>\n",
       "      <td>8811aa45d9fffff</td>\n",
       "      <td>6.037037</td>\n",
       "      <td>0.0</td>\n",
       "      <td>63.0</td>\n",
       "      <td>POLYGON ((37.40263832553934 55.71842073952227,...</td>\n",
       "      <td>poly0</td>\n",
       "      <td>5.0</td>\n",
       "      <td>3.0</td>\n",
       "      <td>0.0</td>\n",
       "      <td>5.0</td>\n",
       "      <td>2.0</td>\n",
       "      <td>0.0</td>\n",
       "      <td>0.0</td>\n",
       "      <td>0.0</td>\n",
       "      <td>2.0</td>\n",
       "      <td>0.0</td>\n",
       "      <td>0.0</td>\n",
       "      <td>0.0</td>\n",
       "      <td>0.0</td>\n",
       "    </tr>\n",
       "    <tr>\n",
       "      <th>2</th>\n",
       "      <td>881181a235fffff</td>\n",
       "      <td>4.722727</td>\n",
       "      <td>0.0</td>\n",
       "      <td>11.0</td>\n",
       "      <td>POLYGON ((37.74271427608124 55.43691297888912,...</td>\n",
       "      <td>poly1</td>\n",
       "      <td>0.0</td>\n",
       "      <td>0.0</td>\n",
       "      <td>0.0</td>\n",
       "      <td>1.0</td>\n",
       "      <td>1.0</td>\n",
       "      <td>0.0</td>\n",
       "      <td>0.0</td>\n",
       "      <td>0.0</td>\n",
       "      <td>0.0</td>\n",
       "      <td>0.0</td>\n",
       "      <td>0.0</td>\n",
       "      <td>0.0</td>\n",
       "      <td>0.0</td>\n",
       "    </tr>\n",
       "    <tr>\n",
       "      <th>3</th>\n",
       "      <td>8811aa722bfffff</td>\n",
       "      <td>5.868982</td>\n",
       "      <td>0.0</td>\n",
       "      <td>36.0</td>\n",
       "      <td>POLYGON ((37.42241082476207 55.85767681439805,...</td>\n",
       "      <td>poly2</td>\n",
       "      <td>2.0</td>\n",
       "      <td>2.0</td>\n",
       "      <td>0.0</td>\n",
       "      <td>12.0</td>\n",
       "      <td>2.0</td>\n",
       "      <td>0.0</td>\n",
       "      <td>0.0</td>\n",
       "      <td>0.0</td>\n",
       "      <td>0.0</td>\n",
       "      <td>0.0</td>\n",
       "      <td>0.0</td>\n",
       "      <td>0.0</td>\n",
       "      <td>0.0</td>\n",
       "    </tr>\n",
       "    <tr>\n",
       "      <th>4</th>\n",
       "      <td>8811aa714dfffff</td>\n",
       "      <td>2.937719</td>\n",
       "      <td>0.0</td>\n",
       "      <td>19.0</td>\n",
       "      <td>POLYGON ((37.45469517717559 55.7843306893976, ...</td>\n",
       "      <td>poly2</td>\n",
       "      <td>1.0</td>\n",
       "      <td>0.0</td>\n",
       "      <td>0.0</td>\n",
       "      <td>9.0</td>\n",
       "      <td>1.0</td>\n",
       "      <td>0.0</td>\n",
       "      <td>0.0</td>\n",
       "      <td>0.0</td>\n",
       "      <td>2.0</td>\n",
       "      <td>0.0</td>\n",
       "      <td>0.0</td>\n",
       "      <td>0.0</td>\n",
       "      <td>0.0</td>\n",
       "    </tr>\n",
       "  </tbody>\n",
       "</table>\n",
       "</div>"
      ],
      "text/plain": [
       "           address  duration_minutes  feat_1  feat_2  \\\n",
       "0  8811aa602dfffff          5.092667     0.0    25.0   \n",
       "1  8811aa45d9fffff          6.037037     0.0    63.0   \n",
       "2  881181a235fffff          4.722727     0.0    11.0   \n",
       "3  8811aa722bfffff          5.868982     0.0    36.0   \n",
       "4  8811aa714dfffff          2.937719     0.0    19.0   \n",
       "\n",
       "                                            geometry poly_side  atm  bank  \\\n",
       "0  POLYGON ((37.75103240708841 55.80603592669851,...     poly3  1.0   0.0   \n",
       "1  POLYGON ((37.40263832553934 55.71842073952227,...     poly0  5.0   3.0   \n",
       "2  POLYGON ((37.74271427608124 55.43691297888912,...     poly1  0.0   0.0   \n",
       "3  POLYGON ((37.42241082476207 55.85767681439805,...     poly2  2.0   2.0   \n",
       "4  POLYGON ((37.45469517717559 55.7843306893976, ...     poly2  1.0   0.0   \n",
       "\n",
       "   bus_station  bus_stop  cafe  device_charging_station  office  \\\n",
       "0          0.0       8.0   1.0                      0.0     0.0   \n",
       "1          0.0       5.0   2.0                      0.0     0.0   \n",
       "2          0.0       1.0   1.0                      0.0     0.0   \n",
       "3          0.0      12.0   2.0                      0.0     0.0   \n",
       "4          0.0       9.0   1.0                      0.0     0.0   \n",
       "\n",
       "   public_service  restaurant  shelter  station  traffic_signals  waste_basket  \n",
       "0             0.0         1.0      0.0      0.0              0.0           0.0  \n",
       "1             0.0         2.0      0.0      0.0              0.0           0.0  \n",
       "2             0.0         0.0      0.0      0.0              0.0           0.0  \n",
       "3             0.0         0.0      0.0      0.0              0.0           0.0  \n",
       "4             0.0         2.0      0.0      0.0              0.0           0.0  "
      ]
     },
     "execution_count": 3,
     "metadata": {},
     "output_type": "execute_result"
    }
   ],
   "source": [
    "data.head()"
   ]
  },
  {
   "cell_type": "markdown",
   "metadata": {},
   "source": [
    "### 0.0.1 Другое разбиение для обучения и валидации"
   ]
  },
  {
   "cell_type": "markdown",
   "metadata": {},
   "source": [
    "Фиксируем данное разбиение и будем его использовать в дальнейшем:\n",
    "\n",
    "Убираем лишние фичи и таргет: 'address', 'geometry', 'poly_side','duration_minutes'\n",
    "\n",
    "Train: районы 1 и 2, Test: районы 0 и 3\n",
    "\n",
    "Целевая переменная: ln(1+x)"
   ]
  },
  {
   "cell_type": "code",
   "execution_count": 4,
   "metadata": {},
   "outputs": [],
   "source": [
    "X_train = data.drop(['address', 'geometry', \n",
    "                     'poly_side','duration_minutes'], axis=1)[data['poly_side'].isin(['poly1','poly2'])]\n",
    "\n",
    "y_train = np.log1p(data['duration_minutes'][data['poly_side'].isin(['poly1','poly2'])])"
   ]
  },
  {
   "cell_type": "code",
   "execution_count": 5,
   "metadata": {
    "scrolled": true
   },
   "outputs": [],
   "source": [
    "X_valid = data.drop(['address', 'geometry', \n",
    "                     'poly_side','duration_minutes'],axis=1)[data['poly_side'].isin(['poly0','poly3'])]\n",
    "\n",
    "y_valid = np.log1p(data['duration_minutes'][data['poly_side'].isin(['poly0','poly3'])])"
   ]
  },
  {
   "cell_type": "markdown",
   "metadata": {},
   "source": [
    "Оценим качество случайного леса (с bootstrap - параллельное обучение базовых моделей в ансамбле) на кросс валидации"
   ]
  },
  {
   "cell_type": "code",
   "execution_count": 6,
   "metadata": {
    "scrolled": true
   },
   "outputs": [
    {
     "name": "stdout",
     "output_type": "stream",
     "text": [
      "Metric: 1.9387325856612792\n"
     ]
    }
   ],
   "source": [
    "from sklearn.model_selection import cross_val_predict\n",
    "\n",
    "y_pred = cross_val_predict(RandomForestRegressor(n_estimators=100, bootstrap=True),\n",
    "    X_train, y_train, cv=5, n_jobs=-1)\n",
    "\n",
    "print('Metric:', np.sqrt(mean_squared_error(np.exp(y_train), np.exp(y_pred))))"
   ]
  },
  {
   "cell_type": "markdown",
   "metadata": {},
   "source": [
    "Мы применяли различные алгоритмы для обучения и мы можем выбрать тот алгоритм, который минимизирует ошибку. На практике нам часто не требуется бесконечно улучшать качество алгоритма, например можно зафиксировать модель случайного леса и далее сосредоточиться на интерпретации результата. \n",
    "\n",
    "В задаче регрессии алгоритм возвращает одно число, \n",
    "но на практике нам достаточно с какой-то степенью уверенности сказать, что предсказываемое значение меньше какого-то порога. Для этого нам нужно найти интервал предсказания - такой интервал, в который с некоторой уверенностью попадает значение целевой переменной."
   ]
  },
  {
   "cell_type": "markdown",
   "metadata": {},
   "source": [
    "Например, если мы предсказываем продолжительность звонков в ячейке, то мы хотим понять, что данное значение будет не меньше такого то порога с такой то вероятностью. Мы хотим построить некоторый интервал прогнозирования. Рассмотрим методы построения такого интервала."
   ]
  },
  {
   "cell_type": "markdown",
   "metadata": {},
   "source": [
    "### 0.0.2 Квантильная регрессия"
   ]
  },
  {
   "cell_type": "markdown",
   "metadata": {},
   "source": [
    "в scikit-learn можно найти реализацию квантильной регрессии в алгоритме `Gradient Boosted Regressor`: для обучения нужно задать квантиль какого порядка мы хотим получить "
   ]
  },
  {
   "cell_type": "code",
   "execution_count": 10,
   "metadata": {},
   "outputs": [],
   "source": [
    "alpha = 0.95 # это типо порядок квантиля. Верхняя граница = 0.95. Нижняя грацница 0.05.\n",
    "clf = GradientBoostingRegressor(loss =\"quantile\", alpha=alpha,\n",
    "                                n_estimators=100, max_depth=3,\n",
    "                                learning_rate=.1, min_samples_leaf=9,\n",
    "                                min_samples_split=9)\n",
    "\n",
    "#обучаем 1-ю модель для предсказания верхней границы\n",
    "clf.fit(X_train, y_train)\n",
    "#предсказание\n",
    "y_upper = clf.predict(X_valid)\n",
    "\n",
    "\n",
    "#обучаем 2-ю модель для предсказания нижней границы\n",
    "clf.set_params(alpha=1.0 - alpha)\n",
    "clf.fit(X_train, y_train)\n",
    "#предсказание\n",
    "y_lower = clf.predict(X_valid)\n",
    "\n",
    "#обучаем модель для предсказания целевой переменной\n",
    "clf.set_params(loss='squared_error')\n",
    "clf.fit(X_train, y_train)\n",
    "\n",
    "#предсказание\n",
    "y_pred = clf.predict(X_valid)"
   ]
  },
  {
   "cell_type": "markdown",
   "metadata": {},
   "source": [
    "В итоге получаем, что с 90% вероятностью предсказанные значения будут лежать в этих интервалах:"
   ]
  },
  {
   "cell_type": "code",
   "execution_count": 11,
   "metadata": {},
   "outputs": [],
   "source": [
    "results = pd.DataFrame()\n",
    "\n",
    "results['y_lower'] = y_lower\n",
    "results['pred'] = y_pred\n",
    "results['y_upper'] = y_upper"
   ]
  },
  {
   "cell_type": "code",
   "execution_count": 12,
   "metadata": {
    "scrolled": true
   },
   "outputs": [
    {
     "data": {
      "text/html": [
       "<div>\n",
       "<style scoped>\n",
       "    .dataframe tbody tr th:only-of-type {\n",
       "        vertical-align: middle;\n",
       "    }\n",
       "\n",
       "    .dataframe tbody tr th {\n",
       "        vertical-align: top;\n",
       "    }\n",
       "\n",
       "    .dataframe thead th {\n",
       "        text-align: right;\n",
       "    }\n",
       "</style>\n",
       "<table border=\"1\" class=\"dataframe\">\n",
       "  <thead>\n",
       "    <tr style=\"text-align: right;\">\n",
       "      <th></th>\n",
       "      <th>y_lower</th>\n",
       "      <th>pred</th>\n",
       "      <th>y_upper</th>\n",
       "    </tr>\n",
       "  </thead>\n",
       "  <tbody>\n",
       "    <tr>\n",
       "      <th>0</th>\n",
       "      <td>1.337264</td>\n",
       "      <td>1.750483</td>\n",
       "      <td>2.166877</td>\n",
       "    </tr>\n",
       "    <tr>\n",
       "      <th>1</th>\n",
       "      <td>1.606072</td>\n",
       "      <td>1.789236</td>\n",
       "      <td>1.981056</td>\n",
       "    </tr>\n",
       "    <tr>\n",
       "      <th>2</th>\n",
       "      <td>1.370736</td>\n",
       "      <td>1.809732</td>\n",
       "      <td>2.199510</td>\n",
       "    </tr>\n",
       "    <tr>\n",
       "      <th>3</th>\n",
       "      <td>1.149275</td>\n",
       "      <td>1.739170</td>\n",
       "      <td>2.137280</td>\n",
       "    </tr>\n",
       "    <tr>\n",
       "      <th>4</th>\n",
       "      <td>0.674990</td>\n",
       "      <td>1.694541</td>\n",
       "      <td>2.173418</td>\n",
       "    </tr>\n",
       "  </tbody>\n",
       "</table>\n",
       "</div>"
      ],
      "text/plain": [
       "    y_lower      pred   y_upper\n",
       "0  1.337264  1.750483  2.166877\n",
       "1  1.606072  1.789236  1.981056\n",
       "2  1.370736  1.809732  2.199510\n",
       "3  1.149275  1.739170  2.137280\n",
       "4  0.674990  1.694541  2.173418"
      ]
     },
     "execution_count": 12,
     "metadata": {},
     "output_type": "execute_result"
    }
   ],
   "source": [
    "results.head()"
   ]
  },
  {
   "cell_type": "markdown",
   "metadata": {},
   "source": [
    "Получили оценку верхней и нижней границы. Здесь теперь у нас для каждой ячейки мы видим некоторое значение. И с 90% вероятностью предсказанные значения будут лежать в этих интервалах. Это можно использовать в бизнес задаче."
   ]
  },
  {
   "cell_type": "markdown",
   "metadata": {},
   "source": [
    "Основной минус данного подхода - для разных квантилей нужно обучать отдельные модели. Поэтому ниже мы рассмотрим подход, который позволит сократить количество моделей и с помощью этого подхода можно находить интервал предсказания для разных квантилей."
   ]
  },
  {
   "cell_type": "markdown",
   "metadata": {},
   "source": [
    "### Другой подход - предсказание ошибки"
   ]
  },
  {
   "cell_type": "markdown",
   "metadata": {},
   "source": [
    "Заметим что для квантильной регрессии мы строили 2 модели, а что будет если квантилей будет 4. Получается надо строить 4 модели? Да это жестко. Поэтому есть еще один подход."
   ]
  },
  {
   "cell_type": "markdown",
   "metadata": {},
   "source": [
    "Делаем две модели - первая модель предсказывает целевую переменную, а вторая модель предсказывает ошибку.\n",
    "\n",
    "Стандартное отклонение зависит от входных признаков, можно предсказать."
   ]
  },
  {
   "cell_type": "code",
   "execution_count": 13,
   "metadata": {},
   "outputs": [],
   "source": [
    "X1, X2, y1, y2 = train_test_split(X_train, y_train, test_size=0.2)"
   ]
  },
  {
   "cell_type": "code",
   "execution_count": 15,
   "metadata": {},
   "outputs": [
    {
     "data": {
      "text/html": [
       "<style>#sk-container-id-1 {color: black;background-color: white;}#sk-container-id-1 pre{padding: 0;}#sk-container-id-1 div.sk-toggleable {background-color: white;}#sk-container-id-1 label.sk-toggleable__label {cursor: pointer;display: block;width: 100%;margin-bottom: 0;padding: 0.3em;box-sizing: border-box;text-align: center;}#sk-container-id-1 label.sk-toggleable__label-arrow:before {content: \"▸\";float: left;margin-right: 0.25em;color: #696969;}#sk-container-id-1 label.sk-toggleable__label-arrow:hover:before {color: black;}#sk-container-id-1 div.sk-estimator:hover label.sk-toggleable__label-arrow:before {color: black;}#sk-container-id-1 div.sk-toggleable__content {max-height: 0;max-width: 0;overflow: hidden;text-align: left;background-color: #f0f8ff;}#sk-container-id-1 div.sk-toggleable__content pre {margin: 0.2em;color: black;border-radius: 0.25em;background-color: #f0f8ff;}#sk-container-id-1 input.sk-toggleable__control:checked~div.sk-toggleable__content {max-height: 200px;max-width: 100%;overflow: auto;}#sk-container-id-1 input.sk-toggleable__control:checked~label.sk-toggleable__label-arrow:before {content: \"▾\";}#sk-container-id-1 div.sk-estimator input.sk-toggleable__control:checked~label.sk-toggleable__label {background-color: #d4ebff;}#sk-container-id-1 div.sk-label input.sk-toggleable__control:checked~label.sk-toggleable__label {background-color: #d4ebff;}#sk-container-id-1 input.sk-hidden--visually {border: 0;clip: rect(1px 1px 1px 1px);clip: rect(1px, 1px, 1px, 1px);height: 1px;margin: -1px;overflow: hidden;padding: 0;position: absolute;width: 1px;}#sk-container-id-1 div.sk-estimator {font-family: monospace;background-color: #f0f8ff;border: 1px dotted black;border-radius: 0.25em;box-sizing: border-box;margin-bottom: 0.5em;}#sk-container-id-1 div.sk-estimator:hover {background-color: #d4ebff;}#sk-container-id-1 div.sk-parallel-item::after {content: \"\";width: 100%;border-bottom: 1px solid gray;flex-grow: 1;}#sk-container-id-1 div.sk-label:hover label.sk-toggleable__label {background-color: #d4ebff;}#sk-container-id-1 div.sk-serial::before {content: \"\";position: absolute;border-left: 1px solid gray;box-sizing: border-box;top: 0;bottom: 0;left: 50%;z-index: 0;}#sk-container-id-1 div.sk-serial {display: flex;flex-direction: column;align-items: center;background-color: white;padding-right: 0.2em;padding-left: 0.2em;position: relative;}#sk-container-id-1 div.sk-item {position: relative;z-index: 1;}#sk-container-id-1 div.sk-parallel {display: flex;align-items: stretch;justify-content: center;background-color: white;position: relative;}#sk-container-id-1 div.sk-item::before, #sk-container-id-1 div.sk-parallel-item::before {content: \"\";position: absolute;border-left: 1px solid gray;box-sizing: border-box;top: 0;bottom: 0;left: 50%;z-index: -1;}#sk-container-id-1 div.sk-parallel-item {display: flex;flex-direction: column;z-index: 1;position: relative;background-color: white;}#sk-container-id-1 div.sk-parallel-item:first-child::after {align-self: flex-end;width: 50%;}#sk-container-id-1 div.sk-parallel-item:last-child::after {align-self: flex-start;width: 50%;}#sk-container-id-1 div.sk-parallel-item:only-child::after {width: 0;}#sk-container-id-1 div.sk-dashed-wrapped {border: 1px dashed gray;margin: 0 0.4em 0.5em 0.4em;box-sizing: border-box;padding-bottom: 0.4em;background-color: white;}#sk-container-id-1 div.sk-label label {font-family: monospace;font-weight: bold;display: inline-block;line-height: 1.2em;}#sk-container-id-1 div.sk-label-container {text-align: center;}#sk-container-id-1 div.sk-container {/* jupyter's `normalize.less` sets `[hidden] { display: none; }` but bootstrap.min.css set `[hidden] { display: none !important; }` so we also need the `!important` here to be able to override the default hidden behavior on the sphinx rendered scikit-learn.org. See: https://github.com/scikit-learn/scikit-learn/issues/21755 */display: inline-block !important;position: relative;}#sk-container-id-1 div.sk-text-repr-fallback {display: none;}</style><div id=\"sk-container-id-1\" class=\"sk-top-container\"><div class=\"sk-text-repr-fallback\"><pre>RandomForestRegressor()</pre><b>In a Jupyter environment, please rerun this cell to show the HTML representation or trust the notebook. <br />On GitHub, the HTML representation is unable to render, please try loading this page with nbviewer.org.</b></div><div class=\"sk-container\" hidden><div class=\"sk-item\"><div class=\"sk-estimator sk-toggleable\"><input class=\"sk-toggleable__control sk-hidden--visually\" id=\"sk-estimator-id-1\" type=\"checkbox\" checked><label for=\"sk-estimator-id-1\" class=\"sk-toggleable__label sk-toggleable__label-arrow\">RandomForestRegressor</label><div class=\"sk-toggleable__content\"><pre>RandomForestRegressor()</pre></div></div></div></div></div>"
      ],
      "text/plain": [
       "RandomForestRegressor()"
      ]
     },
     "execution_count": 15,
     "metadata": {},
     "output_type": "execute_result"
    }
   ],
   "source": [
    "clf_mean = RandomForestRegressor(criterion='absolute_error') # обучаем модель для предсказания среднего значения\n",
    "clf_mean.fit(X1, y1)\n",
    "\n",
    "y2_pred = clf_mean.predict(X2) # применяем сразу, чтобы найти ошибку MSE для валидации.\n",
    "y2_pred_error = (y2 - y2_pred)**2\n",
    "\n",
    "clf_std = RandomForestRegressor(criterion='squared_error') # обучаем модель предсказывающую MSE\n",
    "clf_std.fit(X2, y2_pred_error) "
   ]
  },
  {
   "cell_type": "markdown",
   "metadata": {},
   "source": [
    "Находим интервалы на отложенной выборке"
   ]
  },
  {
   "cell_type": "code",
   "execution_count": 16,
   "metadata": {},
   "outputs": [],
   "source": [
    "y_test_mean = clf_mean.predict(X_valid)\n",
    "y_test_stdev = clf_std.predict(X_valid)"
   ]
  },
  {
   "cell_type": "markdown",
   "metadata": {},
   "source": [
    "Далее находим интервал +/- 2 сигмы. Помним, что $\\sigma = \\sqrt{SD}$ (Standard deviation, MSE)"
   ]
  },
  {
   "cell_type": "code",
   "execution_count": 17,
   "metadata": {},
   "outputs": [],
   "source": [
    "results = pd.DataFrame()\n",
    "results['predict_lower'] = y_test_mean - (2*(y_test_stdev)**0.5)\n",
    "results['predict'] = y_test_mean\n",
    "results['predict_upper'] = y_test_mean + (2*(y_test_stdev)**0.5)"
   ]
  },
  {
   "cell_type": "code",
   "execution_count": 18,
   "metadata": {},
   "outputs": [
    {
     "data": {
      "text/html": [
       "<div>\n",
       "<style scoped>\n",
       "    .dataframe tbody tr th:only-of-type {\n",
       "        vertical-align: middle;\n",
       "    }\n",
       "\n",
       "    .dataframe tbody tr th {\n",
       "        vertical-align: top;\n",
       "    }\n",
       "\n",
       "    .dataframe thead th {\n",
       "        text-align: right;\n",
       "    }\n",
       "</style>\n",
       "<table border=\"1\" class=\"dataframe\">\n",
       "  <thead>\n",
       "    <tr style=\"text-align: right;\">\n",
       "      <th></th>\n",
       "      <th>predict_lower</th>\n",
       "      <th>predict</th>\n",
       "      <th>predict_upper</th>\n",
       "    </tr>\n",
       "  </thead>\n",
       "  <tbody>\n",
       "    <tr>\n",
       "      <th>0</th>\n",
       "      <td>1.338836</td>\n",
       "      <td>1.728732</td>\n",
       "      <td>2.118628</td>\n",
       "    </tr>\n",
       "    <tr>\n",
       "      <th>1</th>\n",
       "      <td>1.533466</td>\n",
       "      <td>1.851600</td>\n",
       "      <td>2.169733</td>\n",
       "    </tr>\n",
       "    <tr>\n",
       "      <th>2</th>\n",
       "      <td>1.148720</td>\n",
       "      <td>1.784538</td>\n",
       "      <td>2.420357</td>\n",
       "    </tr>\n",
       "    <tr>\n",
       "      <th>3</th>\n",
       "      <td>1.281608</td>\n",
       "      <td>1.720324</td>\n",
       "      <td>2.159041</td>\n",
       "    </tr>\n",
       "    <tr>\n",
       "      <th>4</th>\n",
       "      <td>0.792168</td>\n",
       "      <td>1.719697</td>\n",
       "      <td>2.647227</td>\n",
       "    </tr>\n",
       "  </tbody>\n",
       "</table>\n",
       "</div>"
      ],
      "text/plain": [
       "   predict_lower   predict  predict_upper\n",
       "0       1.338836  1.728732       2.118628\n",
       "1       1.533466  1.851600       2.169733\n",
       "2       1.148720  1.784538       2.420357\n",
       "3       1.281608  1.720324       2.159041\n",
       "4       0.792168  1.719697       2.647227"
      ]
     },
     "execution_count": 18,
     "metadata": {},
     "output_type": "execute_result"
    }
   ],
   "source": [
    "results.head()"
   ]
  },
  {
   "cell_type": "markdown",
   "metadata": {},
   "source": [
    "---"
   ]
  },
  {
   "cell_type": "markdown",
   "metadata": {},
   "source": [
    "**Вывод:**\n",
    "\n",
    "* Посмотрели как можно делать предсказания с определенной вероятностью.\n",
    "* Научились искать вероятностные интервалы для предсказаний 2мя способами: Квантильная регрессия и Предсказание на ошибках (в поисках сигмы)."
   ]
  },
  {
   "cell_type": "markdown",
   "metadata": {},
   "source": [
    "---"
   ]
  }
 ],
 "metadata": {
  "kernelspec": {
   "display_name": "Python 3 (ipykernel)",
   "language": "python",
   "name": "python3"
  },
  "language_info": {
   "codemirror_mode": {
    "name": "ipython",
    "version": 3
   },
   "file_extension": ".py",
   "mimetype": "text/x-python",
   "name": "python",
   "nbconvert_exporter": "python",
   "pygments_lexer": "ipython3",
   "version": "3.9.16"
  },
  "toc": {
   "nav_menu": {},
   "number_sections": true,
   "sideBar": true,
   "skip_h1_title": false,
   "toc_cell": true,
   "toc_position": {
    "height": "755px",
    "left": "0px",
    "right": "1293px",
    "top": "66px",
    "width": "124px"
   },
   "toc_section_display": "none",
   "toc_window_display": false
  },
  "varInspector": {
   "cols": {
    "lenName": 16,
    "lenType": 16,
    "lenVar": 40
   },
   "kernels_config": {
    "python": {
     "delete_cmd_postfix": "",
     "delete_cmd_prefix": "del ",
     "library": "var_list.py",
     "varRefreshCmd": "print(var_dic_list())"
    },
    "r": {
     "delete_cmd_postfix": ") ",
     "delete_cmd_prefix": "rm(",
     "library": "var_list.r",
     "varRefreshCmd": "cat(var_dic_list()) "
    }
   },
   "types_to_exclude": [
    "module",
    "function",
    "builtin_function_or_method",
    "instance",
    "_Feature"
   ],
   "window_display": false
  }
 },
 "nbformat": 4,
 "nbformat_minor": 2
}
