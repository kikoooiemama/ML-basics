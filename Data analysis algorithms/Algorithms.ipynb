{
 "cells": [
  {
   "cell_type": "markdown",
   "id": "711f0310",
   "metadata": {},
   "source": [
    "# Регрессия"
   ]
  },
  {
   "cell_type": "markdown",
   "id": "b3cf5e4f",
   "metadata": {},
   "source": [
    "## 1 Модель: Линейная регрессия"
   ]
  },
  {
   "cell_type": "markdown",
   "id": "e4c4db8c",
   "metadata": {},
   "source": [
    "## 1.1\n",
    "\n",
    "Оптимизация: МНК<br>\n",
    "Функционал ошибки, $Q$:<br>\n",
    "Функция потерь, $loss function$:"
   ]
  },
  {
   "cell_type": "code",
   "execution_count": null,
   "id": "721bffe7",
   "metadata": {},
   "outputs": [],
   "source": []
  },
  {
   "cell_type": "markdown",
   "id": "46745d3b",
   "metadata": {},
   "source": [
    "## 1.2\n",
    "\n",
    "Оптимизация: Градиентный спуск<br>\n",
    "Функционал ошибки, $Q$:<br>\n",
    "Функция потерь, $loss function$:"
   ]
  },
  {
   "cell_type": "code",
   "execution_count": null,
   "id": "545a963f",
   "metadata": {},
   "outputs": [],
   "source": []
  },
  {
   "cell_type": "markdown",
   "id": "fdba0ab3",
   "metadata": {},
   "source": [
    "## 1.3\n",
    "\n",
    "Оптимизация: Стохастический градиентный спуск<br>\n",
    "Функционал ошибки, $Q$:<br>\n",
    "Функция потерь, $loss function$:"
   ]
  },
  {
   "cell_type": "code",
   "execution_count": null,
   "id": "4b2ba018",
   "metadata": {},
   "outputs": [],
   "source": []
  },
  {
   "cell_type": "markdown",
   "id": "5839a138",
   "metadata": {},
   "source": [
    "## 1.4\n",
    "\n",
    "Оптимизация: Стохастический градиентный спуск c L1 регуляризацией<br>\n",
    "Функционал ошибки, $Q$:<br>\n",
    "Функция потерь, $loss function$:"
   ]
  },
  {
   "cell_type": "code",
   "execution_count": null,
   "id": "000f5707",
   "metadata": {},
   "outputs": [],
   "source": []
  },
  {
   "cell_type": "markdown",
   "id": "88dd55b0",
   "metadata": {},
   "source": [
    "## 1.5\n",
    "\n",
    "Оптимизация: Стохастический градиентный спуск с L2 регуляризацией<br>\n",
    "Функционал ошибки, $Q$:<br>\n",
    "Функция потерь, $loss function$:"
   ]
  },
  {
   "cell_type": "code",
   "execution_count": null,
   "id": "1afe584f",
   "metadata": {},
   "outputs": [],
   "source": []
  },
  {
   "cell_type": "markdown",
   "id": "256580a1",
   "metadata": {},
   "source": [
    "---"
   ]
  },
  {
   "cell_type": "markdown",
   "id": "3c8a4361",
   "metadata": {},
   "source": [
    "# Классификация"
   ]
  },
  {
   "cell_type": "markdown",
   "id": "1424c33c",
   "metadata": {},
   "source": [
    "## 1 Модель: Линейная классификатор"
   ]
  },
  {
   "cell_type": "markdown",
   "id": "b91ada3c",
   "metadata": {},
   "source": [
    "## 1.1\n",
    "\n",
    "Оптимизация: Стохастический градиентный спуск<br>\n",
    "Функционал ошибки, $Q$:<br>\n",
    "Функция потерь, $loss function$:"
   ]
  },
  {
   "cell_type": "code",
   "execution_count": null,
   "id": "bd12e5f3",
   "metadata": {},
   "outputs": [],
   "source": []
  },
  {
   "cell_type": "markdown",
   "id": "217d77da",
   "metadata": {},
   "source": [
    "---"
   ]
  }
 ],
 "metadata": {
  "kernelspec": {
   "display_name": "Python 3 (ipykernel)",
   "language": "python",
   "name": "python3"
  },
  "language_info": {
   "codemirror_mode": {
    "name": "ipython",
    "version": 3
   },
   "file_extension": ".py",
   "mimetype": "text/x-python",
   "name": "python",
   "nbconvert_exporter": "python",
   "pygments_lexer": "ipython3",
   "version": "3.9.16"
  }
 },
 "nbformat": 4,
 "nbformat_minor": 5
}
