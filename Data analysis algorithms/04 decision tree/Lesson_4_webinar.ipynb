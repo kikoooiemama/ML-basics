{
 "cells": [
  {
   "cell_type": "markdown",
   "metadata": {
    "id": "FM6XV3IlabW_"
   },
   "source": [
    "# Урок 4. Алгоритм построения дерева решений"
   ]
  },
  {
   "cell_type": "markdown",
   "metadata": {
    "id": "uYL_20_gabXB"
   },
   "source": [
    "## Деревья решений\n",
    "\n",
    "или решающие деревья :)"
   ]
  },
  {
   "cell_type": "markdown",
   "metadata": {
    "id": "Y6OcIFWiabXC"
   },
   "source": [
    "В этом уроке пойдет речь еще об одном популярном методе машинного обучения - _деревьях решений_. Это семейство алгоритмов значительно отличается от линейных моделей, но применяется также в задачах классификации и регрессии.\n",
    "\n",
    "Метод основан на известной структуре данных - деревьях, которые по сути представляют собой последовательные инструкции с условиями. Например, в обсуждаемой ранее задаче кредитного скоринга может быть следующий алгоритм принятия решения:\n",
    "\n",
    "1. Старше ли клиент 18 лет? Если да, то продолжаем, иначе отказываем в кредите.\n",
    "\n",
    "2. Превышает ли его заработок 50 тысяч рублей? Если да, то продолжаем, иначе отказываем в кредите.\n",
    "\n",
    "3. Были ли у клиента просроченные кредиты ранее? Если да, отказываем в кредите, иначе выдаем.\n",
    "\n",
    "В листьях (терминальных узлах) деревьев стоят значения целевой функции (прогноз), а в узлах - условия перехода, определяющие, по какому из ребер идти. Если речь идет о бинарных деревьях (каждый узел производит ветвление на две части), обычно, если условие в узле истинно, то происходит переход по левому ребру, если ложно, то по правому. Изобразим описанный выше алгоритм в виде дерева решений."
   ]
  },
  {
   "cell_type": "markdown",
   "metadata": {
    "id": "MvRsNp6jxIb0"
   },
   "source": [
    "<img src=\"L4_graphviz.png\" width=\"800\">"
   ]
  },
  {
   "cell_type": "code",
   "execution_count": 32,
   "metadata": {
    "id": "R-asfUSaabXD"
   },
   "outputs": [],
   "source": [
    "# визуализировать дерево можно с помощью библиотеки python-graphviz\n",
    "# https://nbviewer.jupyter.org/github/xflr6/graphviz/blob/master/examples/graphviz-notebook.ipynb\n",
    "# !pip install graphviz\n",
    "import graphviz\n",
    "from graphviz import Digraph"
   ]
  },
  {
   "cell_type": "code",
   "execution_count": 33,
   "metadata": {
    "id": "rfydLJYE4Qve"
   },
   "outputs": [],
   "source": [
    "# import logging\n",
    "# logging.basicConfig(format='[%(levelname)s@%(name)s] %(message)s', level=logging.DEBUG)"
   ]
  },
  {
   "cell_type": "code",
   "execution_count": 34,
   "metadata": {
    "colab": {
     "base_uri": "https://localhost:8080/"
    },
    "id": "aifJQkhTabXG",
    "outputId": "087f9364-2cfe-415b-8542-8992c97fb9a7",
    "scrolled": true
   },
   "outputs": [
    {
     "name": "stdout",
     "output_type": "stream",
     "text": [
      "digraph {\n",
      "\tnode [shape=box]\n",
      "\tA [label=\"Клиент старше 18 лет?\"]\n",
      "\tB [label=\"Превышает ли его заработок 50 тысяч рублей?\"]\n",
      "\tC [label=\"Отказать\"]\n",
      "\tD [label=\"Были ли у клиента просроченные кредиты ранее?\"]\n",
      "\tE [label=\"Отказать\"]\n",
      "\tF [label=\"Отказать\"]\n",
      "\tG [label=\"Выдать\"]\n",
      "\tA -> B [label=\"да\"]\n",
      "\tA -> C [label=\"нет\"]\n",
      "\tB -> D [label=\"да\"]\n",
      "\tB -> E [label=\"нет\"]\n",
      "\tD -> F [label=\"да\"]\n",
      "\tD -> G [label=\"нет\"]\n",
      "}\n",
      "\n"
     ]
    }
   ],
   "source": [
    "dot = Digraph(node_attr={'shape': 'box'})\n",
    "\n",
    "dot.node('A', label='Клиент старше 18 лет?')\n",
    "dot.node('B', label='Превышает ли его заработок 50 тысяч рублей?')\n",
    "dot.node('C', label='Отказать')\n",
    "dot.node('D', label='Были ли у клиента просроченные кредиты ранее?')\n",
    "dot.node('E', label='Отказать')\n",
    "dot.node('F', label='Отказать')\n",
    "dot.node('G', label='Выдать')\n",
    "\n",
    "dot.edge('A', 'B', label='да')\n",
    "dot.edge('A', 'C', label='нет')\n",
    "dot.edge('B', 'D', label='да')\n",
    "dot.edge('B', 'E', label='нет')\n",
    "dot.edge('D', 'F', label='да')\n",
    "dot.edge('D', 'G', label='нет')\n",
    "\n",
    "print(dot.source)  "
   ]
  },
  {
   "cell_type": "code",
   "execution_count": 35,
   "metadata": {},
   "outputs": [],
   "source": [
    "# dot"
   ]
  },
  {
   "cell_type": "code",
   "execution_count": 36,
   "metadata": {
    "id": "7YJK-lT95q8M"
   },
   "outputs": [],
   "source": [
    "# logging.basicConfig(format='[%(levelname)s@%(name)s] %(message)s', level=logging.FATAL)"
   ]
  },
  {
   "cell_type": "markdown",
   "metadata": {
    "id": "asbWiXeOabXM"
   },
   "source": [
    "В задачах машинного обучения чаще всего в вершинах прописываются максимально простые условия. Обычно это сравнение значения одного из признаков $x^{j}$ с некоторым заданным порогом $t$:\n",
    "\n",
    "$$[x^{j} \\leq t].$$\n",
    "\n",
    "Если решается задача классификации, конечным прогнозом является класс или распределение вероятностей классов. В случае регрессии прогноз в листе является вещественным числом.\n",
    "\n",
    "Большим плюсом деревьев является тот факт, что они легко интерпретируемы. "
   ]
  },
  {
   "cell_type": "markdown",
   "metadata": {
    "id": "MNt1_4CWabXM"
   },
   "source": [
    "## Построение деревьев решений"
   ]
  },
  {
   "cell_type": "markdown",
   "metadata": {},
   "source": [
    "---\n",
    "\n",
    "Берем корень - одно условие, разбиваем объекты на 2 части. Далее эти объекты снова и снова разбиваются новыми условиями - узлами до определенного момента (критерий останова). Как только разбиение прекращается -> появляются листья.\n",
    "\n",
    "Важно, чтобы количество объектов не равнялось количеству листов -> переобучение.\n",
    "\n",
    "\n",
    "__Дерево решений может решить задачу как регрессии (ответ некое число, мб вероятность), так и классификации.__\n",
    "\n",
    "---"
   ]
  },
  {
   "cell_type": "markdown",
   "metadata": {
    "id": "IR2W64axabXN"
   },
   "source": [
    "Деревья обладают и отрицательными качествами - в частности, они очень легко переобучаются. Легко построить дерево, в котором каждый лист будет соответствовать одному объекту обучающей выборки. Оно будет идеально подогнано под обучающую выборку, давать стопроцентный ответ на ней, но при этом не будет восстанавливать оригинальных закономерностей, и качество ответов на новых данных будет неудовлетворительным."
   ]
  },
  {
   "cell_type": "markdown",
   "metadata": {
    "id": "2k5dCHAQabXO"
   },
   "source": [
    "В машинном обучении деревья строятся последовательно от корня к листьям (так называемый \"жадный\" способ). Вначале выбирается корень и критерий, по которому выборка разбивается на две. Затем то же самое делается для каждого из потомков этого корня и так далее до достаточного уровня ветвления. Задача состоит в выборе способа **разбиения каждого из узлов**, то есть в выборе значения порога, с которым будет сравниваться значение одного из признаков в каждом узле.\n",
    "\n",
    "Разбиение выбирается с точки зрения некоторого заранее заданного функционала качества $Q(X, j, t)$. Находятся наилучшие значения $j$ и $t$ для создания _предиката_ $[x^{j}<t]$. **Параметры $j$ и $t$ можно выбирать перебором:** признаков конечное число, а из всех возможных значений порога $t$ можно рассматривать только те, при которых получаются различные разбиения на две подвыборки, таким образом, различных значений параметра $t$ будет столько же, сколько различных значений признака $x^{j}$ в обучающей выборке.\n",
    "\n",
    "В каждой вершине производится проверка, не выполнилось ли некоторое условие останова (критерии останова рассмотрим далее), и если оно выполнилось, разбиение прекращается, и вершина объвляется листом, и он будет содержать прогноз.\n",
    "\n",
    "В задаче классификации это будет класс, к которому относится большая часть объектов из выборки в листе $X_{m}$\n",
    "\n",
    "$$a_{m} = \\text{argmax}_{y \\in Y} \\sum_{i \\in X_{m}}[y_{i}=y]$$\n",
    "\n",
    "или доля объектов определенного класса $k$, если требуется предсказать вероятности классов\n",
    "\n",
    "$$a_{mk} = \\frac{1}{|X_{m}|} \\sum_{i \\in X_{m}}[y_{i}=k].$$\n",
    "\n",
    "В случае регрессии можно в качестве ответа давать средний по выборке в листе\n",
    "\n",
    "$$a_{m} = \\frac{1}{|X_{m}|} \\sum_{i \\in X_{m}}y_{i}.$$\n",
    "\n",
    "После построения дерева может проводиться его _стрижка_ (pruning) - удаление некоторых вершин согласно некоторому подходу с целью понижения сложности модели и повышения обобщающей способности."
   ]
  },
  {
   "cell_type": "markdown",
   "metadata": {
    "id": "Wy9yYVu65Qxj"
   },
   "source": [
    "Лист: \n",
    "\n",
    "    0(y1)  0(y2) 0 0 1\n",
    "1) y=0,     4 объекта\n",
    "\n",
    "2) y=1, 1 Объект\n",
    "\n",
    "y=0\n",
    "\n",
    "1) y=0,     4 объекта\n",
    "\n",
    "2) y=1, 1 Объект\n",
    "\n",
    "4/5 1/5\n",
    "\n",
    "(0,2 + 0,3 + 0,5)/3"
   ]
  },
  {
   "cell_type": "markdown",
   "metadata": {
    "id": "SV4vq5FrabXP"
   },
   "source": [
    "За функционал качества при работе с деревом решений принимается функционал вида\n",
    "\n",
    "$$Q(X_{m}, j, t) = H(X_{m}) - \\frac{|X_{l}|}{|X_{m}|}H(X_{l}) - \\frac{|X_{r}|}{|X_{m}|}H(X_{r}),$$\n",
    "\n",
    "где $X_{m}$ - множество объектов, попавших в вершину на данном шаге, $X_{l}$ и $X_{r}$ - множества, попадающие в левое и правое поддерево, соответственно, после разбиения. $H(X)$ - _критерий информативности_. Он оценивает качество распределения объектов в подмножестве и тем меньше, чем меньше разнообразие ответов в $X$, соответственно, задача обучения состоит в его минимизации и, соответственно, максимизации $Q(X_{m}, j, t)$ на данном шаге. Последний, по сути, характеризует прирост качества на данном шаге.\n",
    "\n",
    "В формуле значения критериев информативности нормируются - домножаются на долю объектов, ушедших в соответствующее подмножество. Например, если у нас множество в узле разбилось на два подмножества размером в 9990 объектов и 10 объектов, но при этом в первом подмножестве все объекты будут принадлежать к одному классу (то есть иметь минимальное значение разброса), а во втором - к разным, то в целом разбиение будет считаться хорошим, так как подавляющее большинство отсортировано правильно."
   ]
  },
  {
   "cell_type": "markdown",
   "metadata": {},
   "source": [
    "---\n",
    "\n",
    "$X$ - как я понял это множество всех объектов выборки.\n",
    "\n",
    "---"
   ]
  },
  {
   "cell_type": "markdown",
   "metadata": {
    "id": "pjRAYZGJabXP"
   },
   "source": [
    "### Критерий информативности"
   ]
  },
  {
   "cell_type": "markdown",
   "metadata": {
    "id": "OUZfaAV7abXQ"
   },
   "source": [
    "В случае **регрессии** разброс будет характеризоваться дисперсией, поэтому критерий информативности будет записан в виде\n",
    "\n",
    "$$H(X) = \\frac{1}{X}\\sum_{i\\in X}(y_{i} - \\bar{y}(X))^{2},$$\n",
    "\n",
    "где $\\bar{y}(X)$ - среднее значение ответа в выборке $X$:\n",
    "\n",
    "$$\\bar{y}(X) = \\frac{1}{|X|}\\sum_{i\\in X}y_{i}.$$"
   ]
  },
  {
   "cell_type": "markdown",
   "metadata": {
    "id": "L-j5hnV_abXR"
   },
   "source": [
    "В задаче **классификации** есть несколько способов определить критерий информативности.\n",
    "\n",
    "**1)** Обозначим через $p_{k}$ долю объектов класса $k$ в выборке $X$:\n",
    "\n",
    "$$p_{k} = \\frac{1}{|X|}\\sum_{i\\in X}[y_{i} = k].$$\n",
    "\n",
    "$p_{k}$ будет характеризовать вероятность выдачи класса $k$.\n",
    "\n",
    "**2)** _Критерий Джини_ или _индекс Джини_ выглядит следующим образом:\n",
    "\n",
    "$$H(X) = \\sum^{K}_{k=1}p_{k}(1-p_{k}),$$\n",
    "\n",
    "где $K$ - количество классов в наборе данных $X$.\n",
    "\n",
    "Его минимум достигается когда все объекты в подмножестве относятся к одному классу, а максимум - при равном содержании объектов всех классов. Критерий информативности Джини можно интерпретировать как вероятность ошибки случайного классификатора.\n",
    "\n",
    "**3)** Еще один критерий информативности - _энтропийный критерий_. Он также называется _энтропией Шеннона_ и записывается как\n",
    "\n",
    "$$H(X) = - \\sum^{K}_{k=1}p_{k}\\text{log}_{2}p_{k}.$$\n",
    "\n",
    "Минимум энтропии также достигается когда все объекты относятся к одному класссу, а максимум - при равномерном распределении. Прирост информации есть утрата неопределенности (=уменьшение энтропии). Стоит отметить, что в формуле полагается, что $0\\text{log}_{2}0=0.$ \n"
   ]
  },
  {
   "cell_type": "markdown",
   "metadata": {
    "id": "wQbZUf1OabXS"
   },
   "source": [
    "### Критерии останова"
   ]
  },
  {
   "cell_type": "markdown",
   "metadata": {
    "id": "fNr4Fc7tabXS"
   },
   "source": [
    "_Критерии останова_ - это критерии, которые показывают, нужно ли остановить процесс построения дерева. Правильный выбор критериев останова роста дерева может существенно повлиять на его качество. Существует большое количество возможных ограничений:\n",
    "\n",
    "- Ограничение максимальной глубины дерева. Этот критерий считается достаточно грубым, но хорошо зарекомендовавшим себя в построении композиций деревьев - когда несколько деревьев объединяются в один алгоритм.\n",
    "\n",
    "\n",
    "- Ограничение максимального количества листьев.\n",
    "\n",
    "\n",
    "- Ограничение минимального количества $n$ объектов в листе. При этом оно должно быть достаточным, чтобы построить надежный прогноз.\n",
    "\n",
    "\n",
    "- Останов в случае, когда все объекты в листе относятся к одному классу.\n",
    "\n",
    "\n",
    "- Требование улучшения функционала качества при разбиении на какую-то минимальную величину.\n",
    "\n",
    "Подбор оптимальных критериев - сложная задача, которая обычно решается методом кросс-валидации."
   ]
  },
  {
   "cell_type": "markdown",
   "metadata": {},
   "source": [
    "---\n",
    "\n",
    "Когда делал проект, то так и не понял как оптимальным образом выбрал гиперпараметры для Decision Tree в sklearn.\n",
    "\n",
    "---"
   ]
  },
  {
   "cell_type": "markdown",
   "metadata": {
    "id": "vyLBxK_AabXT"
   },
   "source": [
    "### Обрезка деревьев (Pruning)"
   ]
  },
  {
   "cell_type": "markdown",
   "metadata": {
    "id": "gvdu6ypbabXU"
   },
   "source": [
    "В случае применения метода стрижки (обрезки, прунинга) деревьев использовать критерии останова необязательно, и можно строить переобученные деревья, затем снижая их сложность, удаляя листья по некоторому критерию (например, пока улучшается качество на отложенной выборке). Считается, что стрижка работает лучше, чем критерии останова."
   ]
  },
  {
   "cell_type": "markdown",
   "metadata": {
    "id": "t9Lc5HJnabXU"
   },
   "source": [
    "Одним из методов стрижки является _cost-complexity pruning_. Допустим, мы построили дерево, обозначенное как $T_{0}$. В каждом из листьев находятся объекты одного класса, и значение функционала ошибки $R(T)$ при этом будет минимально на $T_{0}$. Для борьбы с переобучением к нему добавляют \"штраф\" за размер дерева (аналогично регуляризации, рассмотренной нами в предыдущих уроках) и получают новый функционал $R_{\\alpha}(T)$:\n",
    "\n",
    "$$R_{\\alpha}(T) = R(T) + \\alpha|T|,$$\n",
    "\n",
    "где $|T|$ - число листьев в дереве, $\\alpha$ - некоторый параметр регуляризации. Таким образом если при построении дерева на каком-то этапе построения алгоритма ошибка будет неизменна, а глубина дерева увеличиваться, итоговый функционал, состоящий из их суммы, будет расти."
   ]
  },
  {
   "cell_type": "markdown",
   "metadata": {
    "id": "jSY2sT6CabXV"
   },
   "source": [
    "Однако стрижка деревьев обладает существенными минусами. В частности, она является очень трудоемкой процедурой. Например, она может требовать вычисления функционала качества на валидационной выборке на каждом шаге. К тому же, на данный момент одиночные деревья на практике почти не используются, а используются композиции деревьев, и в этом случае стрижка как метод борьбы с переобучением становится еще более сложным подходом. Обычно в такой ситуации достаточно использовать простые критерии останова."
   ]
  },
  {
   "cell_type": "markdown",
   "metadata": {
    "id": "g5FCRiMOabXW"
   },
   "source": [
    "## CART"
   ]
  },
  {
   "cell_type": "markdown",
   "metadata": {
    "id": "cMNNa6u1abXX"
   },
   "source": [
    "CART (Classification and regression trees) - первый из алгоритмов, состоящий в обычном последовательном построении дерева решений и придуманный в 1983 году. На первой итерации строятся все возможные разбиения исходного пространства на два и выбирается такое, при котором максимально выделен один из классов в одно подпространство. На следующих итерациях выбирается худший лист (с наибольшим разнообразием классов), и на нем проводится та же операция. Так продложается до достижения одного из критериев останова. \n",
    "\n",
    "Полученное дерево будет подогнано под обучающую выборку (переобучено), так что затем требуется его кросс-валидация или обрезка методом cost-complexity pruning. "
   ]
  },
  {
   "cell_type": "markdown",
   "metadata": {
    "id": "AQbwzLsWabXY"
   },
   "source": [
    "В качестве функции оценки качества разбиения используется критерий Джини, который также может быть записан как\n",
    "\n",
    "$$H(X) = 1 - \\sum^{K}_{k=1}p_{k}^{2}.$$\n",
    "\n",
    "в sklearn реализована улучшенная версия именно алгоритма CART."
   ]
  },
  {
   "cell_type": "markdown",
   "metadata": {
    "id": "sWm0sO22abXZ"
   },
   "source": [
    "## Реализация дерева решений"
   ]
  },
  {
   "cell_type": "markdown",
   "metadata": {
    "id": "9yZFTHXJabXa"
   },
   "source": [
    "Реализуем алгоритм алгоритм работы дерева решений своими руками."
   ]
  },
  {
   "cell_type": "code",
   "execution_count": 37,
   "metadata": {
    "colab": {
     "base_uri": "https://localhost:8080/"
    },
    "id": "u7Xi827dabXb",
    "outputId": "bb0d93f0-5760-433e-9ac6-ca5866b2940b"
   },
   "outputs": [],
   "source": [
    "import random\n",
    "from matplotlib.colors import ListedColormap\n",
    "from sklearn import datasets\n",
    "import numpy as np\n",
    "\n",
    "import matplotlib.pyplot as plt\n",
    "%matplotlib inline"
   ]
  },
  {
   "cell_type": "code",
   "execution_count": 38,
   "metadata": {
    "id": "6FZaieu8abXe"
   },
   "outputs": [],
   "source": [
    "# сгенерируем данные\n",
    "classification_data, classification_labels = datasets.make_classification(n_features = 2, n_informative = 2, \n",
    "                                                      n_classes = 2, n_redundant=0, \n",
    "                                                      n_clusters_per_class=1, random_state=5)"
   ]
  },
  {
   "cell_type": "code",
   "execution_count": 39,
   "metadata": {
    "scrolled": true
   },
   "outputs": [
    {
     "data": {
      "text/plain": [
       "((100, 2), (100,))"
      ]
     },
     "execution_count": 39,
     "metadata": {},
     "output_type": "execute_result"
    }
   ],
   "source": [
    "classification_data.shape, classification_labels.shape"
   ]
  },
  {
   "cell_type": "code",
   "execution_count": 40,
   "metadata": {
    "colab": {
     "base_uri": "https://localhost:8080/",
     "height": 501
    },
    "id": "FHpOr1k6abXg",
    "outputId": "e1053e1c-0f3e-467f-eb26-7391652e3bc9",
    "scrolled": false
   },
   "outputs": [
    {
     "data": {
      "image/png": "[encoded data removed]",
      "text/plain": [
       "<Figure size 576x576 with 1 Axes>"
      ]
     },
     "metadata": {
      "needs_background": "light"
     },
     "output_type": "display_data"
    }
   ],
   "source": [
    "# визуализируем сгенерированные данные\n",
    "\n",
    "colors = ListedColormap(['red', 'blue'])\n",
    "light_colors = ListedColormap(['lightcoral', 'lightblue'])\n",
    "\n",
    "plt.figure(figsize=(8,8))\n",
    "plt.scatter(list(map(lambda x: x[0], classification_data)), list(map(lambda x: x[1], classification_data)), \n",
    "              c=classification_labels, cmap=colors)\n",
    "\n",
    "plt.xlabel('Feature 1')\n",
    "plt.ylabel('Feature 2')\n",
    "plt.title('Бинарная выборка')\n",
    "plt.show()"
   ]
  },
  {
   "cell_type": "code",
   "execution_count": 41,
   "metadata": {
    "id": "Duu45IJUabXi"
   },
   "outputs": [],
   "source": [
    "# Реализуем класс узла\n",
    "\n",
    "class Node:\n",
    "    \n",
    "    def __init__(self, index, t, true_branch, false_branch):\n",
    "        self.index = index  # индекс признака, по которому ведется сравнение с порогом в этом узле\n",
    "        self.t = t  # значение порога\n",
    "        self.true_branch = true_branch  # поддерево, удовлетворяющее условию в узле\n",
    "        self.false_branch = false_branch  # поддерево, не удовлетворяющее условию в узле\n",
    "        \n",
    "#     def __str__(self):\n",
    "#         # от себя\n",
    "#         return f\"\\tNode->(index: {self.index}, \\n\\tt: {self.t}, \\n\\ttrue_branch: {self.true_branch}, \\n\\tfalse_branch: {self.false_branch})\""
   ]
  },
  {
   "cell_type": "code",
   "execution_count": 42,
   "metadata": {
    "id": "QY8oNtakabXl"
   },
   "outputs": [],
   "source": [
    "# И класс терминального узла (листа)\n",
    "\n",
    "class Leaf:\n",
    "    \n",
    "    def __init__(self, data, labels):\n",
    "        self.data = data # значения признаков\n",
    "        self.labels = labels  # y_true\n",
    "        self.prediction = self.predict()  # y_pred\n",
    "        \n",
    "    def predict(self):\n",
    "        # подсчет количества объектов разных классов\n",
    "        classes = {}  # сформируем словарь \"класс: количество объектов\"\n",
    "        for label in self.labels:\n",
    "            if label not in classes:\n",
    "                classes[label] = 0\n",
    "            classes[label] += 1\n",
    "        #  найдем класс, количество объектов которого будет максимальным в этом листе и вернем его   \n",
    "        prediction = max(classes, key=classes.get)\n",
    "        return prediction\n",
    "    \n",
    "#     def __str__(self):\n",
    "#         # от себя\n",
    "#         return f\"Leaf->Class: {self.prediction}\""
   ]
  },
  {
   "cell_type": "markdown",
   "metadata": {
    "id": "ejptsM1WxIcK"
   },
   "source": [
    "Обозначим через $p_{k}$ долю объектов класса $k$ в выборке $X$: $$p_{k} = \\frac{1}{|X|}\\sum_{i\\in X}[y_{i} = k].$$\n",
    "$p_{k}$ будет характеризовать вероятность выдачи класса $k$."
   ]
  },
  {
   "cell_type": "code",
   "execution_count": 43,
   "metadata": {
    "id": "94V_amRoxIcK"
   },
   "outputs": [],
   "source": [
    "# p = classes[label] / len(labels)"
   ]
  },
  {
   "cell_type": "markdown",
   "metadata": {
    "id": "GBZOKPC8xIcL"
   },
   "source": [
    "Критерий Джини, который также может быть записан как\n",
    "\n",
    "$$H(X) = 1 - \\sum^{K}_{k=1}p_{k}^{2}.$$"
   ]
  },
  {
   "cell_type": "code",
   "execution_count": 44,
   "metadata": {
    "id": "uBdli3WDabXn"
   },
   "outputs": [],
   "source": [
    "# Расчет критерия Джини\n",
    "\n",
    "def gini(labels):\n",
    "    #  подсчет количества объектов разных классов\n",
    "    classes = {}\n",
    "    for label in labels:\n",
    "        if label not in classes:\n",
    "            classes[label] = 0\n",
    "        classes[label] += 1\n",
    "    \n",
    "    #  расчет критерия\n",
    "    impurity = 1     # \"impurity\" - \"нечистота\", степень неопределенности\n",
    "    for label in classes:\n",
    "        p = classes[label] / len(labels) # долю объектов класса в листе\n",
    "        impurity -= p ** 2 # Критерий Джини\n",
    "        \n",
    "    return impurity"
   ]
  },
  {
   "cell_type": "markdown",
   "metadata": {
    "id": "r3azK19hxIcL"
   },
   "source": [
    "Функционал качества\n",
    "\n",
    "$$Q(X_{m}, j, t) = H(X_{m}) - \\frac{|X_{l}|}{|X_{m}|}H(X_{l}) - \\frac{|X_{r}|}{|X_{m}|}H(X_{r}),$$"
   ]
  },
  {
   "cell_type": "code",
   "execution_count": 45,
   "metadata": {
    "id": "wasxZhdQxIcM"
   },
   "outputs": [],
   "source": [
    "# current_gini - p * gini(left_labels) - (1 - p) * gini(right_labels)"
   ]
  },
  {
   "cell_type": "markdown",
   "metadata": {
    "id": "H82qGhi6xIcM"
   },
   "source": [
    "$$\\frac{|X_{l}|}{|X_{m}|}$$"
   ]
  },
  {
   "cell_type": "code",
   "execution_count": 46,
   "metadata": {
    "id": "2EXvl1p7xIcM"
   },
   "outputs": [],
   "source": [
    "# float(left_labels.shape[0]) / (left_labels.shape[0] + right_labels.shape[0])"
   ]
  },
  {
   "cell_type": "code",
   "execution_count": 47,
   "metadata": {
    "id": "9vvLDhuRabXr"
   },
   "outputs": [],
   "source": [
    "# Расчет качества\n",
    "\n",
    "def quality(left_labels, right_labels, current_gini):\n",
    "\n",
    "    # доля выборки, ушедшей в левое поддерево\n",
    "    p = float(left_labels.shape[0]) / (left_labels.shape[0] + right_labels.shape[0]) # для правого (1-p)\n",
    "    \n",
    "    return current_gini - p * gini(left_labels) - (1 - p) * gini(right_labels) # Функционал качества"
   ]
  },
  {
   "cell_type": "code",
   "execution_count": 48,
   "metadata": {
    "id": "nhWkphi3abXt"
   },
   "outputs": [],
   "source": [
    "# Разбиение датасета в узле\n",
    "\n",
    "def split(data, labels, index, t):\n",
    "    # index - индекс признака в data\n",
    "    left = np.where(data[:, index] <= t)\n",
    "    right = np.where(data[:, index] > t)\n",
    "        \n",
    "    true_data = data[left]\n",
    "    false_data = data[right]\n",
    "    true_labels = labels[left]\n",
    "    false_labels = labels[right]\n",
    "        \n",
    "    return true_data, false_data, true_labels, false_labels"
   ]
  },
  {
   "cell_type": "code",
   "execution_count": 49,
   "metadata": {
    "id": "5wi8Fbs_abXw"
   },
   "outputs": [],
   "source": [
    "# Нахождение наилучшего разбиения (для всего лишь 1 узла, происходит обход всех признаков)\n",
    "\n",
    "def find_best_split(data, labels):\n",
    "    \n",
    "    #  обозначим минимальное количество объектов в узле (КРИТЕРИЙ ОСТАНОВА)\n",
    "    min_leaf = 5\n",
    "\n",
    "    current_gini = gini(labels) \n",
    "\n",
    "    best_quality = 0\n",
    "    best_t = None # лучший порог разбиения\n",
    "    best_index = None # лучший индекс разбиения\n",
    "    \n",
    "    n_features = data.shape[1] # кол-во признаков\n",
    "    \n",
    "    for index in range(n_features): # проход по всем признакам\n",
    "        t_values = [row[index] for row in data] # берем столбец/признак с соотв. индексом\n",
    "        \n",
    "        for t in t_values: # проход по признаку\n",
    "            true_data, false_data, true_labels, false_labels = split(data, labels, index, t) # делаем разбиение\n",
    "            #  пропускаем разбиения, в которых в узле остается менее 5 объектов\n",
    "            if len(true_data) < min_leaf or len(false_data) < min_leaf:\n",
    "                continue # начинаем следующий проход цикла, минуя оставшееся тело цикла\n",
    "            \n",
    "            # расчет качества текущего разбиения\n",
    "            current_quality = quality(true_labels, false_labels, current_gini)\n",
    "            \n",
    "            #  выбираем порог, на котором получается максимальный прирост качества\n",
    "            if current_quality > best_quality:\n",
    "                best_quality, best_t, best_index = current_quality, t, index\n",
    "\n",
    "    return best_quality, best_t, best_index"
   ]
  },
  {
   "cell_type": "code",
   "execution_count": 50,
   "metadata": {
    "id": "f1__qSXSabXy"
   },
   "outputs": [],
   "source": [
    "# Построение дерева с помощью рекурсивной функции\n",
    "\n",
    "def build_tree(data, labels):\n",
    "    \n",
    "    # корень\n",
    "    quality, t, index = find_best_split(data, labels) # ищем лучшее разбиение\n",
    "#     print(quality, t, index)\n",
    "\n",
    "    #  Базовый случай - прекращаем рекурсию, когда нет прироста в качества\n",
    "    # неопределенность после разбиения осталась такой же как до\n",
    "    if quality == 0: # критерий останова\n",
    "#         print('leaf')\n",
    "        return Leaf(data, labels) # считаем прогноз для листьев\n",
    "\n",
    "    # если качество улучшилось, то делим дерево по лучшему разбиению\n",
    "    true_data, false_data, true_labels, false_labels = split(data, labels, index, t)\n",
    "\n",
    "    # Рекурсивно строим два поддерева (ветки)\n",
    "    true_branch = build_tree(true_data, true_labels)\n",
    "    false_branch = build_tree(false_data, false_labels)\n",
    "\n",
    "    # Возвращаем класс узла со всеми поддеревьями, то есть целого дерева\n",
    "    return Node(index, t, true_branch, false_branch)"
   ]
  },
  {
   "cell_type": "code",
   "execution_count": 51,
   "metadata": {
    "id": "F7ruKazCabX3"
   },
   "outputs": [],
   "source": [
    "# Проход объекта (объект=набор признаков одного объекта) по дереву для его классификации\n",
    "\n",
    "def classify_object(obj, node):\n",
    "\n",
    "    #  Останавливаем рекурсию, если достигли листа\n",
    "    if isinstance(node, Leaf): # проверка текущий узел это лист?\n",
    "        answer = node.prediction # считаем прогноз для листа\n",
    "        return answer\n",
    "\n",
    "    if obj[node.index] <= node.t: # если значение признака меньше порога t\n",
    "        return classify_object(obj, node.true_branch) # рекурсия: отправляем объект в true-ветку\n",
    "    else:\n",
    "        return classify_object(obj, node.false_branch) # рекурсия: отправляем объект в false-ветку"
   ]
  },
  {
   "cell_type": "code",
   "execution_count": 52,
   "metadata": {
    "id": "SLOdTAqdabX7"
   },
   "outputs": [],
   "source": [
    "# Предсказание деревом для всего датасета\n",
    "\n",
    "def predict(data, tree):\n",
    "    \n",
    "    classes = []\n",
    "    for obj in data:\n",
    "        prediction = classify_object(obj, tree) # определяем ветки для объектов\n",
    "        classes.append(prediction)\n",
    "    return classes"
   ]
  },
  {
   "cell_type": "code",
   "execution_count": 53,
   "metadata": {
    "id": "wnDPkwVJabYA"
   },
   "outputs": [],
   "source": [
    "# Разобьем выборку на обучающую и тестовую\n",
    "\n",
    "from sklearn import model_selection\n",
    "\n",
    "train_data, test_data, train_labels, test_labels = model_selection.train_test_split(classification_data, \n",
    "                                                                                     classification_labels, \n",
    "                                                                                     test_size = 0.3,\n",
    "                                                                                     random_state = 1)"
   ]
  },
  {
   "cell_type": "code",
   "execution_count": 54,
   "metadata": {
    "colab": {
     "base_uri": "https://localhost:8080/",
     "height": 105
    },
    "id": "UbbvkqvOabYD",
    "outputId": "d5834414-bc82-46a5-e25d-58e04318e0ac"
   },
   "outputs": [],
   "source": [
    "# Построим дерево по обучающей выборке\n",
    "my_tree = build_tree(train_data, train_labels)"
   ]
  },
  {
   "cell_type": "code",
   "execution_count": 55,
   "metadata": {
    "colab": {
     "base_uri": "https://localhost:8080/"
    },
    "id": "GF1rVs9VabYG",
    "outputId": "8ec38b05-464b-4901-c69e-15ec230a33eb"
   },
   "outputs": [
    {
     "name": "stdout",
     "output_type": "stream",
     "text": [
      "Индекс 0\n",
      "Порог 0.16261402870113306\n",
      "--> True:\n",
      "  Индекс 1\n",
      "  Порог -1.5208896621663803\n",
      "  --> True:\n",
      "    Индекс 0\n",
      "    Порог -0.9478301462477035\n",
      "    --> True:\n",
      "      Прогноз: 0\n",
      "    --> False:\n",
      "      Прогноз: 1\n",
      "  --> False:\n",
      "    Прогноз: 0\n",
      "--> False:\n",
      "  Прогноз: 1\n"
     ]
    }
   ],
   "source": [
    "# Напечатаем ход нашего дерева\n",
    "def print_tree(node, spacing=\"\"):\n",
    "\n",
    "    # Если лист, то выводим его прогноз\n",
    "    if isinstance(node, Leaf):\n",
    "        print(spacing + \"Прогноз:\", node.prediction)\n",
    "        return\n",
    "\n",
    "    # Выведем значение индекса и порога на этом узле\n",
    "    print(spacing + 'Индекс', str(node.index))\n",
    "    print(spacing + 'Порог', str(node.t))\n",
    "\n",
    "    # Рекурсионный вызов функции на положительном поддереве\n",
    "    print (spacing + '--> True:')\n",
    "    print_tree(node.true_branch, spacing + \"  \")\n",
    "\n",
    "    # Рекурсионный вызов функции на отрицательном поддереве\n",
    "    print (spacing + '--> False:')\n",
    "    print_tree(node.false_branch, spacing + \"  \")\n",
    "    \n",
    "print_tree(my_tree)"
   ]
  },
  {
   "cell_type": "code",
   "execution_count": 56,
   "metadata": {
    "colab": {
     "base_uri": "https://localhost:8080/"
    },
    "id": "CyvzFQp3abYI",
    "outputId": "88f563c6-1ddc-46f6-d399-eda44e8ac607"
   },
   "outputs": [
    {
     "data": {
      "text/plain": [
       "[1, 1, 0, 0, 1]"
      ]
     },
     "execution_count": 56,
     "metadata": {},
     "output_type": "execute_result"
    }
   ],
   "source": [
    "# Получим ответы для обучающей выборки \n",
    "train_answers = predict(train_data, my_tree)\n",
    "train_answers[:5]"
   ]
  },
  {
   "cell_type": "code",
   "execution_count": 57,
   "metadata": {
    "id": "Rl6IyN8yabYN"
   },
   "outputs": [],
   "source": [
    "# И получим ответы для тестовой выборки\n",
    "answers = predict(test_data, my_tree)"
   ]
  },
  {
   "cell_type": "markdown",
   "metadata": {
    "id": "-vjPDt1DxIcR"
   },
   "source": [
    "Accuracy = расчет *доли правильных ответов*:\n",
    "\n",
    "$$accuracy(a,x) = \\frac{1}{l} \\sum^{l}_{i=1}[a(x_{i})=y_{i}].$$"
   ]
  },
  {
   "cell_type": "code",
   "execution_count": 58,
   "metadata": {
    "id": "2odXAe7vabYP"
   },
   "outputs": [],
   "source": [
    "# Введем функцию подсчета точности как доли правильных ответов\n",
    "def accuracy_metric(actual, predicted):\n",
    "    correct = 0\n",
    "    for i in range(len(actual)):\n",
    "        if actual[i] == predicted[i]:\n",
    "            correct += 1\n",
    "    return correct / float(len(actual)) * 100.0"
   ]
  },
  {
   "cell_type": "code",
   "execution_count": 59,
   "metadata": {
    "colab": {
     "base_uri": "https://localhost:8080/"
    },
    "id": "Jn0L6r8CabYS",
    "outputId": "55275acd-cdb8-4627-a031-43dcd9b4b5da"
   },
   "outputs": [
    {
     "data": {
      "text/plain": [
       "98.57142857142858"
      ]
     },
     "execution_count": 59,
     "metadata": {},
     "output_type": "execute_result"
    }
   ],
   "source": [
    "# Точность на обучающей выборке\n",
    "train_accuracy = accuracy_metric(train_labels, train_answers)\n",
    "train_accuracy"
   ]
  },
  {
   "cell_type": "code",
   "execution_count": 60,
   "metadata": {
    "colab": {
     "base_uri": "https://localhost:8080/"
    },
    "id": "D__eGtLRabYU",
    "outputId": "157ca0e8-4c87-4d43-9162-f088f379a06b"
   },
   "outputs": [
    {
     "data": {
      "text/plain": [
       "100.0"
      ]
     },
     "execution_count": 60,
     "metadata": {},
     "output_type": "execute_result"
    }
   ],
   "source": [
    "# Точность на тестовой выборке\n",
    "test_accuracy = accuracy_metric(test_labels, answers)\n",
    "test_accuracy"
   ]
  },
  {
   "cell_type": "code",
   "execution_count": 61,
   "metadata": {
    "colab": {
     "base_uri": "https://localhost:8080/",
     "height": 462
    },
    "id": "TEHbV9hXabYW",
    "outputId": "41657d28-8da3-4058-afa1-e06c98361ff5"
   },
   "outputs": [
    {
     "data": {
      "text/plain": [
       "Text(0.5, 1.0, 'Test accuracy=100.00')"
      ]
     },
     "execution_count": 61,
     "metadata": {},
     "output_type": "execute_result"
    },
    {
     "data": {
      "image/png": "[encoded data removed]",
      "text/plain": [
       "<Figure size 1152x504 with 2 Axes>"
      ]
     },
     "metadata": {
      "needs_background": "light"
     },
     "output_type": "display_data"
    }
   ],
   "source": [
    "# Визуализируем дерево на графике\n",
    "\n",
    "def get_meshgrid(data, step=.05, border=1.2):\n",
    "    x_min, x_max = data[:, 0].min() - border, data[:, 0].max() + border\n",
    "    y_min, y_max = data[:, 1].min() - border, data[:, 1].max() + border\n",
    "    return np.meshgrid(np.arange(x_min, x_max, step), np.arange(y_min, y_max, step)) # список массивов координатных сеток\n",
    "\n",
    "plt.figure(figsize = (16, 7))\n",
    "\n",
    "# график обучающей выборки\n",
    "plt.subplot(1,2,1)\n",
    "xx, yy = get_meshgrid(train_data)\n",
    "mesh_predictions = np.array(predict(np.c_[xx.ravel(), yy.ravel()], my_tree)).reshape(xx.shape) # определяем цвета квадратов в сетке\n",
    "plt.pcolormesh(xx, yy, mesh_predictions, cmap = light_colors)\n",
    "plt.scatter(train_data[:, 0], train_data[:, 1], c = train_labels, cmap = colors)\n",
    "plt.title(f'Train accuracy={train_accuracy:.2f}')\n",
    "\n",
    "# график тестовой выборки\n",
    "plt.subplot(1,2,2)\n",
    "plt.pcolormesh(xx, yy, mesh_predictions, cmap = light_colors)\n",
    "plt.scatter(test_data[:, 0], test_data[:, 1], c = test_labels, cmap = colors)\n",
    "plt.title(f'Test accuracy={test_accuracy:.2f}')"
   ]
  },
  {
   "cell_type": "markdown",
   "metadata": {
    "id": "DC48TQN9abYY"
   },
   "source": [
    "Как видно, дерево строит кусочно-постоянную разделяющую гиперплоскость, то есть состоящую из прямых, параллельных осям. Чем глубже дерево, тем сложнее гиперплоскость. Также происходит и в случае регрессии - график зависимости целевого значения восстанавливается кусочно-постоянной функцией."
   ]
  },
  {
   "cell_type": "markdown",
   "metadata": {
    "id": "eAYfxLSTabYZ"
   },
   "source": [
    "## Работа деревьев в случае пропущенных значений"
   ]
  },
  {
   "cell_type": "markdown",
   "metadata": {},
   "source": [
    "---\n",
    "\n",
    "* Решающие деревья позволяют обрабатывать более менее пропуски в данных, то есть алгоритм безболезненно проглатывает пропуски.\n",
    "\n",
    "* Также задачи с мультиколлинеарными признаками более менее нормально обрабатываются деревьями.\n",
    "\n",
    "---"
   ]
  },
  {
   "cell_type": "markdown",
   "metadata": {
    "id": "nhyvKAv2abYa"
   },
   "source": [
    "Иногда в реальных задачах бывает так, что не для всех объектов известно значение того или иного признака. Одним из преимуществ деревьев решений является возможность обрабатывать такие случаи.\n",
    "\n",
    "Допустим, требуется вычислить функционал качества для разбиения $[x_{j}<t]$, но в выборке $X_{m}$ для некоторого подмножества объектов $V_{j}$ неизвестно значение $j$-го признака. В этом случае функционал качества рассчитывается без учета этих объектов (обозначим выборку без их учета как $X_{m}\\text{\\ }V_{j}$), с поправкой на потерю информации:\n",
    "\n",
    "$$Q_{X_{m}, j, t} = \\frac{|X_{m}\\text{\\ } V_{j}|}{|X_{m}|}Q(X_{m}\\text{\\ }V_{j}, j,t).$$"
   ]
  },
  {
   "cell_type": "markdown",
   "metadata": {
    "id": "V9mAVLqrabYb"
   },
   "source": [
    "Если такое разбиение окажется лучшим, объекты из $V_{j}$ помещаются в оба образованных поддерева.\n",
    "\n",
    "На этапе применения дерева выполняется похожая операция. Если объект попал в вершину, в которой нельзя вычислить критерий разбиения из-за отсутствия значения необходимого признака, прогнозы для него вычисляются в обоих поддеревьях, а затем усредняются с весами, пропорциональными числу объектов в них.\n",
    "\n",
    "$$\\frac{|X_{l}|}{|X_{m}|}a_{l}(x) + \\frac{|X_{r}|}{|X_{m}|}a_{r}(x),$$\n",
    "\n",
    "где $a$ - прогноз вероятности отнесения объекта $x$ к одному из классов."
   ]
  },
  {
   "cell_type": "markdown",
   "metadata": {
    "id": "VMUVpzQ-abYd"
   },
   "source": [
    "Кроме этого подхода существует метод построения _суррогатных предикатов_ в каждой вершине. Проще говоря, это запасной предикат, который использует другой признак, но при этом дает максимально близкое к исходному разбиение."
   ]
  },
  {
   "cell_type": "markdown",
   "metadata": {
    "id": "jyKBrnbpabYd"
   },
   "source": [
    "## Работа деревьев с категориальными признаками"
   ]
  },
  {
   "cell_type": "markdown",
   "metadata": {},
   "source": [
    "---\n",
    "\n",
    "Вот тут есть проблема. Непонятно как их сравнивать, чтобы разбивать.\n",
    "\n",
    "---"
   ]
  },
  {
   "cell_type": "markdown",
   "metadata": {
    "id": "WaIif9BAabYe"
   },
   "source": [
    "Кроме вещественных и бинарных признаков в задаче могут иметь место категориальные признаки (делящиеся на конечное число категорий, например, цвета автомобилей). \n",
    "\n"
   ]
  },
  {
   "cell_type": "markdown",
   "metadata": {},
   "source": [
    "Самый простой способ учета категориальных признаков в алгоритме деревьев состоит в разбитии вершины на столько поддеревьев, сколько имеется возможных значений признака. В этом случае дерево называется _n-арным_. Условие разбиения будет простым (отнесение признака к той или иной категории), однако здесь появляется риск получения конечного дерева с очень большим числом листьев. В случае такого дерева критерий ошибки $Q$ будет состоять из $n$ слагаемых (или из $(n+1)$) в случае максимизируемого критерия, который мы использовали. \n",
    "\n",
    "-- Это как раз соответствует АЛГОРИТМУ ID3."
   ]
  },
  {
   "cell_type": "markdown",
   "metadata": {
    "id": "oo6IMSS-abYf"
   },
   "source": [
    "Есть и другой подход, заключающийся в формировании бинарных деревьев путем разделения множества значений признака $C = \\{c_{1}, ...,c_{n}\\}$ на два непересекающихся подмножества $C_{1}$ и $C_{2}$. После такого разделения условием разбиения в узле будет проверка принадлежности признака одному из подмножеств $[x \\in C_{1}]$.\n",
    "\n",
    "Задача остается в выборе оптимального варианта разбиения исходного множества на два подмножества, так как обычный перебор всех вариантов может быть крайне затруднительным из-за большого количества вариантов разбиения. В случаях с бинарной классификацией и регрессией используют следующий метод: все возможные значения категориального признака сортируются по определенному принципу, затем заменяются на натуральные числа.\n",
    "\n",
    "В случае бинарной классификации признаки упорядочиваются на основе того, какая доля объектов с такими признаками относится к классу +1. Если обозначить множество объектов в узле $m$, у которых $j$-й признак имеет значение $с$, через $X_{m}(c)$, а через $N_{m}(c)$ количество таких объектов, получим:\n",
    "\n",
    "$$\\frac{1}{N_{m}(c_{1})} \\sum_{x \\in X_{m}(c_{1})}[y_{i}=+1]\\leq...\\leq \\frac{1}{N_{m}(c_{n})} \\sum_{x \\in X_{m}(c_{n})}[y_{i}=+1],$$\n",
    "\n",
    "и после замены категории $c_{i}$ на натуральное число ищется разбиение как для вещественного признака."
   ]
  },
  {
   "cell_type": "markdown",
   "metadata": {
    "id": "Bb3tpXPcabYf"
   },
   "source": [
    "В случае задачи регрессии сортировка происходит схожим образом, но вместо доли объектов положительного класса среди объектов с таким значением признака вычисляется средний ответ по объектам с соответствующим значением категориального признака:\n",
    "\n",
    "$$\\frac{1}{N_{m}(c_{1})} \\sum_{x \\in X_{m}(c_{1})}y_{i}\\leq...\\leq \\frac{1}{N_{m}(c_{n})} \\sum_{x \\in X_{m}(c_{n})}y_{i}.$$"
   ]
  },
  {
   "cell_type": "markdown",
   "metadata": {},
   "source": [
    "__Пример Decision Tree из sklearn__"
   ]
  },
  {
   "cell_type": "markdown",
   "metadata": {
    "id": "flTxwbkY7LIK"
   },
   "source": [
    "Решающее дерево: https://scikit-learn.org/stable/modules/generated/sklearn.tree.DecisionTreeClassifier.html "
   ]
  },
  {
   "cell_type": "code",
   "execution_count": 62,
   "metadata": {
    "id": "JFamWogp7cKU"
   },
   "outputs": [],
   "source": [
    "from sklearn.tree import DecisionTreeClassifier"
   ]
  },
  {
   "cell_type": "code",
   "execution_count": 63,
   "metadata": {
    "colab": {
     "base_uri": "https://localhost:8080/"
    },
    "id": "fXkZTaYh7d-m",
    "outputId": "94fc7ec4-898c-4230-c5e3-beb17da2a014"
   },
   "outputs": [
    {
     "data": {
      "text/plain": [
       "DecisionTreeClassifier(max_depth=3, random_state=0)"
      ]
     },
     "execution_count": 63,
     "metadata": {},
     "output_type": "execute_result"
    }
   ],
   "source": [
    "clf = DecisionTreeClassifier(random_state=0, max_depth=3)\n",
    "clf.fit(train_data, train_labels)\n"
   ]
  },
  {
   "cell_type": "code",
   "execution_count": 64,
   "metadata": {
    "colab": {
     "base_uri": "https://localhost:8080/"
    },
    "id": "GxxFjhUO8XSr",
    "outputId": "767a4e45-d290-4996-be0e-9330663d72fa"
   },
   "outputs": [
    {
     "data": {
      "text/plain": [
       "(98.57142857142858, 98.57142857142858)"
      ]
     },
     "execution_count": 64,
     "metadata": {},
     "output_type": "execute_result"
    }
   ],
   "source": [
    "# Точность на обучающей выборке\n",
    "train_accuracy_s = accuracy_metric(train_labels,clf.predict(train_data))\n",
    "train_accuracy_s,train_accuracy"
   ]
  },
  {
   "cell_type": "code",
   "execution_count": 65,
   "metadata": {
    "colab": {
     "base_uri": "https://localhost:8080/"
    },
    "id": "axdLLZWW8Emq",
    "outputId": "a9ea605e-e0b9-42fb-f72c-2ab778fc9c35"
   },
   "outputs": [
    {
     "data": {
      "text/plain": [
       "(100.0, 100.0)"
      ]
     },
     "execution_count": 65,
     "metadata": {},
     "output_type": "execute_result"
    }
   ],
   "source": [
    "# Точность на тестовой выборке\n",
    "test_accuracy_s = accuracy_metric(test_labels,clf.predict(test_data))\n",
    "test_accuracy_s,test_accuracy"
   ]
  },
  {
   "cell_type": "code",
   "execution_count": 66,
   "metadata": {
    "colab": {
     "base_uri": "https://localhost:8080/",
     "height": 462
    },
    "id": "0c1DQM8S8uju",
    "outputId": "eb1c757b-4f69-4ed7-ce8b-9e0661d52fac"
   },
   "outputs": [
    {
     "data": {
      "text/plain": [
       "Text(0.5, 1.0, 'Test accuracy=100.00')"
      ]
     },
     "execution_count": 66,
     "metadata": {},
     "output_type": "execute_result"
    },
    {
     "data": {
      "image/png": "[encoded data removed]",
      "text/plain": [
       "<Figure size 1152x504 with 2 Axes>"
      ]
     },
     "metadata": {
      "needs_background": "light"
     },
     "output_type": "display_data"
    }
   ],
   "source": [
    "plt.figure(figsize = (16, 7))\n",
    "\n",
    "# график обучающей выборки\n",
    "plt.subplot(1,2,1)\n",
    "xx, yy = get_meshgrid(train_data)\n",
    "mesh_predictions = np.array(clf.predict(np.c_[xx.ravel(), yy.ravel()])).reshape(xx.shape) # определяем цвета квадратов в сетке\n",
    "plt.pcolormesh(xx, yy, mesh_predictions, cmap = light_colors)\n",
    "plt.scatter(train_data[:, 0], train_data[:, 1], c = train_labels, cmap = colors)\n",
    "plt.title(f'Train accuracy={train_accuracy_s:.2f}')\n",
    "\n",
    "# график тестовой выборки\n",
    "plt.subplot(1,2,2)\n",
    "plt.pcolormesh(xx, yy, mesh_predictions, cmap = light_colors)\n",
    "plt.scatter(test_data[:, 0], test_data[:, 1], c = test_labels, cmap = colors)\n",
    "plt.title(f'Test accuracy={test_accuracy_s:.2f}')"
   ]
  },
  {
   "cell_type": "code",
   "execution_count": 67,
   "metadata": {
    "id": "Y7AzdCc0-w1G"
   },
   "outputs": [],
   "source": [
    "# logging.basicConfig(format='[%(levelname)s@%(name)s] %(message)s', level=logging.disable)"
   ]
  },
  {
   "cell_type": "code",
   "execution_count": 68,
   "metadata": {
    "colab": {
     "base_uri": "https://localhost:8080/",
     "height": 372
    },
    "id": "S75azOyy-jkG",
    "outputId": "8a9369f7-231f-4945-ce13-c43d7df38bc6"
   },
   "outputs": [
    {
     "data": {
      "text/plain": [
       "[Text(0.6666666666666666, 0.875, 'X[0] <= 0.192\\ngini = 0.5\\nsamples = 70\\nvalue = [35, 35]'),\n",
       " Text(0.5, 0.625, 'X[1] <= -1.469\\ngini = 0.219\\nsamples = 40\\nvalue = [35, 5]'),\n",
       " Text(0.3333333333333333, 0.375, 'X[0] <= -0.895\\ngini = 0.486\\nsamples = 12\\nvalue = [7, 5]'),\n",
       " Text(0.16666666666666666, 0.125, 'gini = 0.0\\nsamples = 6\\nvalue = [6, 0]'),\n",
       " Text(0.5, 0.125, 'gini = 0.278\\nsamples = 6\\nvalue = [1, 5]'),\n",
       " Text(0.6666666666666666, 0.375, 'gini = 0.0\\nsamples = 28\\nvalue = [28, 0]'),\n",
       " Text(0.8333333333333334, 0.625, 'gini = 0.0\\nsamples = 30\\nvalue = [0, 30]')]"
      ]
     },
     "execution_count": 68,
     "metadata": {},
     "output_type": "execute_result"
    },
    {
     "data": {
      "image/png": "[encoded data removed]",
      "text/plain": [
       "<Figure size 432x288 with 1 Axes>"
      ]
     },
     "metadata": {
      "needs_background": "light"
     },
     "output_type": "display_data"
    }
   ],
   "source": [
    "from sklearn import tree\n",
    "\n",
    "tree.plot_tree(clf) "
   ]
  },
  {
   "cell_type": "code",
   "execution_count": 69,
   "metadata": {
    "colab": {
     "base_uri": "https://localhost:8080/",
     "height": 598
    },
    "id": "2QZc6ZTJ_C5E",
    "outputId": "1d0ad133-8ea7-4d2c-d6a4-f9fd6fe9316c"
   },
   "outputs": [],
   "source": [
    "# чтоб рисовать graph нужно установить graphviz на Windows и прописать запускалку в переменные среды\n",
    "\n",
    "# dot_data = tree.export_graphviz(clf, out_file=None,feature_names=['X0','X1'],class_names=['0','1'], filled=True, rounded=True,special_characters=True)  \n",
    "# graph = graphviz.Source(dot_data)  \n",
    "# graph "
   ]
  },
  {
   "cell_type": "code",
   "execution_count": 70,
   "metadata": {
    "scrolled": true
   },
   "outputs": [
    {
     "name": "stdout",
     "output_type": "stream",
     "text": [
      "digraph Tree {\n",
      "node [shape=box, style=\"filled, rounded\", color=\"black\", fontname=\"helvetica\"] ;\n",
      "edge [fontname=\"helvetica\"] ;\n",
      "0 [label=<X0 &le; 0.192<br/>gini = 0.5<br/>samples = 70<br/>value = [35, 35]<br/>class = 0>, fillcolor=\"#ffffff\"] ;\n",
      "1 [label=<X1 &le; -1.469<br/>gini = 0.219<br/>samples = 40<br/>value = [35, 5]<br/>class = 0>, fillcolor=\"#e99355\"] ;\n",
      "0 -> 1 [labeldistance=2.5, labelangle=45, headlabel=\"True\"] ;\n",
      "2 [label=<X0 &le; -0.895<br/>gini = 0.486<br/>samples = 12<br/>value = [7, 5]<br/>class = 0>, fillcolor=\"#f8dbc6\"] ;\n",
      "1 -> 2 ;\n",
      "3 [label=<gini = 0.0<br/>samples = 6<br/>value = [6, 0]<br/>class = 0>, fillcolor=\"#e58139\"] ;\n",
      "2 -> 3 ;\n",
      "4 [label=<gini = 0.278<br/>samples = 6<br/>value = [1, 5]<br/>class = 1>, fillcolor=\"#61b1ea\"] ;\n",
      "2 -> 4 ;\n",
      "5 [label=<gini = 0.0<br/>samples = 28<br/>value = [28, 0]<br/>class = 0>, fillcolor=\"#e58139\"] ;\n",
      "1 -> 5 ;\n",
      "6 [label=<gini = 0.0<br/>samples = 30<br/>value = [0, 30]<br/>class = 1>, fillcolor=\"#399de5\"] ;\n",
      "0 -> 6 [labeldistance=2.5, labelangle=-45, headlabel=\"False\"] ;\n",
      "}\n",
      "\n"
     ]
    }
   ],
   "source": [
    "dot_data = tree.export_graphviz(clf, out_file=None,feature_names=['X0','X1'],class_names=['0','1'], filled=True, rounded=True,special_characters=True)  \n",
    "print(graphviz.Source(dot_data))"
   ]
  },
  {
   "cell_type": "markdown",
   "metadata": {},
   "source": [
    "### Информация о гиперпараметрах параметрах sklearn.tree.DecisionTreeClassifier"
   ]
  },
  {
   "cell_type": "markdown",
   "metadata": {},
   "source": [
    "1. criterion (default=\"gini\") - критерий информативности\n",
    "\n",
    "    * 'gini' - критерий Джини\n",
    "    * 'entropy' - энтропийный критерий, критерий Шеннона\n",
    "    * 'log_loss'"
   ]
  },
  {
   "cell_type": "markdown",
   "metadata": {},
   "source": [
    "2. splitter (default=\"best\") - стратегия разбиения узла.\n",
    "\n",
    "    * 'best' - разделение узла по самому лучшему значению качества, расчитанному по выбранному критерию.\n",
    "    * 'random' - выбор случайного разделения."
   ]
  },
  {
   "cell_type": "markdown",
   "metadata": {},
   "source": [
    "3. max_depth (default=None) - ограничение на количество уровней глубины дерева.\n",
    "\n",
    "    * None - количество узлов увеличивается до тех пор, пока все листья не станут соответстовать 1 объекту или пока все листья не будут содержать количество объектов равное _min_samples_split_\n",
    "    * Число - ограничение на уровни глубины дерева."
   ]
  },
  {
   "cell_type": "markdown",
   "metadata": {},
   "source": [
    "4. min_samples_leaf (default=1) - минимальное количество объектов в листе."
   ]
  },
  {
   "cell_type": "markdown",
   "metadata": {},
   "source": [
    "5. max_leaf_nodes (default=None) - максимальное количество листьев."
   ]
  },
  {
   "cell_type": "markdown",
   "metadata": {},
   "source": [
    "6. min_samples_split (default=2) - минимальное количество объектов, необходимое для разделения узла."
   ]
  },
  {
   "cell_type": "markdown",
   "metadata": {
    "id": "fuInidP3abYh"
   },
   "source": [
    "## Дополнительные материалы"
   ]
  },
  {
   "cell_type": "markdown",
   "metadata": {
    "id": "qlxrQi3-abYh"
   },
   "source": [
    "1. [Энтропия](https://habr.com/ru/post/305794/)\n",
    "2. [Энтропия - теоретическое обоснование](https://ru.wikipedia.org/wiki/%D0%98%D0%BD%D1%84%D0%BE%D1%80%D0%BC%D0%B0%D1%86%D0%B8%D0%BE%D0%BD%D0%BD%D0%B0%D1%8F_%D1%8D%D0%BD%D1%82%D1%80%D0%BE%D0%BF%D0%B8%D1%8F)\n",
    "3. [Cost-Complexity Pruning](http://mlwiki.org/index.php/Cost-Complexity_Pruning)\n",
    "4. [Реализация дерева решений в функциональном стиле](https://github.com/random-forests/tutorials/blob/master/decision_tree.ipynb)\n",
    "5. [ООП-реализация дерева решений](https://github.com/curiousily/Machine-Learning-from-Scratch/blob/master/3_decision_trees.ipynb)\n",
    "6. [Пример работы дерева решений в задаче регрессии](https://habr.com/ru/company/ods/blog/322534/#derevo-resheniy-v-zadache-regressii)"
   ]
  },
  {
   "cell_type": "markdown",
   "metadata": {
    "id": "7VbujEWdxIcX"
   },
   "source": [
    "## Summary"
   ]
  },
  {
   "cell_type": "markdown",
   "metadata": {
    "id": "KljmNEmyxIcX"
   },
   "source": [
    "* Решающее дерево - последовательное построение узлов, разбивающих множество входящих объектов согласно принципу минимизации “нечистоты” (impurity) узла\n",
    "* Предикаты для разбиения в узле выбираются из всего множества признаков\n",
    "* Деревья могут легко переобучиться под выборку, если не ограничивать их глубину\n",
    "* Деревья очень чувствительны к небольшим изменениям в выборке (шумам) - см. пример регрессии"
   ]
  },
  {
   "cell_type": "markdown",
   "metadata": {
    "id": "LswCHW1HLQod"
   },
   "source": [
    "## Домашнее задание\n",
    "\n",
    "\n",
    "1. В коде из методички реализуйте один или несколько из критериев останова (количество листьев, количество используемых признаков, глубина дерева и т.д.)\n",
    "2. Реализуйте дерево для задачи регрессии. Возьмите за основу дерево, реализованное в методичке, заменив механизм предсказания в листе на взятие среднего значения по выборке, и критерий Джини на дисперсию значений."
   ]
  },
  {
   "cell_type": "markdown",
   "metadata": {
    "id": "CspMnERkLUPy"
   },
   "source": [
    "---"
   ]
  }
 ],
 "metadata": {
  "colab": {
   "collapsed_sections": [],
   "name": "Lesson_4_7_09.ipynb",
   "provenance": []
  },
  "kernelspec": {
   "display_name": "Python 3 (ipykernel)",
   "language": "python",
   "name": "python3"
  },
  "language_info": {
   "codemirror_mode": {
    "name": "ipython",
    "version": 3
   },
   "file_extension": ".py",
   "mimetype": "text/x-python",
   "name": "python",
   "nbconvert_exporter": "python",
   "pygments_lexer": "ipython3",
   "version": "3.9.16"
  }
 },
 "nbformat": 4,
 "nbformat_minor": 1
}
