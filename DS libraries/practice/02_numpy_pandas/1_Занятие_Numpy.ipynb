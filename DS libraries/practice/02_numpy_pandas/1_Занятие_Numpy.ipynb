{
 "cells": [
  {
   "cell_type": "code",
   "execution_count": 7,
   "id": "1a562327",
   "metadata": {},
   "outputs": [],
   "source": [
    "import numpy as np"
   ]
  },
  {
   "cell_type": "markdown",
   "id": "8832bd96",
   "metadata": {},
   "source": [
    "# Многомерные массивы\n",
    "---\n",
    "<ol>\n",
    "<li>Создание многомерных массивов Numpy</li>\n",
    "<li>Доступ к элементам массива</li>\n",
    "<li>Изменение и копирование массивов</li>\n",
    "<li>Типы данных Numpy</li>\n",
    "</ol>"
   ]
  },
  {
   "cell_type": "code",
   "execution_count": 8,
   "id": "a6a5a42a",
   "metadata": {},
   "outputs": [],
   "source": [
    "a = [i for i in range(10)]"
   ]
  },
  {
   "cell_type": "code",
   "execution_count": 9,
   "id": "642608bc",
   "metadata": {},
   "outputs": [
    {
     "data": {
      "text/plain": [
       "[0, 1, 2, 3, 4, 5, 6, 7, 8, 9]"
      ]
     },
     "execution_count": 9,
     "metadata": {},
     "output_type": "execute_result"
    }
   ],
   "source": [
    "a"
   ]
  },
  {
   "cell_type": "code",
   "execution_count": 10,
   "id": "629ac8b0",
   "metadata": {},
   "outputs": [],
   "source": [
    "b = np.array(a)"
   ]
  },
  {
   "cell_type": "code",
   "execution_count": 11,
   "id": "12558cf5",
   "metadata": {},
   "outputs": [
    {
     "data": {
      "text/plain": [
       "array([0, 1, 2, 3, 4, 5, 6, 7, 8, 9])"
      ]
     },
     "execution_count": 11,
     "metadata": {},
     "output_type": "execute_result"
    }
   ],
   "source": [
    "b"
   ]
  },
  {
   "cell_type": "code",
   "execution_count": 12,
   "id": "38c21c92",
   "metadata": {},
   "outputs": [],
   "source": [
    "b = np.array([0, 1, 2, 3, 4, 5, 6, 7, 8, 9])"
   ]
  },
  {
   "cell_type": "code",
   "execution_count": 13,
   "id": "6af86ebd",
   "metadata": {},
   "outputs": [
    {
     "data": {
      "text/plain": [
       "array([0, 1, 2, 3, 4, 5, 6, 7, 8, 9])"
      ]
     },
     "execution_count": 13,
     "metadata": {},
     "output_type": "execute_result"
    }
   ],
   "source": [
    "b"
   ]
  },
  {
   "cell_type": "code",
   "execution_count": 14,
   "id": "9a3cba66",
   "metadata": {},
   "outputs": [],
   "source": [
    "b = np.array([i for i in range(10)])"
   ]
  },
  {
   "cell_type": "code",
   "execution_count": 15,
   "id": "d94a09a8",
   "metadata": {},
   "outputs": [
    {
     "data": {
      "text/plain": [
       "array([0, 1, 2, 3, 4, 5, 6, 7, 8, 9])"
      ]
     },
     "execution_count": 15,
     "metadata": {},
     "output_type": "execute_result"
    }
   ],
   "source": [
    "b"
   ]
  },
  {
   "cell_type": "code",
   "execution_count": 16,
   "id": "ed9d87db",
   "metadata": {},
   "outputs": [],
   "source": [
    "c = (0, 1, 2, 3, 4, 5, 6, 7, 8, 9)"
   ]
  },
  {
   "cell_type": "code",
   "execution_count": 17,
   "id": "8f457e1a",
   "metadata": {},
   "outputs": [],
   "source": [
    "b = np.array(c)"
   ]
  },
  {
   "cell_type": "code",
   "execution_count": 18,
   "id": "47465433",
   "metadata": {},
   "outputs": [
    {
     "data": {
      "text/plain": [
       "array([0, 1, 2, 3, 4, 5, 6, 7, 8, 9])"
      ]
     },
     "execution_count": 18,
     "metadata": {},
     "output_type": "execute_result"
    }
   ],
   "source": [
    "b"
   ]
  },
  {
   "cell_type": "code",
   "execution_count": 31,
   "id": "42294e48",
   "metadata": {},
   "outputs": [
    {
     "data": {
      "text/plain": [
       "numpy.ndarray"
      ]
     },
     "execution_count": 31,
     "metadata": {},
     "output_type": "execute_result"
    }
   ],
   "source": [
    "type(b)"
   ]
  },
  {
   "cell_type": "code",
   "execution_count": 32,
   "id": "8d59e2c1",
   "metadata": {},
   "outputs": [
    {
     "data": {
      "text/plain": [
       "dtype('<U3')"
      ]
     },
     "execution_count": 32,
     "metadata": {},
     "output_type": "execute_result"
    }
   ],
   "source": [
    "b.dtype"
   ]
  },
  {
   "cell_type": "markdown",
   "id": "e191c708",
   "metadata": {},
   "source": [
    "ndarray - n-demensial array\n",
    "\n",
    "Данные одного типа"
   ]
  },
  {
   "cell_type": "code",
   "execution_count": null,
   "id": "3c07dd18",
   "metadata": {},
   "outputs": [],
   "source": []
  },
  {
   "cell_type": "code",
   "execution_count": 20,
   "id": "a96bbaea",
   "metadata": {},
   "outputs": [],
   "source": [
    "b = np.array(a, dtype=float)"
   ]
  },
  {
   "cell_type": "code",
   "execution_count": 21,
   "id": "f0b40372",
   "metadata": {},
   "outputs": [],
   "source": [
    "a = [0, 1, 2, 3, 4, 5, 6, 7, 8, 9.9]"
   ]
  },
  {
   "cell_type": "code",
   "execution_count": 24,
   "id": "cd2e0876",
   "metadata": {},
   "outputs": [],
   "source": [
    "b = np.array(a, dtype = int)"
   ]
  },
  {
   "cell_type": "code",
   "execution_count": 25,
   "id": "92d930ec",
   "metadata": {},
   "outputs": [
    {
     "data": {
      "text/plain": [
       "array([0, 1, 2, 3, 4, 5, 6, 7, 8, 9])"
      ]
     },
     "execution_count": 25,
     "metadata": {},
     "output_type": "execute_result"
    }
   ],
   "source": [
    "b"
   ]
  },
  {
   "cell_type": "code",
   "execution_count": 26,
   "id": "8b330353",
   "metadata": {},
   "outputs": [],
   "source": [
    "b = np.array(a, dtype = int)"
   ]
  },
  {
   "cell_type": "code",
   "execution_count": 27,
   "id": "dfb56a64",
   "metadata": {},
   "outputs": [
    {
     "data": {
      "text/plain": [
       "array([0, 1, 2, 3, 4, 5, 6, 7, 8, 9])"
      ]
     },
     "execution_count": 27,
     "metadata": {},
     "output_type": "execute_result"
    }
   ],
   "source": [
    "b"
   ]
  },
  {
   "cell_type": "code",
   "execution_count": 28,
   "id": "82b818f8",
   "metadata": {},
   "outputs": [],
   "source": [
    "b = np.array(a, dtype = str)"
   ]
  },
  {
   "cell_type": "code",
   "execution_count": 29,
   "id": "5faffa0a",
   "metadata": {},
   "outputs": [
    {
     "data": {
      "text/plain": [
       "array(['0', '1', '2', '3', '4', '5', '6', '7', '8', '9.9'], dtype='<U3')"
      ]
     },
     "execution_count": 29,
     "metadata": {},
     "output_type": "execute_result"
    }
   ],
   "source": [
    "b"
   ]
  },
  {
   "cell_type": "code",
   "execution_count": 30,
   "id": "05bbf0e8",
   "metadata": {},
   "outputs": [],
   "source": [
    "a = ['123', 1, 2]"
   ]
  },
  {
   "cell_type": "code",
   "execution_count": 33,
   "id": "5094e391",
   "metadata": {},
   "outputs": [],
   "source": [
    "b = np.array(a)"
   ]
  },
  {
   "cell_type": "code",
   "execution_count": 34,
   "id": "8fcc2f59",
   "metadata": {},
   "outputs": [
    {
     "data": {
      "text/plain": [
       "dtype('<U11')"
      ]
     },
     "execution_count": 34,
     "metadata": {},
     "output_type": "execute_result"
    }
   ],
   "source": [
    "b.dtype"
   ]
  },
  {
   "cell_type": "code",
   "execution_count": 35,
   "id": "32d2577a",
   "metadata": {},
   "outputs": [
    {
     "data": {
      "text/plain": [
       "array(['123', '1', '2'], dtype='<U11')"
      ]
     },
     "execution_count": 35,
     "metadata": {},
     "output_type": "execute_result"
    }
   ],
   "source": [
    "b"
   ]
  },
  {
   "cell_type": "code",
   "execution_count": 36,
   "id": "54809039",
   "metadata": {},
   "outputs": [
    {
     "data": {
      "text/plain": [
       "'2'"
      ]
     },
     "execution_count": 36,
     "metadata": {},
     "output_type": "execute_result"
    }
   ],
   "source": [
    "b[2]"
   ]
  },
  {
   "cell_type": "code",
   "execution_count": 37,
   "id": "24bd5d9b",
   "metadata": {},
   "outputs": [
    {
     "data": {
      "text/plain": [
       "'123'"
      ]
     },
     "execution_count": 37,
     "metadata": {},
     "output_type": "execute_result"
    }
   ],
   "source": [
    "b[0]"
   ]
  },
  {
   "cell_type": "markdown",
   "id": "4d1ad4d6",
   "metadata": {},
   "source": [
    "**Размерность**"
   ]
  },
  {
   "cell_type": "code",
   "execution_count": 38,
   "id": "cc359219",
   "metadata": {},
   "outputs": [
    {
     "data": {
      "text/plain": [
       "1"
      ]
     },
     "execution_count": 38,
     "metadata": {},
     "output_type": "execute_result"
    }
   ],
   "source": [
    "b.ndim"
   ]
  },
  {
   "cell_type": "code",
   "execution_count": 39,
   "id": "fa81a64a",
   "metadata": {},
   "outputs": [
    {
     "data": {
      "text/plain": [
       "(3,)"
      ]
     },
     "execution_count": 39,
     "metadata": {},
     "output_type": "execute_result"
    }
   ],
   "source": [
    "b.shape"
   ]
  },
  {
   "cell_type": "markdown",
   "id": "90d8e25a",
   "metadata": {},
   "source": [
    "**Двумерный массив (2D array)**"
   ]
  },
  {
   "cell_type": "code",
   "execution_count": 43,
   "id": "612e3134",
   "metadata": {},
   "outputs": [],
   "source": [
    "b = np.array([[1,2,5],[3,4,6]])"
   ]
  },
  {
   "cell_type": "code",
   "execution_count": 44,
   "id": "b1b49217",
   "metadata": {},
   "outputs": [
    {
     "data": {
      "text/plain": [
       "array([[1, 2, 5],\n",
       "       [3, 4, 6]])"
      ]
     },
     "execution_count": 44,
     "metadata": {},
     "output_type": "execute_result"
    }
   ],
   "source": [
    "b"
   ]
  },
  {
   "cell_type": "code",
   "execution_count": 45,
   "id": "4e582ba0",
   "metadata": {},
   "outputs": [
    {
     "data": {
      "text/plain": [
       "(2, 3)"
      ]
     },
     "execution_count": 45,
     "metadata": {},
     "output_type": "execute_result"
    }
   ],
   "source": [
    "b.shape"
   ]
  },
  {
   "cell_type": "markdown",
   "id": "cc8fb48e",
   "metadata": {},
   "source": [
    "2 строки и 3 колонки (столбца)"
   ]
  },
  {
   "cell_type": "code",
   "execution_count": 46,
   "id": "18056ec3",
   "metadata": {},
   "outputs": [
    {
     "data": {
      "text/plain": [
       "2"
      ]
     },
     "execution_count": 46,
     "metadata": {},
     "output_type": "execute_result"
    }
   ],
   "source": [
    "b.ndim"
   ]
  },
  {
   "cell_type": "markdown",
   "id": "3682f6d5",
   "metadata": {},
   "source": [
    "*Количество всех элементов*"
   ]
  },
  {
   "cell_type": "code",
   "execution_count": 47,
   "id": "0e4ce0e8",
   "metadata": {},
   "outputs": [
    {
     "data": {
      "text/plain": [
       "6"
      ]
     },
     "execution_count": 47,
     "metadata": {},
     "output_type": "execute_result"
    }
   ],
   "source": [
    "b.size"
   ]
  },
  {
   "cell_type": "code",
   "execution_count": 48,
   "id": "a249b9ec",
   "metadata": {},
   "outputs": [
    {
     "data": {
      "text/plain": [
       "1"
      ]
     },
     "execution_count": 48,
     "metadata": {},
     "output_type": "execute_result"
    }
   ],
   "source": [
    "b[0][0]"
   ]
  },
  {
   "cell_type": "code",
   "execution_count": 49,
   "id": "9c58e3d5",
   "metadata": {},
   "outputs": [
    {
     "data": {
      "text/plain": [
       "1"
      ]
     },
     "execution_count": 49,
     "metadata": {},
     "output_type": "execute_result"
    }
   ],
   "source": [
    "b[0,0]"
   ]
  },
  {
   "cell_type": "code",
   "execution_count": 50,
   "id": "5662f590",
   "metadata": {},
   "outputs": [
    {
     "data": {
      "text/plain": [
       "array([[1, 2, 5],\n",
       "       [3, 4, 6]])"
      ]
     },
     "execution_count": 50,
     "metadata": {},
     "output_type": "execute_result"
    }
   ],
   "source": [
    "b[0:2, 0:3]"
   ]
  },
  {
   "cell_type": "code",
   "execution_count": 51,
   "id": "6c187bd1",
   "metadata": {},
   "outputs": [
    {
     "data": {
      "text/plain": [
       "array([[1, 2],\n",
       "       [3, 4]])"
      ]
     },
     "execution_count": 51,
     "metadata": {},
     "output_type": "execute_result"
    }
   ],
   "source": [
    "b[:2, :2]"
   ]
  },
  {
   "cell_type": "code",
   "execution_count": 52,
   "id": "e18192b7",
   "metadata": {},
   "outputs": [
    {
     "data": {
      "text/plain": [
       "array([[6]])"
      ]
     },
     "execution_count": 52,
     "metadata": {},
     "output_type": "execute_result"
    }
   ],
   "source": [
    "b[1:, 2:]"
   ]
  },
  {
   "cell_type": "markdown",
   "id": "e9600c0a",
   "metadata": {},
   "source": [
    "выше это все N-мерные массивы..!"
   ]
  },
  {
   "cell_type": "code",
   "execution_count": 68,
   "id": "c928a93b",
   "metadata": {},
   "outputs": [],
   "source": [
    "d = b[1:, :]"
   ]
  },
  {
   "cell_type": "code",
   "execution_count": 69,
   "id": "3e1ef464",
   "metadata": {},
   "outputs": [
    {
     "data": {
      "text/plain": [
       "array([[3, 4, 6]])"
      ]
     },
     "execution_count": 69,
     "metadata": {},
     "output_type": "execute_result"
    }
   ],
   "source": [
    "d"
   ]
  },
  {
   "cell_type": "code",
   "execution_count": 70,
   "id": "755cc7df",
   "metadata": {},
   "outputs": [
    {
     "data": {
      "text/plain": [
       "array([[1, 2, 5],\n",
       "       [3, 4, 6]])"
      ]
     },
     "execution_count": 70,
     "metadata": {},
     "output_type": "execute_result"
    }
   ],
   "source": [
    "b"
   ]
  },
  {
   "cell_type": "code",
   "execution_count": 71,
   "id": "e98ae2ba",
   "metadata": {},
   "outputs": [],
   "source": [
    "b[1, 2] = 23414"
   ]
  },
  {
   "cell_type": "code",
   "execution_count": 73,
   "id": "6d980def",
   "metadata": {},
   "outputs": [
    {
     "data": {
      "text/plain": [
       "array([[    3,     4, 23414]])"
      ]
     },
     "execution_count": 73,
     "metadata": {},
     "output_type": "execute_result"
    }
   ],
   "source": [
    "d"
   ]
  },
  {
   "cell_type": "markdown",
   "id": "802d8a24",
   "metadata": {},
   "source": [
    "**Пояснение**\n",
    "\n",
    "Матрицы b и d связаны. d это представление матрицы b. Ссылка на элементы матрицы b. Если меняем в b, то меняем и d.\n",
    "\n",
    "Применяйте метод copy() чтобы массив d был независимым объектом.\n"
   ]
  },
  {
   "cell_type": "markdown",
   "id": "de2f2654",
   "metadata": {},
   "source": [
    "**Data type**\n",
    "\n",
    "float32, float64, int32, int64\n",
    "\n",
    "int32 ~ 2_000_0000"
   ]
  },
  {
   "cell_type": "markdown",
   "id": "45390399",
   "metadata": {},
   "source": [
    "# Линейная алгебра\n",
    "---\n",
    "<ol>\n",
    "<li>Сложение и вычитание векторов</li>\n",
    "<li>Умножение вектора на скаляр</li>\n",
    "<li>Скалярное произведение векторов</li>\n",
    "<li>Сложение и вычитание матриц</li>\n",
    "<li>Умножение матрицы на скаляр</li>\n",
    "</ol>"
   ]
  },
  {
   "cell_type": "markdown",
   "id": "1d955780",
   "metadata": {},
   "source": [
    "**Операции с векторами**"
   ]
  },
  {
   "cell_type": "code",
   "execution_count": 74,
   "id": "a5290c81",
   "metadata": {},
   "outputs": [],
   "source": [
    "import numpy as np"
   ]
  },
  {
   "cell_type": "code",
   "execution_count": 75,
   "id": "a86d9f50",
   "metadata": {},
   "outputs": [],
   "source": [
    "a = np.array([0,1,2,3,4])"
   ]
  },
  {
   "cell_type": "code",
   "execution_count": 76,
   "id": "c06b350f",
   "metadata": {},
   "outputs": [],
   "source": [
    "b = np.array([5,6,7,8,9])"
   ]
  },
  {
   "cell_type": "code",
   "execution_count": 77,
   "id": "63e4a665",
   "metadata": {},
   "outputs": [
    {
     "data": {
      "text/plain": [
       "5"
      ]
     },
     "execution_count": 77,
     "metadata": {},
     "output_type": "execute_result"
    }
   ],
   "source": [
    "a.size"
   ]
  },
  {
   "cell_type": "code",
   "execution_count": 78,
   "id": "217edd8d",
   "metadata": {},
   "outputs": [
    {
     "data": {
      "text/plain": [
       "5"
      ]
     },
     "execution_count": 78,
     "metadata": {},
     "output_type": "execute_result"
    }
   ],
   "source": [
    "b.size"
   ]
  },
  {
   "cell_type": "code",
   "execution_count": 79,
   "id": "70dd5f2a",
   "metadata": {},
   "outputs": [
    {
     "data": {
      "text/plain": [
       "(5,)"
      ]
     },
     "execution_count": 79,
     "metadata": {},
     "output_type": "execute_result"
    }
   ],
   "source": [
    "a.shape"
   ]
  },
  {
   "cell_type": "code",
   "execution_count": 80,
   "id": "04a0b70f",
   "metadata": {},
   "outputs": [
    {
     "data": {
      "text/plain": [
       "(5,)"
      ]
     },
     "execution_count": 80,
     "metadata": {},
     "output_type": "execute_result"
    }
   ],
   "source": [
    "b.shape"
   ]
  },
  {
   "cell_type": "markdown",
   "id": "110d4dda",
   "metadata": {},
   "source": [
    "#### Сложение векторов"
   ]
  },
  {
   "cell_type": "code",
   "execution_count": 81,
   "id": "eedb0308",
   "metadata": {},
   "outputs": [],
   "source": [
    "c = a + b"
   ]
  },
  {
   "cell_type": "code",
   "execution_count": 82,
   "id": "6987b494",
   "metadata": {},
   "outputs": [
    {
     "data": {
      "text/plain": [
       "array([ 5,  7,  9, 11, 13])"
      ]
     },
     "execution_count": 82,
     "metadata": {},
     "output_type": "execute_result"
    }
   ],
   "source": [
    "c"
   ]
  },
  {
   "cell_type": "markdown",
   "id": "cd914731",
   "metadata": {},
   "source": [
    "Еще один способ:"
   ]
  },
  {
   "cell_type": "code",
   "execution_count": 83,
   "id": "2a51074c",
   "metadata": {},
   "outputs": [],
   "source": [
    "c = np.add(a, b)"
   ]
  },
  {
   "cell_type": "code",
   "execution_count": 84,
   "id": "1841f810",
   "metadata": {},
   "outputs": [
    {
     "data": {
      "text/plain": [
       "array([ 5,  7,  9, 11, 13])"
      ]
     },
     "execution_count": 84,
     "metadata": {},
     "output_type": "execute_result"
    }
   ],
   "source": [
    "c"
   ]
  },
  {
   "cell_type": "markdown",
   "id": "4006b879",
   "metadata": {},
   "source": [
    "#### Вычитание векторов"
   ]
  },
  {
   "cell_type": "code",
   "execution_count": 105,
   "id": "c30b1fc9",
   "metadata": {},
   "outputs": [],
   "source": [
    "a = np.array([5,4,8,4,3])"
   ]
  },
  {
   "cell_type": "code",
   "execution_count": 104,
   "id": "61e6bcc3",
   "metadata": {},
   "outputs": [],
   "source": [
    "b = np.array([3,5,7,1,3])"
   ]
  },
  {
   "cell_type": "code",
   "execution_count": 88,
   "id": "678c3c58",
   "metadata": {},
   "outputs": [
    {
     "data": {
      "text/plain": [
       "array([ 2, -1,  1,  3,  0])"
      ]
     },
     "execution_count": 88,
     "metadata": {},
     "output_type": "execute_result"
    }
   ],
   "source": [
    "d = a - b\n",
    "d"
   ]
  },
  {
   "cell_type": "markdown",
   "id": "35d7d260",
   "metadata": {},
   "source": [
    "Еще один способ:"
   ]
  },
  {
   "cell_type": "code",
   "execution_count": 89,
   "id": "b5a5b633",
   "metadata": {},
   "outputs": [],
   "source": [
    "d = np.subtract(a,b)"
   ]
  },
  {
   "cell_type": "code",
   "execution_count": 90,
   "id": "6478f7fb",
   "metadata": {},
   "outputs": [
    {
     "data": {
      "text/plain": [
       "array([ 2, -1,  1,  3,  0])"
      ]
     },
     "execution_count": 90,
     "metadata": {},
     "output_type": "execute_result"
    }
   ],
   "source": [
    "d"
   ]
  },
  {
   "cell_type": "code",
   "execution_count": 92,
   "id": "d419f0f9",
   "metadata": {},
   "outputs": [
    {
     "data": {
      "text/plain": [
       "True"
      ]
     },
     "execution_count": 92,
     "metadata": {},
     "output_type": "execute_result"
    }
   ],
   "source": [
    "a.shape == b.shape"
   ]
  },
  {
   "cell_type": "markdown",
   "id": "b3c69916",
   "metadata": {},
   "source": [
    "#### Умножение вектора на число"
   ]
  },
  {
   "cell_type": "code",
   "execution_count": 93,
   "id": "dd8db2fe",
   "metadata": {},
   "outputs": [],
   "source": [
    "a = np.array([0,1,2,3,4])"
   ]
  },
  {
   "cell_type": "code",
   "execution_count": 94,
   "id": "69cf2f58",
   "metadata": {},
   "outputs": [],
   "source": [
    "c = a * 2"
   ]
  },
  {
   "cell_type": "code",
   "execution_count": 95,
   "id": "aadb490f",
   "metadata": {},
   "outputs": [
    {
     "data": {
      "text/plain": [
       "array([0, 2, 4, 6, 8])"
      ]
     },
     "execution_count": 95,
     "metadata": {},
     "output_type": "execute_result"
    }
   ],
   "source": [
    "c"
   ]
  },
  {
   "cell_type": "code",
   "execution_count": 97,
   "id": "b1981256",
   "metadata": {},
   "outputs": [],
   "source": [
    "c = -10 * a"
   ]
  },
  {
   "cell_type": "code",
   "execution_count": 98,
   "id": "aa7793f4",
   "metadata": {},
   "outputs": [
    {
     "data": {
      "text/plain": [
       "array([  0, -10, -20, -30, -40])"
      ]
     },
     "execution_count": 98,
     "metadata": {},
     "output_type": "execute_result"
    }
   ],
   "source": [
    "c"
   ]
  },
  {
   "cell_type": "markdown",
   "id": "3ef91243",
   "metadata": {},
   "source": [
    "Противоположное направление :)"
   ]
  },
  {
   "cell_type": "markdown",
   "id": "8cb8e3ae",
   "metadata": {},
   "source": [
    "Еще один способ:"
   ]
  },
  {
   "cell_type": "code",
   "execution_count": 100,
   "id": "0b433236",
   "metadata": {},
   "outputs": [
    {
     "data": {
      "text/plain": [
       "array([ 0, 10, 20, 30, 40])"
      ]
     },
     "execution_count": 100,
     "metadata": {},
     "output_type": "execute_result"
    }
   ],
   "source": [
    "np.dot(10, a)"
   ]
  },
  {
   "cell_type": "code",
   "execution_count": 101,
   "id": "d5db2a07",
   "metadata": {},
   "outputs": [
    {
     "data": {
      "text/plain": [
       "array([ 0, 10, 20, 30, 40])"
      ]
     },
     "execution_count": 101,
     "metadata": {},
     "output_type": "execute_result"
    }
   ],
   "source": [
    "a.dot(10)"
   ]
  },
  {
   "cell_type": "code",
   "execution_count": 102,
   "id": "f7bd67fa",
   "metadata": {},
   "outputs": [
    {
     "data": {
      "text/plain": [
       "array([  0, -10, -20, -30, -40])"
      ]
     },
     "execution_count": 102,
     "metadata": {},
     "output_type": "execute_result"
    }
   ],
   "source": [
    "np.multiply(-10, a)"
   ]
  },
  {
   "cell_type": "markdown",
   "id": "995027ae",
   "metadata": {},
   "source": [
    "#### Скалярное произведение\n",
    "\n",
    "sp = x1 * y1 + x2 * y2 + x3 * y3\n",
    "\n",
    "@ - оператор add"
   ]
  },
  {
   "cell_type": "code",
   "execution_count": 106,
   "id": "4dcbf988",
   "metadata": {},
   "outputs": [
    {
     "data": {
      "text/plain": [
       "104"
      ]
     },
     "execution_count": 106,
     "metadata": {},
     "output_type": "execute_result"
    }
   ],
   "source": [
    "a @ b"
   ]
  },
  {
   "cell_type": "code",
   "execution_count": 107,
   "id": "ec50f96b",
   "metadata": {},
   "outputs": [],
   "source": [
    "sp = np.dot(a,b)"
   ]
  },
  {
   "cell_type": "code",
   "execution_count": 108,
   "id": "6a3fd688",
   "metadata": {},
   "outputs": [
    {
     "data": {
      "text/plain": [
       "104"
      ]
     },
     "execution_count": 108,
     "metadata": {},
     "output_type": "execute_result"
    }
   ],
   "source": [
    "sp"
   ]
  },
  {
   "cell_type": "markdown",
   "id": "1d216680",
   "metadata": {},
   "source": [
    "#### Операции с матрицами"
   ]
  },
  {
   "cell_type": "code",
   "execution_count": 109,
   "id": "f19e9c1e",
   "metadata": {},
   "outputs": [],
   "source": [
    "A = np.array([[0,1],\n",
    "              [2,3],\n",
    "              [4,5]])"
   ]
  },
  {
   "cell_type": "code",
   "execution_count": 110,
   "id": "acd40cfe",
   "metadata": {},
   "outputs": [],
   "source": [
    "B = np.array([[6,7],\n",
    "              [8,9],\n",
    "              [10,11]])"
   ]
  },
  {
   "cell_type": "code",
   "execution_count": 111,
   "id": "d526bf19",
   "metadata": {},
   "outputs": [
    {
     "data": {
      "text/plain": [
       "array([[0, 1],\n",
       "       [2, 3],\n",
       "       [4, 5]])"
      ]
     },
     "execution_count": 111,
     "metadata": {},
     "output_type": "execute_result"
    }
   ],
   "source": [
    "A"
   ]
  },
  {
   "cell_type": "code",
   "execution_count": 113,
   "id": "37365abf",
   "metadata": {},
   "outputs": [
    {
     "data": {
      "text/plain": [
       "array([[ 6,  7],\n",
       "       [ 8,  9],\n",
       "       [10, 11]])"
      ]
     },
     "execution_count": 113,
     "metadata": {},
     "output_type": "execute_result"
    }
   ],
   "source": [
    "B"
   ]
  },
  {
   "cell_type": "code",
   "execution_count": 114,
   "id": "f6769d6c",
   "metadata": {},
   "outputs": [
    {
     "data": {
      "text/plain": [
       "(3, 2)"
      ]
     },
     "execution_count": 114,
     "metadata": {},
     "output_type": "execute_result"
    }
   ],
   "source": [
    "A.shape"
   ]
  },
  {
   "cell_type": "code",
   "execution_count": 115,
   "id": "d4b75f82",
   "metadata": {},
   "outputs": [
    {
     "data": {
      "text/plain": [
       "2"
      ]
     },
     "execution_count": 115,
     "metadata": {},
     "output_type": "execute_result"
    }
   ],
   "source": [
    "A.ndim"
   ]
  },
  {
   "cell_type": "code",
   "execution_count": 116,
   "id": "dfd8bf21",
   "metadata": {},
   "outputs": [
    {
     "data": {
      "text/plain": [
       "6"
      ]
     },
     "execution_count": 116,
     "metadata": {},
     "output_type": "execute_result"
    }
   ],
   "source": [
    "A.size"
   ]
  },
  {
   "cell_type": "code",
   "execution_count": 117,
   "id": "4300a0f3",
   "metadata": {},
   "outputs": [
    {
     "data": {
      "text/plain": [
       "(3, 2)"
      ]
     },
     "execution_count": 117,
     "metadata": {},
     "output_type": "execute_result"
    }
   ],
   "source": [
    "B.shape"
   ]
  },
  {
   "cell_type": "code",
   "execution_count": 118,
   "id": "d166dd5b",
   "metadata": {},
   "outputs": [
    {
     "data": {
      "text/plain": [
       "2"
      ]
     },
     "execution_count": 118,
     "metadata": {},
     "output_type": "execute_result"
    }
   ],
   "source": [
    "B.ndim"
   ]
  },
  {
   "cell_type": "code",
   "execution_count": 119,
   "id": "e069d43d",
   "metadata": {},
   "outputs": [
    {
     "data": {
      "text/plain": [
       "6"
      ]
     },
     "execution_count": 119,
     "metadata": {},
     "output_type": "execute_result"
    }
   ],
   "source": [
    "B.size"
   ]
  },
  {
   "cell_type": "markdown",
   "id": "071c7221",
   "metadata": {},
   "source": [
    "#### Сложение матриц"
   ]
  },
  {
   "cell_type": "code",
   "execution_count": 127,
   "id": "d365a0b2",
   "metadata": {},
   "outputs": [],
   "source": [
    "D = A + B"
   ]
  },
  {
   "cell_type": "code",
   "execution_count": 128,
   "id": "48668115",
   "metadata": {},
   "outputs": [
    {
     "data": {
      "text/plain": [
       "array([[ 6,  8],\n",
       "       [10, 12],\n",
       "       [14, 16]])"
      ]
     },
     "execution_count": 128,
     "metadata": {},
     "output_type": "execute_result"
    }
   ],
   "source": [
    "D"
   ]
  },
  {
   "cell_type": "code",
   "execution_count": 129,
   "id": "dddde060",
   "metadata": {},
   "outputs": [],
   "source": [
    "D = np.add(A,B)"
   ]
  },
  {
   "cell_type": "code",
   "execution_count": 130,
   "id": "8e41d3cf",
   "metadata": {},
   "outputs": [
    {
     "data": {
      "text/plain": [
       "array([[ 6,  8],\n",
       "       [10, 12],\n",
       "       [14, 16]])"
      ]
     },
     "execution_count": 130,
     "metadata": {},
     "output_type": "execute_result"
    }
   ],
   "source": [
    "D"
   ]
  },
  {
   "cell_type": "markdown",
   "id": "e155c7a7",
   "metadata": {},
   "source": [
    "#### Вычитание матриц"
   ]
  },
  {
   "cell_type": "code",
   "execution_count": 135,
   "id": "1eca22c5",
   "metadata": {},
   "outputs": [
    {
     "data": {
      "text/plain": [
       "array([[-6, -6],\n",
       "       [-6, -6],\n",
       "       [-6, -6]])"
      ]
     },
     "execution_count": 135,
     "metadata": {},
     "output_type": "execute_result"
    }
   ],
   "source": [
    "E = A - B\n",
    "E"
   ]
  },
  {
   "cell_type": "code",
   "execution_count": 137,
   "id": "05ccc0af",
   "metadata": {},
   "outputs": [],
   "source": [
    "E = np.subtract(A,B)"
   ]
  },
  {
   "cell_type": "code",
   "execution_count": 138,
   "id": "159b0c0b",
   "metadata": {},
   "outputs": [
    {
     "data": {
      "text/plain": [
       "array([[-6, -6],\n",
       "       [-6, -6],\n",
       "       [-6, -6]])"
      ]
     },
     "execution_count": 138,
     "metadata": {},
     "output_type": "execute_result"
    }
   ],
   "source": [
    "E"
   ]
  },
  {
   "cell_type": "markdown",
   "id": "fc76b06a",
   "metadata": {},
   "source": [
    "#### Умножение матрицы на скаляр"
   ]
  },
  {
   "cell_type": "code",
   "execution_count": 139,
   "id": "c48212af",
   "metadata": {},
   "outputs": [],
   "source": [
    "X = np.array([[1,2],\n",
    "             [3,4]])"
   ]
  },
  {
   "cell_type": "code",
   "execution_count": 140,
   "id": "3ba5ba26",
   "metadata": {},
   "outputs": [
    {
     "data": {
      "text/plain": [
       "array([[1, 2],\n",
       "       [3, 4]])"
      ]
     },
     "execution_count": 140,
     "metadata": {},
     "output_type": "execute_result"
    }
   ],
   "source": [
    "X"
   ]
  },
  {
   "cell_type": "code",
   "execution_count": 142,
   "id": "f4ca1cac",
   "metadata": {},
   "outputs": [
    {
     "data": {
      "text/plain": [
       "array([[2, 4],\n",
       "       [6, 8]])"
      ]
     },
     "execution_count": 142,
     "metadata": {},
     "output_type": "execute_result"
    }
   ],
   "source": [
    "Y = X * 2\n",
    "Y"
   ]
  },
  {
   "cell_type": "code",
   "execution_count": 143,
   "id": "98081068",
   "metadata": {},
   "outputs": [
    {
     "data": {
      "text/plain": [
       "array([[2, 4],\n",
       "       [6, 8]])"
      ]
     },
     "execution_count": 143,
     "metadata": {},
     "output_type": "execute_result"
    }
   ],
   "source": [
    "X.dot(2)"
   ]
  },
  {
   "cell_type": "code",
   "execution_count": 144,
   "id": "65db1b6e",
   "metadata": {},
   "outputs": [
    {
     "data": {
      "text/plain": [
       "array([[2, 4],\n",
       "       [6, 8]])"
      ]
     },
     "execution_count": 144,
     "metadata": {},
     "output_type": "execute_result"
    }
   ],
   "source": [
    "np.dot(X,2)"
   ]
  },
  {
   "cell_type": "markdown",
   "id": "6d8d9b3d",
   "metadata": {},
   "source": [
    "---"
   ]
  },
  {
   "cell_type": "markdown",
   "id": "c46bbe42",
   "metadata": {},
   "source": [
    "#### Умножение и возведение в степень матриц"
   ]
  },
  {
   "cell_type": "code",
   "execution_count": 145,
   "id": "52de7a28",
   "metadata": {},
   "outputs": [],
   "source": [
    "import numpy as np"
   ]
  },
  {
   "cell_type": "code",
   "execution_count": 146,
   "id": "2821692b",
   "metadata": {},
   "outputs": [],
   "source": [
    "X1 = np.array([[1,2],\n",
    "               [3,4],\n",
    "               [5,6]])"
   ]
  },
  {
   "cell_type": "code",
   "execution_count": 148,
   "id": "762d8321",
   "metadata": {},
   "outputs": [],
   "source": [
    "X2 = np.array([[7,8,9,10],[11,12,13,14]])"
   ]
  },
  {
   "cell_type": "code",
   "execution_count": 149,
   "id": "ad3be6ac",
   "metadata": {},
   "outputs": [
    {
     "data": {
      "text/plain": [
       "array([[1, 2],\n",
       "       [3, 4],\n",
       "       [5, 6]])"
      ]
     },
     "execution_count": 149,
     "metadata": {},
     "output_type": "execute_result"
    }
   ],
   "source": [
    "X1"
   ]
  },
  {
   "cell_type": "code",
   "execution_count": 150,
   "id": "87afd47a",
   "metadata": {},
   "outputs": [
    {
     "data": {
      "text/plain": [
       "array([[ 7,  8,  9, 10],\n",
       "       [11, 12, 13, 14]])"
      ]
     },
     "execution_count": 150,
     "metadata": {},
     "output_type": "execute_result"
    }
   ],
   "source": [
    "X2"
   ]
  },
  {
   "cell_type": "code",
   "execution_count": 151,
   "id": "dfe114fd",
   "metadata": {},
   "outputs": [
    {
     "data": {
      "text/plain": [
       "(3, 2)"
      ]
     },
     "execution_count": 151,
     "metadata": {},
     "output_type": "execute_result"
    }
   ],
   "source": [
    "X1.shape"
   ]
  },
  {
   "cell_type": "code",
   "execution_count": 152,
   "id": "148929ff",
   "metadata": {},
   "outputs": [
    {
     "data": {
      "text/plain": [
       "(2, 4)"
      ]
     },
     "execution_count": 152,
     "metadata": {},
     "output_type": "execute_result"
    }
   ],
   "source": [
    "X2.shape"
   ]
  },
  {
   "cell_type": "code",
   "execution_count": 154,
   "id": "b08045dd",
   "metadata": {},
   "outputs": [
    {
     "data": {
      "text/plain": [
       "True"
      ]
     },
     "execution_count": 154,
     "metadata": {},
     "output_type": "execute_result"
    }
   ],
   "source": [
    "X1.shape[1] == X2.shape[0]"
   ]
  },
  {
   "cell_type": "code",
   "execution_count": 155,
   "id": "36b3a78f",
   "metadata": {},
   "outputs": [
    {
     "data": {
      "text/plain": [
       "array([[ 29,  32,  35,  38],\n",
       "       [ 65,  72,  79,  86],\n",
       "       [101, 112, 123, 134]])"
      ]
     },
     "execution_count": 155,
     "metadata": {},
     "output_type": "execute_result"
    }
   ],
   "source": [
    "Z = np.dot(X1, X2)\n",
    "Z"
   ]
  },
  {
   "cell_type": "code",
   "execution_count": 156,
   "id": "ce846e9d",
   "metadata": {},
   "outputs": [
    {
     "data": {
      "text/plain": [
       "(3, 4)"
      ]
     },
     "execution_count": 156,
     "metadata": {},
     "output_type": "execute_result"
    }
   ],
   "source": [
    "Z.shape"
   ]
  },
  {
   "cell_type": "code",
   "execution_count": 157,
   "id": "3d10d2d0",
   "metadata": {},
   "outputs": [
    {
     "data": {
      "text/plain": [
       "12"
      ]
     },
     "execution_count": 157,
     "metadata": {},
     "output_type": "execute_result"
    }
   ],
   "source": [
    "Z.size"
   ]
  },
  {
   "cell_type": "markdown",
   "id": "417ae4a1",
   "metadata": {},
   "source": [
    "### Модуль numpy.linalg: возведение матрицы в квадрат"
   ]
  },
  {
   "cell_type": "code",
   "execution_count": 158,
   "id": "5b8faf9a",
   "metadata": {},
   "outputs": [],
   "source": [
    "A = np.array([[1,2,3],\n",
    "               [3,4,5],\n",
    "               [5,6,7]])"
   ]
  },
  {
   "cell_type": "code",
   "execution_count": 159,
   "id": "74ea1ac5",
   "metadata": {},
   "outputs": [],
   "source": [
    "SQ = A * A"
   ]
  },
  {
   "cell_type": "code",
   "execution_count": 160,
   "id": "38b08691",
   "metadata": {},
   "outputs": [
    {
     "data": {
      "text/plain": [
       "array([[ 1,  4,  9],\n",
       "       [ 9, 16, 25],\n",
       "       [25, 36, 49]])"
      ]
     },
     "execution_count": 160,
     "metadata": {},
     "output_type": "execute_result"
    }
   ],
   "source": [
    "SQ"
   ]
  },
  {
   "cell_type": "code",
   "execution_count": 163,
   "id": "c4d537d9",
   "metadata": {},
   "outputs": [
    {
     "data": {
      "text/plain": [
       "array([[22, 28, 34],\n",
       "       [40, 52, 64],\n",
       "       [58, 76, 94]])"
      ]
     },
     "execution_count": 163,
     "metadata": {},
     "output_type": "execute_result"
    }
   ],
   "source": [
    "A_square = np.dot(A,A)\n",
    "A_square"
   ]
  },
  {
   "cell_type": "code",
   "execution_count": 165,
   "id": "40b3a9cd",
   "metadata": {},
   "outputs": [
    {
     "data": {
      "text/plain": [
       "array([[ 276,  360,  444],\n",
       "       [ 516,  672,  828],\n",
       "       [ 756,  984, 1212]])"
      ]
     },
     "execution_count": 165,
     "metadata": {},
     "output_type": "execute_result"
    }
   ],
   "source": [
    "A_square = np.linalg.matrix_power(A, 3)\n",
    "A_square"
   ]
  },
  {
   "cell_type": "markdown",
   "id": "f2b7f6d2",
   "metadata": {},
   "source": [
    "#### Единичная матрица"
   ]
  },
  {
   "cell_type": "markdown",
   "id": "3a7d9705",
   "metadata": {},
   "source": [
    "Всегда квадратная"
   ]
  },
  {
   "cell_type": "code",
   "execution_count": 167,
   "id": "c5ba6265",
   "metadata": {},
   "outputs": [
    {
     "data": {
      "text/plain": [
       "array([[1., 0., 0.],\n",
       "       [0., 1., 0.],\n",
       "       [0., 0., 1.]])"
      ]
     },
     "execution_count": 167,
     "metadata": {},
     "output_type": "execute_result"
    }
   ],
   "source": [
    "I = np.eye(3)\n",
    "I"
   ]
  },
  {
   "cell_type": "markdown",
   "id": "7d7b40b1",
   "metadata": {},
   "source": [
    "#### Транспонирование матриц"
   ]
  },
  {
   "cell_type": "code",
   "execution_count": 168,
   "id": "01c084d2",
   "metadata": {},
   "outputs": [],
   "source": [
    "A = np.array([[11,13],\n",
    "              [16,9],\n",
    "              [8,15]])"
   ]
  },
  {
   "cell_type": "code",
   "execution_count": 169,
   "id": "88f000f5",
   "metadata": {},
   "outputs": [
    {
     "data": {
      "text/plain": [
       "array([[11, 16,  8],\n",
       "       [13,  9, 15]])"
      ]
     },
     "execution_count": 169,
     "metadata": {},
     "output_type": "execute_result"
    }
   ],
   "source": [
    "At = A.transpose()\n",
    "At"
   ]
  },
  {
   "cell_type": "code",
   "execution_count": 170,
   "id": "ea52e295",
   "metadata": {},
   "outputs": [
    {
     "data": {
      "text/plain": [
       "array([[11, 16,  8],\n",
       "       [13,  9, 15]])"
      ]
     },
     "execution_count": 170,
     "metadata": {},
     "output_type": "execute_result"
    }
   ],
   "source": [
    "At = A.T\n",
    "At"
   ]
  },
  {
   "cell_type": "markdown",
   "id": "71b11c17",
   "metadata": {},
   "source": [
    "#### Определитель(детерминал) и ранг матрицы"
   ]
  },
  {
   "cell_type": "code",
   "execution_count": 171,
   "id": "e157a83a",
   "metadata": {},
   "outputs": [],
   "source": [
    "A = np.array([[0,1,2],\n",
    "              [3,4,5],\n",
    "              [6,7,8]])"
   ]
  },
  {
   "cell_type": "markdown",
   "id": "2f85ef98",
   "metadata": {},
   "source": [
    "Детерминал:"
   ]
  },
  {
   "cell_type": "code",
   "execution_count": 172,
   "id": "e9da85cf",
   "metadata": {},
   "outputs": [
    {
     "data": {
      "text/plain": [
       "0.0"
      ]
     },
     "execution_count": 172,
     "metadata": {},
     "output_type": "execute_result"
    }
   ],
   "source": [
    "np.linalg.det(A)"
   ]
  },
  {
   "cell_type": "markdown",
   "id": "65c691b9",
   "metadata": {},
   "source": [
    "Ранг:"
   ]
  },
  {
   "cell_type": "code",
   "execution_count": 174,
   "id": "2e213f96",
   "metadata": {},
   "outputs": [
    {
     "data": {
      "text/plain": [
       "2"
      ]
     },
     "execution_count": 174,
     "metadata": {},
     "output_type": "execute_result"
    }
   ],
   "source": [
    "np.linalg.matrix_rank(A)"
   ]
  },
  {
   "cell_type": "markdown",
   "id": "27cfdd72",
   "metadata": {},
   "source": [
    "#### Обратная матрица\n",
    "\n",
    "Такая матрица, которая при умножении на данную матрицу дает Единичную матрицу :)\n",
    "Для вычисления обратной матрицы видимо нельзя чтобы были 0 "
   ]
  },
  {
   "cell_type": "code",
   "execution_count": 178,
   "id": "ba35ba44",
   "metadata": {},
   "outputs": [],
   "source": [
    "A = np.array([[2,1,2],\n",
    "              [3,4,5],\n",
    "              [6,7,8]])"
   ]
  },
  {
   "cell_type": "code",
   "execution_count": 180,
   "id": "69c49965",
   "metadata": {},
   "outputs": [],
   "source": [
    "A_inv = np.linalg.inv(A)"
   ]
  },
  {
   "cell_type": "code",
   "execution_count": 181,
   "id": "2bf8d5a9",
   "metadata": {},
   "outputs": [
    {
     "data": {
      "text/plain": [
       "array([[ 0.5       , -1.        ,  0.5       ],\n",
       "       [-1.        , -0.66666667,  0.66666667],\n",
       "       [ 0.5       ,  1.33333333, -0.83333333]])"
      ]
     },
     "execution_count": 181,
     "metadata": {},
     "output_type": "execute_result"
    }
   ],
   "source": [
    "A_inv"
   ]
  },
  {
   "cell_type": "code",
   "execution_count": 184,
   "id": "6d437188",
   "metadata": {},
   "outputs": [
    {
     "data": {
      "text/plain": [
       "array([[1., 0., 0.],\n",
       "       [0., 1., 0.],\n",
       "       [0., 0., 1.]])"
      ]
     },
     "execution_count": 184,
     "metadata": {},
     "output_type": "execute_result"
    }
   ],
   "source": [
    "np.dot(A, A_inv) "
   ]
  },
  {
   "cell_type": "markdown",
   "id": "1791c6c4",
   "metadata": {},
   "source": [
    "# Генерирование массивов с заданными свойствами\n",
    "---\n",
    "<ol>\n",
    "<li>Автоматическое создание массивов</li>\n",
    "<li>Генерация случайных чисел</li>\n",
    "<li>Изменение формы массивов</li>\n",
    "<li>Соединение формы массивов</li>\n",
    "</ol>"
   ]
  },
  {
   "cell_type": "code",
   "execution_count": 1,
   "id": "f915e4c9",
   "metadata": {},
   "outputs": [],
   "source": [
    "import numpy as np"
   ]
  },
  {
   "cell_type": "markdown",
   "id": "041c9aba",
   "metadata": {},
   "source": [
    "#### Автоматическое создание массивов"
   ]
  },
  {
   "cell_type": "code",
   "execution_count": 187,
   "id": "dbee73a0",
   "metadata": {},
   "outputs": [],
   "source": [
    "a = np.zeros((3,4))"
   ]
  },
  {
   "cell_type": "code",
   "execution_count": 188,
   "id": "7aadf609",
   "metadata": {},
   "outputs": [
    {
     "data": {
      "text/plain": [
       "array([[0., 0., 0., 0.],\n",
       "       [0., 0., 0., 0.],\n",
       "       [0., 0., 0., 0.]])"
      ]
     },
     "execution_count": 188,
     "metadata": {},
     "output_type": "execute_result"
    }
   ],
   "source": [
    "a"
   ]
  },
  {
   "cell_type": "code",
   "execution_count": 189,
   "id": "4841c3bc",
   "metadata": {},
   "outputs": [],
   "source": [
    "a = np.ones((5,3))"
   ]
  },
  {
   "cell_type": "code",
   "execution_count": 190,
   "id": "29c846ca",
   "metadata": {},
   "outputs": [
    {
     "data": {
      "text/plain": [
       "array([[1., 1., 1.],\n",
       "       [1., 1., 1.],\n",
       "       [1., 1., 1.],\n",
       "       [1., 1., 1.],\n",
       "       [1., 1., 1.]])"
      ]
     },
     "execution_count": 190,
     "metadata": {},
     "output_type": "execute_result"
    }
   ],
   "source": [
    "a"
   ]
  },
  {
   "cell_type": "code",
   "execution_count": 192,
   "id": "bf1b812b",
   "metadata": {},
   "outputs": [
    {
     "data": {
      "text/plain": [
       "array([0, 1, 2, 3, 4, 5, 6, 7, 8, 9])"
      ]
     },
     "execution_count": 192,
     "metadata": {},
     "output_type": "execute_result"
    }
   ],
   "source": [
    "np.arange(10)"
   ]
  },
  {
   "cell_type": "code",
   "execution_count": 193,
   "id": "782202a5",
   "metadata": {},
   "outputs": [
    {
     "data": {
      "text/plain": [
       "array([0, 1, 2, 3, 4, 5, 6, 7, 8, 9])"
      ]
     },
     "execution_count": 193,
     "metadata": {},
     "output_type": "execute_result"
    }
   ],
   "source": [
    "np.arange(0, 10)"
   ]
  },
  {
   "cell_type": "code",
   "execution_count": 194,
   "id": "0b22a20d",
   "metadata": {},
   "outputs": [
    {
     "data": {
      "text/plain": [
       "array([1, 3, 5, 7, 9])"
      ]
     },
     "execution_count": 194,
     "metadata": {},
     "output_type": "execute_result"
    }
   ],
   "source": [
    "np.arange(1, 11, 2)"
   ]
  },
  {
   "cell_type": "code",
   "execution_count": 196,
   "id": "fac44905",
   "metadata": {},
   "outputs": [
    {
     "data": {
      "text/plain": [
       "array([11,  9,  7,  5,  3])"
      ]
     },
     "execution_count": 196,
     "metadata": {},
     "output_type": "execute_result"
    }
   ],
   "source": [
    "np.arange(11,1,-2)"
   ]
  },
  {
   "cell_type": "code",
   "execution_count": 198,
   "id": "b20e5a3e",
   "metadata": {},
   "outputs": [
    {
     "data": {
      "text/plain": [
       "array([11. , 10.9, 10.8, 10.7, 10.6, 10.5, 10.4, 10.3, 10.2, 10.1, 10. ,\n",
       "        9.9,  9.8,  9.7,  9.6,  9.5,  9.4,  9.3,  9.2,  9.1,  9. ,  8.9,\n",
       "        8.8,  8.7,  8.6,  8.5,  8.4,  8.3,  8.2,  8.1,  8. ,  7.9,  7.8,\n",
       "        7.7,  7.6,  7.5,  7.4,  7.3,  7.2,  7.1,  7. ,  6.9,  6.8,  6.7,\n",
       "        6.6,  6.5,  6.4,  6.3,  6.2,  6.1,  6. ,  5.9,  5.8,  5.7,  5.6,\n",
       "        5.5,  5.4,  5.3,  5.2,  5.1,  5. ,  4.9,  4.8,  4.7,  4.6,  4.5,\n",
       "        4.4,  4.3,  4.2,  4.1,  4. ,  3.9,  3.8,  3.7,  3.6,  3.5,  3.4,\n",
       "        3.3,  3.2,  3.1,  3. ,  2.9,  2.8,  2.7,  2.6,  2.5,  2.4,  2.3,\n",
       "        2.2,  2.1,  2. ,  1.9,  1.8,  1.7,  1.6,  1.5,  1.4,  1.3,  1.2,\n",
       "        1.1])"
      ]
     },
     "execution_count": 198,
     "metadata": {},
     "output_type": "execute_result"
    }
   ],
   "source": [
    "np.arange(11, 1, -0.1)"
   ]
  },
  {
   "cell_type": "markdown",
   "id": "63167123",
   "metadata": {},
   "source": [
    "**numpy.linspace** - то самое, но нужно учитывать, что правая граница будет включена и вместо шага указывается количество элементов"
   ]
  },
  {
   "cell_type": "code",
   "execution_count": 200,
   "id": "0bf9dec4",
   "metadata": {},
   "outputs": [
    {
     "data": {
      "text/plain": [
       "array([ 0. ,  2.5,  5. ,  7.5, 10. ])"
      ]
     },
     "execution_count": 200,
     "metadata": {},
     "output_type": "execute_result"
    }
   ],
   "source": [
    "np.linspace(0, 10, 5)"
   ]
  },
  {
   "cell_type": "markdown",
   "id": "ddd59128",
   "metadata": {},
   "source": [
    "**numpy.logspace** - границы также включены, но это не сами числа, а степени числа 10"
   ]
  },
  {
   "cell_type": "code",
   "execution_count": 202,
   "id": "aeb1e552",
   "metadata": {},
   "outputs": [
    {
     "data": {
      "text/plain": [
       "array([1.00000000e+00, 3.16227766e+02, 1.00000000e+05, 3.16227766e+07,\n",
       "       1.00000000e+10])"
      ]
     },
     "execution_count": 202,
     "metadata": {},
     "output_type": "execute_result"
    }
   ],
   "source": [
    "np.logspace(0, 10, 5)"
   ]
  },
  {
   "cell_type": "code",
   "execution_count": 203,
   "id": "f426eea3",
   "metadata": {},
   "outputs": [
    {
     "data": {
      "text/plain": [
       "array([   1.,   10.,  100., 1000.])"
      ]
     },
     "execution_count": 203,
     "metadata": {},
     "output_type": "execute_result"
    }
   ],
   "source": [
    "np.logspace(0, 3, 4)"
   ]
  },
  {
   "cell_type": "markdown",
   "id": "f6bf9246",
   "metadata": {},
   "source": [
    "#### Генерация случайных чисел 38:55"
   ]
  },
  {
   "cell_type": "markdown",
   "id": "ffac1a5c",
   "metadata": {},
   "source": [
    "**numpy.random.sample** - случайные числа с равномерным распределением в промежутке \\[0.0, 1.0)  "
   ]
  },
  {
   "cell_type": "code",
   "execution_count": 3,
   "id": "785b5f6d",
   "metadata": {},
   "outputs": [
    {
     "data": {
      "text/plain": [
       "0.6089291558183658"
      ]
     },
     "execution_count": 3,
     "metadata": {},
     "output_type": "execute_result"
    }
   ],
   "source": [
    "np.random.sample()"
   ]
  },
  {
   "cell_type": "markdown",
   "id": "a6d95c56",
   "metadata": {},
   "source": [
    "Одномерный массив из 3 чисел:"
   ]
  },
  {
   "cell_type": "code",
   "execution_count": 4,
   "id": "6dba5474",
   "metadata": {},
   "outputs": [
    {
     "data": {
      "text/plain": [
       "array([0.95105325, 0.65957291, 0.0727264 ])"
      ]
     },
     "execution_count": 4,
     "metadata": {},
     "output_type": "execute_result"
    }
   ],
   "source": [
    "np.random.sample(3)"
   ]
  },
  {
   "cell_type": "code",
   "execution_count": 5,
   "id": "0208dc56",
   "metadata": {},
   "outputs": [
    {
     "data": {
      "text/plain": [
       "array([[0.14584271, 0.72428373, 0.36066246],\n",
       "       [0.76678087, 0.79133167, 0.28661922]])"
      ]
     },
     "execution_count": 5,
     "metadata": {},
     "output_type": "execute_result"
    }
   ],
   "source": [
    "np.random.sample((2,3))"
   ]
  },
  {
   "cell_type": "markdown",
   "id": "83a379cb",
   "metadata": {},
   "source": [
    "Случайное изображение с высотой 48, шириной 48 и значением яркости трех цветов для каждого пикселя"
   ]
  },
  {
   "cell_type": "code",
   "execution_count": 6,
   "id": "2468d611",
   "metadata": {},
   "outputs": [
    {
     "data": {
      "text/plain": [
       "array([[[0.84395054, 0.16535116, 0.26502411],\n",
       "        [0.86709979, 0.78303492, 0.05879727],\n",
       "        [0.71264846, 0.64758446, 0.87563633],\n",
       "        ...,\n",
       "        [0.85943634, 0.94929705, 0.83907725],\n",
       "        [0.45274712, 0.62674589, 0.28299887],\n",
       "        [0.25103657, 0.41761131, 0.32123832]],\n",
       "\n",
       "       [[0.64316832, 0.44296915, 0.83251579],\n",
       "        [0.43724534, 0.54115561, 0.89509511],\n",
       "        [0.39263328, 0.87109435, 0.35396508],\n",
       "        ...,\n",
       "        [0.08252847, 0.96063175, 0.04142474],\n",
       "        [0.24547339, 0.31942509, 0.0670636 ],\n",
       "        [0.1114414 , 0.99949495, 0.88319358]],\n",
       "\n",
       "       [[0.40272132, 0.52442928, 0.52475741],\n",
       "        [0.33605392, 0.34725752, 0.89692066],\n",
       "        [0.01462522, 0.18528804, 0.72023983],\n",
       "        ...,\n",
       "        [0.12669992, 0.57952202, 0.68916289],\n",
       "        [0.39968405, 0.43887014, 0.33119212],\n",
       "        [0.97709314, 0.90304887, 0.59171996]],\n",
       "\n",
       "       ...,\n",
       "\n",
       "       [[0.81934099, 0.43622321, 0.4805353 ],\n",
       "        [0.25807347, 0.78612286, 0.4396968 ],\n",
       "        [0.20674663, 0.98332133, 0.45131243],\n",
       "        ...,\n",
       "        [0.15847874, 0.13404477, 0.16619514],\n",
       "        [0.04025391, 0.47504024, 0.50130349],\n",
       "        [0.30961843, 0.64565935, 0.2562875 ]],\n",
       "\n",
       "       [[0.64884214, 0.13341701, 0.30743988],\n",
       "        [0.42970291, 0.72212643, 0.29405203],\n",
       "        [0.72340881, 0.67591688, 0.28791241],\n",
       "        ...,\n",
       "        [0.60305725, 0.50920061, 0.07964773],\n",
       "        [0.42467722, 0.83949329, 0.2882497 ],\n",
       "        [0.37317668, 0.54296454, 0.13585049]],\n",
       "\n",
       "       [[0.42142682, 0.83339396, 0.0244068 ],\n",
       "        [0.75508431, 0.08527911, 0.83551257],\n",
       "        [0.18578136, 0.60812674, 0.02802321],\n",
       "        ...,\n",
       "        [0.38735092, 0.88359977, 0.77734904],\n",
       "        [0.07403313, 0.11817968, 0.76597132],\n",
       "        [0.36510968, 0.18064857, 0.25180401]]])"
      ]
     },
     "execution_count": 6,
     "metadata": {},
     "output_type": "execute_result"
    }
   ],
   "source": [
    "np.random.sample((48,48,3))"
   ]
  },
  {
   "cell_type": "markdown",
   "id": "f155a68d",
   "metadata": {},
   "source": [
    "**numpy.random.randn** - случайные числа с нормальным распределением \n",
    "\n",
    "(mean = 0, std = 1)"
   ]
  },
  {
   "cell_type": "code",
   "execution_count": 15,
   "id": "990c3710",
   "metadata": {},
   "outputs": [],
   "source": [
    "a = np.random.randn(1000)"
   ]
  },
  {
   "cell_type": "code",
   "execution_count": 16,
   "id": "e85d5ae2",
   "metadata": {},
   "outputs": [
    {
     "data": {
      "text/plain": [
       "-0.011216817711719259"
      ]
     },
     "execution_count": 16,
     "metadata": {},
     "output_type": "execute_result"
    }
   ],
   "source": [
    "a.mean()"
   ]
  },
  {
   "cell_type": "code",
   "execution_count": 17,
   "id": "58b130f0",
   "metadata": {},
   "outputs": [
    {
     "data": {
      "text/plain": [
       "1.044633769145682"
      ]
     },
     "execution_count": 17,
     "metadata": {},
     "output_type": "execute_result"
    }
   ],
   "source": [
    "a.std()"
   ]
  },
  {
   "cell_type": "code",
   "execution_count": 18,
   "id": "563b1740",
   "metadata": {},
   "outputs": [
    {
     "data": {
      "text/plain": [
       "array([[-0.39947801,  0.60387684,  2.76666949,  1.93610023],\n",
       "       [-0.40604413,  0.58903774,  0.94879819, -1.11274145],\n",
       "       [ 0.17394171,  0.84444605, -0.56378393,  0.00985828]])"
      ]
     },
     "execution_count": 18,
     "metadata": {},
     "output_type": "execute_result"
    }
   ],
   "source": [
    "np.random.randn(3,4)"
   ]
  },
  {
   "cell_type": "code",
   "execution_count": 21,
   "id": "32051ef8",
   "metadata": {},
   "outputs": [
    {
     "data": {
      "text/plain": [
       "array([[[-0.45893187, -0.05210194],\n",
       "        [ 0.01650822, -0.28424283],\n",
       "        [ 0.42440718,  0.89500811],\n",
       "        [-0.47388396,  0.46990398]],\n",
       "\n",
       "       [[-0.94845112,  0.40727242],\n",
       "        [ 0.31280222,  0.4633469 ],\n",
       "        [-0.56158164,  0.33535937],\n",
       "        [-0.72670138, -0.5759896 ]],\n",
       "\n",
       "       [[-0.18305423,  0.24814334],\n",
       "        [ 0.47728308,  1.40195536],\n",
       "        [-0.82893343, -0.50465304],\n",
       "        [ 0.22721893, -1.05025628]]])"
      ]
     },
     "execution_count": 21,
     "metadata": {},
     "output_type": "execute_result"
    }
   ],
   "source": [
    "np.random.randn(3,4,2)"
   ]
  },
  {
   "cell_type": "markdown",
   "id": "4a38cf9e",
   "metadata": {},
   "source": [
    "**numpy.random.randint** - массив из целых чисел\n",
    "\n",
    "\\[0, 100) - промежуток например. Третьим параметром указывается количество, какой массив.\n",
    "Могут быть повторки..."
   ]
  },
  {
   "cell_type": "code",
   "execution_count": 24,
   "id": "54b26fd3",
   "metadata": {},
   "outputs": [
    {
     "data": {
      "text/plain": [
       "array([90, 90, 93, 99, 98, 97, 90, 91, 95, 93])"
      ]
     },
     "execution_count": 24,
     "metadata": {},
     "output_type": "execute_result"
    }
   ],
   "source": [
    "np.random.randint(90, 100, 10)"
   ]
  },
  {
   "cell_type": "code",
   "execution_count": 25,
   "id": "8dd9adf7",
   "metadata": {},
   "outputs": [
    {
     "data": {
      "text/plain": [
       "array([[29, 85, 14],\n",
       "       [68, 28, 61],\n",
       "       [64, 31, 40]])"
      ]
     },
     "execution_count": 25,
     "metadata": {},
     "output_type": "execute_result"
    }
   ],
   "source": [
    "np.random.randint(0, 100, (3,3))"
   ]
  },
  {
   "cell_type": "markdown",
   "id": "8abfae15",
   "metadata": {},
   "source": [
    "**numppy.random.choice** - случайный выбор элементов из массива"
   ]
  },
  {
   "cell_type": "code",
   "execution_count": 26,
   "id": "fb652de4",
   "metadata": {},
   "outputs": [],
   "source": [
    "b = np.array((1,4,8,5,3,2,9))"
   ]
  },
  {
   "cell_type": "code",
   "execution_count": 37,
   "id": "d9231f8b",
   "metadata": {},
   "outputs": [
    {
     "data": {
      "text/plain": [
       "1"
      ]
     },
     "execution_count": 37,
     "metadata": {},
     "output_type": "execute_result"
    }
   ],
   "source": [
    "np.random.choice(b)"
   ]
  },
  {
   "cell_type": "code",
   "execution_count": 48,
   "id": "51861a4d",
   "metadata": {},
   "outputs": [],
   "source": [
    "c = np.random.randint(0, 100, 50)"
   ]
  },
  {
   "cell_type": "code",
   "execution_count": 50,
   "id": "79ab58a8",
   "metadata": {},
   "outputs": [
    {
     "data": {
      "text/plain": [
       "array([[66, 10, 86],\n",
       "       [56, 52, 16]])"
      ]
     },
     "execution_count": 50,
     "metadata": {},
     "output_type": "execute_result"
    }
   ],
   "source": [
    "np.random.choice(c,(2,3))"
   ]
  },
  {
   "cell_type": "markdown",
   "id": "f9b05b01",
   "metadata": {},
   "source": [
    "В модуле numpy.random мы получаем не случайные, а псевдослучайные числа. ГСЧ получает объект и генерирует одно и то же. Вот как это работает:\n",
    "\n",
    "**numpy.random.seed** - инициализация генератора случайных чисел.\n",
    "\n",
    "Может использоваться для последующей воспроизводимости (будут генерироваться одни и те же числа, если установить одинаковый seed)"
   ]
  },
  {
   "cell_type": "code",
   "execution_count": 57,
   "id": "5a5dd78a",
   "metadata": {},
   "outputs": [],
   "source": [
    "np.random.seed(10)"
   ]
  },
  {
   "cell_type": "code",
   "execution_count": 58,
   "id": "a289375f",
   "metadata": {},
   "outputs": [
    {
     "data": {
      "text/plain": [
       "array([9, 4, 0])"
      ]
     },
     "execution_count": 58,
     "metadata": {},
     "output_type": "execute_result"
    }
   ],
   "source": [
    "np.random.randint(0, 10, 3)"
   ]
  },
  {
   "cell_type": "code",
   "execution_count": 59,
   "id": "84d0996f",
   "metadata": {},
   "outputs": [
    {
     "data": {
      "text/plain": [
       "array([9, 4, 0])"
      ]
     },
     "execution_count": 59,
     "metadata": {},
     "output_type": "execute_result"
    }
   ],
   "source": [
    "np.random.seed(10)\n",
    "np.random.randint(0, 10, 3)"
   ]
  },
  {
   "cell_type": "markdown",
   "id": "f7d5f551",
   "metadata": {},
   "source": [
    "#### Изменение формы массивов"
   ]
  },
  {
   "cell_type": "code",
   "execution_count": 77,
   "id": "1edb1e5b",
   "metadata": {},
   "outputs": [
    {
     "data": {
      "text/plain": [
       "array([ 0,  1,  2,  3,  4,  5,  6,  7,  8,  9, 10, 11])"
      ]
     },
     "execution_count": 77,
     "metadata": {},
     "output_type": "execute_result"
    }
   ],
   "source": [
    "a = np.arange(12)\n",
    "a"
   ]
  },
  {
   "cell_type": "code",
   "execution_count": 78,
   "id": "ba12fca2",
   "metadata": {},
   "outputs": [
    {
     "data": {
      "text/plain": [
       "array([[ 0,  1,  2,  3],\n",
       "       [ 4,  5,  6,  7],\n",
       "       [ 8,  9, 10, 11]])"
      ]
     },
     "execution_count": 78,
     "metadata": {},
     "output_type": "execute_result"
    }
   ],
   "source": [
    "a.reshape(3,4)"
   ]
  },
  {
   "cell_type": "code",
   "execution_count": 79,
   "id": "5896a951",
   "metadata": {},
   "outputs": [
    {
     "data": {
      "text/plain": [
       "array([[ 0,  1,  2,  3,  4,  5],\n",
       "       [ 6,  7,  8,  9, 10, 11]])"
      ]
     },
     "execution_count": 79,
     "metadata": {},
     "output_type": "execute_result"
    }
   ],
   "source": [
    "# Можно указать требуемое число строк, а вместо столбцов поставить -1. Тогда само определится число столбцов :)\n",
    "a.reshape(2, -1)"
   ]
  },
  {
   "cell_type": "code",
   "execution_count": 80,
   "id": "0aaca48d",
   "metadata": {},
   "outputs": [
    {
     "data": {
      "text/plain": [
       "array([ 0,  1,  2,  3,  4,  5,  6,  7,  8,  9, 10, 11])"
      ]
     },
     "execution_count": 80,
     "metadata": {},
     "output_type": "execute_result"
    }
   ],
   "source": [
    "# как видим массив не изменил свою структуру\n",
    "a"
   ]
  },
  {
   "cell_type": "code",
   "execution_count": 81,
   "id": "be30efb3",
   "metadata": {},
   "outputs": [],
   "source": [
    "# inplace\n",
    "a.resize(3,4)"
   ]
  },
  {
   "cell_type": "code",
   "execution_count": 83,
   "id": "1f8ca71d",
   "metadata": {},
   "outputs": [
    {
     "data": {
      "text/plain": [
       "array([[ 0,  1,  2,  3],\n",
       "       [ 4,  5,  6,  7],\n",
       "       [ 8,  9, 10, 11]])"
      ]
     },
     "execution_count": 83,
     "metadata": {},
     "output_type": "execute_result"
    }
   ],
   "source": [
    "# массив изменил форму \n",
    "a"
   ]
  },
  {
   "cell_type": "code",
   "execution_count": 84,
   "id": "655a28fb",
   "metadata": {},
   "outputs": [],
   "source": [
    "a = a.flatten()"
   ]
  },
  {
   "cell_type": "code",
   "execution_count": 86,
   "id": "71453def",
   "metadata": {},
   "outputs": [
    {
     "data": {
      "text/plain": [
       "array([ 0,  1,  2,  3,  4,  5,  6,  7,  8,  9, 10, 11])"
      ]
     },
     "execution_count": 86,
     "metadata": {},
     "output_type": "execute_result"
    }
   ],
   "source": [
    "# сделали из многомерного массива одномерный массив. \n",
    "a"
   ]
  },
  {
   "cell_type": "markdown",
   "id": "b91424f4",
   "metadata": {},
   "source": [
    "#### Соединение формы массивов\n",
    "\n",
    "Для наглядности возьмем два массива - с нулями и единицами:"
   ]
  },
  {
   "cell_type": "code",
   "execution_count": 91,
   "id": "c64587e1",
   "metadata": {},
   "outputs": [
    {
     "data": {
      "text/plain": [
       "array([[0., 0., 0.],\n",
       "       [0., 0., 0.]])"
      ]
     },
     "execution_count": 91,
     "metadata": {},
     "output_type": "execute_result"
    }
   ],
   "source": [
    "a = np.zeros((2,3))\n",
    "a"
   ]
  },
  {
   "cell_type": "code",
   "execution_count": 92,
   "id": "684c5bec",
   "metadata": {},
   "outputs": [
    {
     "data": {
      "text/plain": [
       "array([[1., 1., 1.],\n",
       "       [1., 1., 1.]])"
      ]
     },
     "execution_count": 92,
     "metadata": {},
     "output_type": "execute_result"
    }
   ],
   "source": [
    "b = np.ones((2,3))\n",
    "b"
   ]
  },
  {
   "cell_type": "code",
   "execution_count": 96,
   "id": "6ceb3171",
   "metadata": {},
   "outputs": [
    {
     "data": {
      "text/plain": [
       "array([[1., 1., 1.],\n",
       "       [1., 1., 1.]])"
      ]
     },
     "execution_count": 96,
     "metadata": {},
     "output_type": "execute_result"
    }
   ],
   "source": [
    "np.add(a,b)"
   ]
  },
  {
   "cell_type": "markdown",
   "id": "17ca6d65",
   "metadata": {},
   "source": [
    "Соединение строк (горизонтально, вертикально)"
   ]
  },
  {
   "cell_type": "code",
   "execution_count": 105,
   "id": "f2c34259",
   "metadata": {},
   "outputs": [
    {
     "data": {
      "text/plain": [
       "array([[0., 0., 0., 1., 1., 1.],\n",
       "       [0., 0., 0., 1., 1., 1.]])"
      ]
     },
     "execution_count": 105,
     "metadata": {},
     "output_type": "execute_result"
    }
   ],
   "source": [
    "h = np.hstack((a,b))\n",
    "h"
   ]
  },
  {
   "cell_type": "code",
   "execution_count": 106,
   "id": "1fbcc17b",
   "metadata": {},
   "outputs": [
    {
     "data": {
      "text/plain": [
       "array([[0., 0., 0.],\n",
       "       [0., 0., 0.],\n",
       "       [1., 1., 1.],\n",
       "       [1., 1., 1.]])"
      ]
     },
     "execution_count": 106,
     "metadata": {},
     "output_type": "execute_result"
    }
   ],
   "source": [
    "v = np.vstack((a,b))\n",
    "v"
   ]
  },
  {
   "cell_type": "code",
   "execution_count": 107,
   "id": "a3ed3fa1",
   "metadata": {},
   "outputs": [
    {
     "data": {
      "text/plain": [
       "((2, 3), (2, 3), (2, 6), (4, 3))"
      ]
     },
     "execution_count": 107,
     "metadata": {},
     "output_type": "execute_result"
    }
   ],
   "source": [
    "a.shape, b.shape, h.shape, v.shape"
   ]
  },
  {
   "cell_type": "markdown",
   "id": "54cbbf1a",
   "metadata": {},
   "source": [
    "**Или**"
   ]
  },
  {
   "cell_type": "code",
   "execution_count": 108,
   "id": "7f6fdb83",
   "metadata": {},
   "outputs": [
    {
     "data": {
      "text/plain": [
       "array([[0., 0., 0.],\n",
       "       [0., 0., 0.],\n",
       "       [1., 1., 1.],\n",
       "       [1., 1., 1.]])"
      ]
     },
     "execution_count": 108,
     "metadata": {},
     "output_type": "execute_result"
    }
   ],
   "source": [
    "# по вертикали (добавить строки) axis = 0\n",
    "np.concatenate((a,b), axis = 0) "
   ]
  },
  {
   "cell_type": "code",
   "execution_count": 111,
   "id": "06bf656d",
   "metadata": {},
   "outputs": [
    {
     "data": {
      "text/plain": [
       "array([[0., 0., 0., 1., 1., 1.],\n",
       "       [0., 0., 0., 1., 1., 1.]])"
      ]
     },
     "execution_count": 111,
     "metadata": {},
     "output_type": "execute_result"
    }
   ],
   "source": [
    "# по горизонтали (добавить столбцы) axis = 1\n",
    "np.concatenate((a,b), axis = 1)"
   ]
  },
  {
   "cell_type": "markdown",
   "id": "217e08bf",
   "metadata": {},
   "source": [
    "Соединение в глубину (В третьем измерении)"
   ]
  },
  {
   "cell_type": "code",
   "execution_count": 118,
   "id": "ee0c992b",
   "metadata": {},
   "outputs": [],
   "source": [
    "d = np.dstack([a,b])"
   ]
  },
  {
   "cell_type": "code",
   "execution_count": 119,
   "id": "3084abe6",
   "metadata": {},
   "outputs": [
    {
     "data": {
      "text/plain": [
       "array([[0., 0., 0.],\n",
       "       [0., 0., 0.]])"
      ]
     },
     "execution_count": 119,
     "metadata": {},
     "output_type": "execute_result"
    }
   ],
   "source": [
    "a"
   ]
  },
  {
   "cell_type": "code",
   "execution_count": 120,
   "id": "d7f59e9b",
   "metadata": {},
   "outputs": [
    {
     "data": {
      "text/plain": [
       "array([[1., 1., 1.],\n",
       "       [1., 1., 1.]])"
      ]
     },
     "execution_count": 120,
     "metadata": {},
     "output_type": "execute_result"
    }
   ],
   "source": [
    "b"
   ]
  },
  {
   "cell_type": "code",
   "execution_count": 121,
   "id": "3a4c54d7",
   "metadata": {},
   "outputs": [
    {
     "data": {
      "text/plain": [
       "array([[[0., 1.],\n",
       "        [0., 1.],\n",
       "        [0., 1.]],\n",
       "\n",
       "       [[0., 1.],\n",
       "        [0., 1.],\n",
       "        [0., 1.]]])"
      ]
     },
     "execution_count": 121,
     "metadata": {},
     "output_type": "execute_result"
    }
   ],
   "source": [
    "d"
   ]
  },
  {
   "cell_type": "markdown",
   "id": "411f8f1e",
   "metadata": {},
   "source": [
    "# Функции для работы с данными \n",
    "---\n",
    "<ol>\n",
    "<li>Выбор данных из массива</li>\n",
    "<li>Сортировка</li>\n",
    "<li>Случайное перемешивание</li>\n",
    "<li>Математические действия</li>\n",
    "<li>Broadcasting</li>\n",
    "<li>Статические функции</li>\n",
    "<li>Запись и чтение массивов из файла</li>\n",
    "</ol>"
   ]
  },
  {
   "cell_type": "code",
   "execution_count": 122,
   "id": "06ae1f5e",
   "metadata": {},
   "outputs": [],
   "source": [
    "import numpy as np"
   ]
  },
  {
   "cell_type": "markdown",
   "id": "8f3360f7",
   "metadata": {},
   "source": [
    "#### Выбор данных"
   ]
  },
  {
   "cell_type": "code",
   "execution_count": 125,
   "id": "a48e7d34",
   "metadata": {},
   "outputs": [
    {
     "data": {
      "text/plain": [
       "array([19, 13,  5, 13, 19, 13, 12,  1,  4, 18])"
      ]
     },
     "execution_count": 125,
     "metadata": {},
     "output_type": "execute_result"
    }
   ],
   "source": [
    "a = np.random.randint(0, 20, 10)\n",
    "a"
   ]
  },
  {
   "cell_type": "markdown",
   "id": "fd335a05",
   "metadata": {},
   "source": [
    "***булевы маски***"
   ]
  },
  {
   "cell_type": "code",
   "execution_count": 127,
   "id": "bf41eb86",
   "metadata": {},
   "outputs": [
    {
     "data": {
      "text/plain": [
       "array([19, 13, 13, 19, 13, 12, 18])"
      ]
     },
     "execution_count": 127,
     "metadata": {},
     "output_type": "execute_result"
    }
   ],
   "source": [
    "# Булева маска\n",
    "a[a > 10]"
   ]
  },
  {
   "cell_type": "code",
   "execution_count": 129,
   "id": "824c64b0",
   "metadata": {},
   "outputs": [
    {
     "data": {
      "text/plain": [
       "array([12, 18])"
      ]
     },
     "execution_count": 129,
     "metadata": {},
     "output_type": "execute_result"
    }
   ],
   "source": [
    "a[(a > 10) & (a % 2 == 0)]"
   ]
  },
  {
   "cell_type": "code",
   "execution_count": 130,
   "id": "345d8c3b",
   "metadata": {},
   "outputs": [
    {
     "data": {
      "text/plain": [
       "array([19, 13, 13, 19, 13, 12, 18])"
      ]
     },
     "execution_count": 130,
     "metadata": {},
     "output_type": "execute_result"
    }
   ],
   "source": [
    "a[(a > 10) | (a % 3 == 0)]"
   ]
  },
  {
   "cell_type": "markdown",
   "id": "d1c0cc95",
   "metadata": {},
   "source": [
    "Вариант без булевых масок\n",
    "\n",
    "**numpy.where** - возвращает индексы тек элементов, которые соответствуют условию. Таким образом на выходе массив индексов"
   ]
  },
  {
   "cell_type": "code",
   "execution_count": 131,
   "id": "f85b897f",
   "metadata": {},
   "outputs": [
    {
     "data": {
      "text/plain": [
       "array([19, 13,  5, 13, 19, 13, 12,  1,  4, 18])"
      ]
     },
     "execution_count": 131,
     "metadata": {},
     "output_type": "execute_result"
    }
   ],
   "source": [
    "a"
   ]
  },
  {
   "cell_type": "code",
   "execution_count": 132,
   "id": "70beb80a",
   "metadata": {},
   "outputs": [
    {
     "data": {
      "text/plain": [
       "(array([0, 1, 3, 4, 5, 6, 9], dtype=int64),)"
      ]
     },
     "execution_count": 132,
     "metadata": {},
     "output_type": "execute_result"
    }
   ],
   "source": [
    "np.where(a > 10)"
   ]
  },
  {
   "cell_type": "code",
   "execution_count": 133,
   "id": "310d7b39",
   "metadata": {},
   "outputs": [
    {
     "data": {
      "text/plain": [
       "array([19, 13, 13, 19, 13, 12, 18])"
      ]
     },
     "execution_count": 133,
     "metadata": {},
     "output_type": "execute_result"
    }
   ],
   "source": [
    "a[np.where(a > 10)]"
   ]
  },
  {
   "cell_type": "markdown",
   "id": "919d35ce",
   "metadata": {},
   "source": [
    "Очень крутая штука с where:"
   ]
  },
  {
   "cell_type": "code",
   "execution_count": 134,
   "id": "2bc94727",
   "metadata": {},
   "outputs": [],
   "source": [
    "a = [1, 4, 7]\n",
    "b = [9,2,5]"
   ]
  },
  {
   "cell_type": "code",
   "execution_count": 136,
   "id": "db26c761",
   "metadata": {},
   "outputs": [
    {
     "data": {
      "text/plain": [
       "array([1, 2, 7])"
      ]
     },
     "execution_count": 136,
     "metadata": {},
     "output_type": "execute_result"
    }
   ],
   "source": [
    "# Если в условии True, то берем из массива а, если False - то из b\n",
    "np.where([True, False, True], a, b)"
   ]
  },
  {
   "cell_type": "code",
   "execution_count": 137,
   "id": "1b097bbd",
   "metadata": {},
   "outputs": [
    {
     "data": {
      "text/plain": [
       "array([1, 2, 7])"
      ]
     },
     "execution_count": 137,
     "metadata": {},
     "output_type": "execute_result"
    }
   ],
   "source": [
    "np.where([1, 0, 1], a, b)"
   ]
  },
  {
   "cell_type": "markdown",
   "id": "ee6bf453",
   "metadata": {},
   "source": [
    "#### Сортировка"
   ]
  },
  {
   "cell_type": "code",
   "execution_count": 140,
   "id": "736d8b4b",
   "metadata": {},
   "outputs": [
    {
     "data": {
      "text/plain": [
       "array([[1, 3, 9, 9],\n",
       "       [5, 0, 1, 5],\n",
       "       [2, 7, 3, 5]])"
      ]
     },
     "execution_count": 140,
     "metadata": {},
     "output_type": "execute_result"
    }
   ],
   "source": [
    "a = np.array([[1,3,9,9],\n",
    "              [5,0,1,5],\n",
    "              [2,7,3,5]])\n",
    "a"
   ]
  },
  {
   "cell_type": "markdown",
   "id": "a5ac1357",
   "metadata": {},
   "source": [
    "Хотим отсортировать данный массив по нулевому столбцу (1,5,2)"
   ]
  },
  {
   "cell_type": "code",
   "execution_count": 143,
   "id": "046f8b58",
   "metadata": {},
   "outputs": [
    {
     "data": {
      "text/plain": [
       "array([[1, 3, 9, 9],\n",
       "       [2, 7, 3, 5],\n",
       "       [5, 0, 1, 5]])"
      ]
     },
     "execution_count": 143,
     "metadata": {},
     "output_type": "execute_result"
    }
   ],
   "source": [
    "a[[0,2,1],:]"
   ]
  },
  {
   "cell_type": "code",
   "execution_count": 144,
   "id": "f13603ed",
   "metadata": {},
   "outputs": [
    {
     "data": {
      "text/plain": [
       "numpy.ndarray"
      ]
     },
     "execution_count": 144,
     "metadata": {},
     "output_type": "execute_result"
    }
   ],
   "source": [
    "type(a)"
   ]
  },
  {
   "cell_type": "markdown",
   "id": "e57fd285",
   "metadata": {},
   "source": [
    "**numpy.ndarray.argsort** - сортировка по осям. возвращает массив с индексами вместо значений"
   ]
  },
  {
   "cell_type": "code",
   "execution_count": 145,
   "id": "a3c4d84b",
   "metadata": {},
   "outputs": [
    {
     "data": {
      "text/plain": [
       "array([[0, 1, 1, 1],\n",
       "       [2, 0, 2, 2],\n",
       "       [1, 2, 0, 0]], dtype=int64)"
      ]
     },
     "execution_count": 145,
     "metadata": {},
     "output_type": "execute_result"
    }
   ],
   "source": [
    "a.argsort(axis = 0)"
   ]
  },
  {
   "cell_type": "code",
   "execution_count": 147,
   "id": "890fe203",
   "metadata": {},
   "outputs": [
    {
     "data": {
      "text/plain": [
       "array([1, 5, 2])"
      ]
     },
     "execution_count": 147,
     "metadata": {},
     "output_type": "execute_result"
    }
   ],
   "source": [
    "a[:, 0]"
   ]
  },
  {
   "cell_type": "code",
   "execution_count": 157,
   "id": "01b06947",
   "metadata": {},
   "outputs": [
    {
     "data": {
      "text/plain": [
       "array([0, 2, 1], dtype=int64)"
      ]
     },
     "execution_count": 157,
     "metadata": {},
     "output_type": "execute_result"
    }
   ],
   "source": [
    "a[:, 0].argsort()"
   ]
  },
  {
   "cell_type": "code",
   "execution_count": 151,
   "id": "000d7516",
   "metadata": {},
   "outputs": [
    {
     "data": {
      "text/plain": [
       "array([[1, 3, 9, 9],\n",
       "       [2, 7, 3, 5],\n",
       "       [5, 0, 1, 5]])"
      ]
     },
     "execution_count": 151,
     "metadata": {},
     "output_type": "execute_result"
    }
   ],
   "source": [
    "a[a[:, 0].argsort(),:]"
   ]
  },
  {
   "cell_type": "markdown",
   "id": "f89cd762",
   "metadata": {},
   "source": [
    "Пояснение: мы вначале отсортировали столбец 0, и взяли индексы. Потом мы эти индексы сунули в строковые индексы и взяли фулл индексы по столбцу"
   ]
  },
  {
   "cell_type": "markdown",
   "id": "eb63101c",
   "metadata": {},
   "source": [
    "#### Случайное перемешивание"
   ]
  },
  {
   "cell_type": "markdown",
   "id": "baf6800a",
   "metadata": {},
   "source": [
    "Операция обратная сортировке. Иногда в машинном обучении выборки нужно перемешивать :)"
   ]
  },
  {
   "cell_type": "markdown",
   "id": "8a05677a",
   "metadata": {},
   "source": [
    "Одномерные массивы"
   ]
  },
  {
   "cell_type": "code",
   "execution_count": 164,
   "id": "1cfa57fe",
   "metadata": {},
   "outputs": [
    {
     "data": {
      "text/plain": [
       "array([554, 749, 313, 747, 865, 818, 557, 936, 985, 713])"
      ]
     },
     "execution_count": 164,
     "metadata": {},
     "output_type": "execute_result"
    }
   ],
   "source": [
    "a = np.random.randint(0,1000,10)\n",
    "a"
   ]
  },
  {
   "cell_type": "code",
   "execution_count": 165,
   "id": "2aa49edc",
   "metadata": {},
   "outputs": [],
   "source": [
    "# inplace - меняет массив (как в resize)\n",
    "np.random.shuffle(a)"
   ]
  },
  {
   "cell_type": "code",
   "execution_count": 166,
   "id": "8d9ac4de",
   "metadata": {},
   "outputs": [
    {
     "data": {
      "text/plain": [
       "array([749, 557, 936, 865, 985, 713, 747, 313, 554, 818])"
      ]
     },
     "execution_count": 166,
     "metadata": {},
     "output_type": "execute_result"
    }
   ],
   "source": [
    "a"
   ]
  },
  {
   "cell_type": "code",
   "execution_count": 167,
   "id": "6b74ee51",
   "metadata": {},
   "outputs": [
    {
     "data": {
      "text/plain": [
       "array([[ 0,  1,  2],\n",
       "       [ 3,  4,  5],\n",
       "       [ 6,  7,  8],\n",
       "       [ 9, 10, 11]])"
      ]
     },
     "execution_count": 167,
     "metadata": {},
     "output_type": "execute_result"
    }
   ],
   "source": [
    "a = np.arange(12).reshape(4,3)\n",
    "a"
   ]
  },
  {
   "cell_type": "code",
   "execution_count": 169,
   "id": "406d3970",
   "metadata": {},
   "outputs": [],
   "source": [
    "# inplace\n",
    "np.random.shuffle(a)"
   ]
  },
  {
   "cell_type": "code",
   "execution_count": 170,
   "id": "8a70262a",
   "metadata": {},
   "outputs": [
    {
     "data": {
      "text/plain": [
       "array([[ 9, 10, 11],\n",
       "       [ 0,  1,  2],\n",
       "       [ 3,  4,  5],\n",
       "       [ 6,  7,  8]])"
      ]
     },
     "execution_count": 170,
     "metadata": {},
     "output_type": "execute_result"
    }
   ],
   "source": [
    "a"
   ]
  },
  {
   "cell_type": "markdown",
   "id": "3f39b226",
   "metadata": {},
   "source": [
    "Пояснение: **numpy.random.shuffle** - полностью перемешивают одномерные массивы. В остальных случаях перемешиваются только строки (у строк меняются индексы, внутри все также)"
   ]
  },
  {
   "cell_type": "markdown",
   "id": "df624bfd",
   "metadata": {},
   "source": [
    "#### Математические действия"
   ]
  },
  {
   "cell_type": "markdown",
   "id": "77ba8bd8",
   "metadata": {},
   "source": [
    "Применение математических действий ко всему массиву"
   ]
  },
  {
   "cell_type": "code",
   "execution_count": 173,
   "id": "17bbeabf",
   "metadata": {},
   "outputs": [
    {
     "data": {
      "text/plain": [
       "array([[1, 2, 3],\n",
       "       [4, 5, 6]])"
      ]
     },
     "execution_count": 173,
     "metadata": {},
     "output_type": "execute_result"
    }
   ],
   "source": [
    "a = np.arange(1,7).reshape(2,3)\n",
    "a"
   ]
  },
  {
   "cell_type": "code",
   "execution_count": 174,
   "id": "a4b93bbe",
   "metadata": {},
   "outputs": [
    {
     "data": {
      "text/plain": [
       "array([[0.        , 0.69314718, 1.09861229],\n",
       "       [1.38629436, 1.60943791, 1.79175947]])"
      ]
     },
     "execution_count": 174,
     "metadata": {},
     "output_type": "execute_result"
    }
   ],
   "source": [
    "# Логарифм по основанию е\n",
    "np.log(a)"
   ]
  },
  {
   "cell_type": "code",
   "execution_count": 175,
   "id": "a6bdee69",
   "metadata": {},
   "outputs": [
    {
     "data": {
      "text/plain": [
       "array([[  2.71828183,   7.3890561 ,  20.08553692],\n",
       "       [ 54.59815003, 148.4131591 , 403.42879349]])"
      ]
     },
     "execution_count": 175,
     "metadata": {},
     "output_type": "execute_result"
    }
   ],
   "source": [
    "# exp\n",
    "np.exp(a)"
   ]
  },
  {
   "cell_type": "code",
   "execution_count": 176,
   "id": "7ce48b78",
   "metadata": {},
   "outputs": [
    {
     "data": {
      "text/plain": [
       "21"
      ]
     },
     "execution_count": 176,
     "metadata": {},
     "output_type": "execute_result"
    }
   ],
   "source": [
    "a.sum()"
   ]
  },
  {
   "cell_type": "code",
   "execution_count": 177,
   "id": "f24a978d",
   "metadata": {},
   "outputs": [
    {
     "data": {
      "text/plain": [
       "array([5, 7, 9])"
      ]
     },
     "execution_count": 177,
     "metadata": {},
     "output_type": "execute_result"
    }
   ],
   "source": [
    "a.sum(axis=0)"
   ]
  },
  {
   "cell_type": "code",
   "execution_count": 178,
   "id": "db466a46",
   "metadata": {},
   "outputs": [
    {
     "data": {
      "text/plain": [
       "array([ 6, 15])"
      ]
     },
     "execution_count": 178,
     "metadata": {},
     "output_type": "execute_result"
    }
   ],
   "source": [
    "a.sum(axis = 1)"
   ]
  },
  {
   "cell_type": "code",
   "execution_count": 179,
   "id": "5276116c",
   "metadata": {},
   "outputs": [
    {
     "data": {
      "text/plain": [
       "array([[11, 12, 13],\n",
       "       [14, 15, 16]])"
      ]
     },
     "execution_count": 179,
     "metadata": {},
     "output_type": "execute_result"
    }
   ],
   "source": [
    "10 + a"
   ]
  },
  {
   "cell_type": "markdown",
   "id": "c143fd21",
   "metadata": {},
   "source": [
    "Поэлементоне умножение (не матричное):"
   ]
  },
  {
   "cell_type": "code",
   "execution_count": 181,
   "id": "cdc4cf52",
   "metadata": {},
   "outputs": [
    {
     "data": {
      "text/plain": [
       "array([[ 0,  1,  2,  3],\n",
       "       [ 4,  5,  6,  7],\n",
       "       [ 8,  9, 10, 11]])"
      ]
     },
     "execution_count": 181,
     "metadata": {},
     "output_type": "execute_result"
    }
   ],
   "source": [
    "b = np.arange(12).reshape(3,-1)\n",
    "b"
   ]
  },
  {
   "cell_type": "code",
   "execution_count": 184,
   "id": "17190b34",
   "metadata": {},
   "outputs": [
    {
     "data": {
      "text/plain": [
       "array([[12, 13, 14, 15],\n",
       "       [16, 17, 18, 19],\n",
       "       [20, 21, 22, 23]])"
      ]
     },
     "execution_count": 184,
     "metadata": {},
     "output_type": "execute_result"
    }
   ],
   "source": [
    "a = np.arange(12,24).reshape(3,-1)\n",
    "a"
   ]
  },
  {
   "cell_type": "code",
   "execution_count": 185,
   "id": "6f575809",
   "metadata": {},
   "outputs": [
    {
     "data": {
      "text/plain": [
       "array([[  0,  13,  28,  45],\n",
       "       [ 64,  85, 108, 133],\n",
       "       [160, 189, 220, 253]])"
      ]
     },
     "execution_count": 185,
     "metadata": {},
     "output_type": "execute_result"
    }
   ],
   "source": [
    "a * b"
   ]
  },
  {
   "cell_type": "markdown",
   "id": "ecd303eb",
   "metadata": {},
   "source": [
    "#### Broadcasting (на примере сложения)"
   ]
  },
  {
   "cell_type": "code",
   "execution_count": 186,
   "id": "1dd3a7e3",
   "metadata": {},
   "outputs": [],
   "source": [
    "a = np.array([[2,5],\n",
    "              [3,4],\n",
    "              [6,1]])"
   ]
  },
  {
   "cell_type": "markdown",
   "id": "15187fdf",
   "metadata": {},
   "source": [
    "1 случай - совпадает только число столбцов"
   ]
  },
  {
   "cell_type": "code",
   "execution_count": 187,
   "id": "ec8190c5",
   "metadata": {},
   "outputs": [],
   "source": [
    "b = np.array([1,2])"
   ]
  },
  {
   "cell_type": "code",
   "execution_count": 188,
   "id": "5d3013b5",
   "metadata": {},
   "outputs": [
    {
     "data": {
      "text/plain": [
       "((3, 2), (2,))"
      ]
     },
     "execution_count": 188,
     "metadata": {},
     "output_type": "execute_result"
    }
   ],
   "source": [
    "a.shape, b.shape"
   ]
  },
  {
   "cell_type": "code",
   "execution_count": 189,
   "id": "cb16f659",
   "metadata": {},
   "outputs": [
    {
     "data": {
      "text/plain": [
       "array([[3, 7],\n",
       "       [4, 6],\n",
       "       [7, 3]])"
      ]
     },
     "execution_count": 189,
     "metadata": {},
     "output_type": "execute_result"
    }
   ],
   "source": [
    "a + b"
   ]
  },
  {
   "cell_type": "markdown",
   "id": "e0dc953d",
   "metadata": {},
   "source": [
    "Прибавили строку b ко всем строкам a"
   ]
  },
  {
   "cell_type": "markdown",
   "id": "ee9e5c03",
   "metadata": {},
   "source": [
    "2 случай - совпадает только число строк"
   ]
  },
  {
   "cell_type": "code",
   "execution_count": 190,
   "id": "7c11859c",
   "metadata": {},
   "outputs": [
    {
     "data": {
      "text/plain": [
       "array([[2, 5],\n",
       "       [3, 4],\n",
       "       [6, 1]])"
      ]
     },
     "execution_count": 190,
     "metadata": {},
     "output_type": "execute_result"
    }
   ],
   "source": [
    "a"
   ]
  },
  {
   "cell_type": "code",
   "execution_count": 193,
   "id": "76ba61c5",
   "metadata": {},
   "outputs": [
    {
     "data": {
      "text/plain": [
       "array([[1],\n",
       "       [2],\n",
       "       [3]])"
      ]
     },
     "execution_count": 193,
     "metadata": {},
     "output_type": "execute_result"
    }
   ],
   "source": [
    "c = np.array([[1],\n",
    "              [2],\n",
    "              [3]])\n",
    "c"
   ]
  },
  {
   "cell_type": "code",
   "execution_count": 194,
   "id": "978fd4dd",
   "metadata": {},
   "outputs": [
    {
     "data": {
      "text/plain": [
       "array([[3, 6],\n",
       "       [5, 6],\n",
       "       [9, 4]])"
      ]
     },
     "execution_count": 194,
     "metadata": {},
     "output_type": "execute_result"
    }
   ],
   "source": [
    "a + c"
   ]
  },
  {
   "cell_type": "markdown",
   "id": "35dae0e5",
   "metadata": {},
   "source": [
    "Прибавили столбец с ко всем столбцам a"
   ]
  },
  {
   "cell_type": "markdown",
   "id": "1021800e",
   "metadata": {},
   "source": [
    "#### Статические функции"
   ]
  },
  {
   "cell_type": "markdown",
   "id": "30029797",
   "metadata": {},
   "source": [
    "Основные:"
   ]
  },
  {
   "cell_type": "code",
   "execution_count": 196,
   "id": "5c1464f3",
   "metadata": {},
   "outputs": [
    {
     "data": {
      "text/plain": [
       "array([[ 5,  9,  0, 10],\n",
       "       [ 1,  0,  1,  9],\n",
       "       [ 0,  9, 10,  2]])"
      ]
     },
     "execution_count": 196,
     "metadata": {},
     "output_type": "execute_result"
    }
   ],
   "source": [
    "a = np.random.randint(0, 12, (3,4))\n",
    "a"
   ]
  },
  {
   "cell_type": "code",
   "execution_count": 197,
   "id": "90ad22c8",
   "metadata": {},
   "outputs": [
    {
     "data": {
      "text/plain": [
       "0"
      ]
     },
     "execution_count": 197,
     "metadata": {},
     "output_type": "execute_result"
    }
   ],
   "source": [
    "# Минимум\n",
    "a.min()"
   ]
  },
  {
   "cell_type": "code",
   "execution_count": 198,
   "id": "4ee03a7a",
   "metadata": {},
   "outputs": [
    {
     "data": {
      "text/plain": [
       "array([0, 0, 0, 2])"
      ]
     },
     "execution_count": 198,
     "metadata": {},
     "output_type": "execute_result"
    }
   ],
   "source": [
    "a.min(axis=0)"
   ]
  },
  {
   "cell_type": "code",
   "execution_count": 200,
   "id": "9f43c758",
   "metadata": {},
   "outputs": [
    {
     "data": {
      "text/plain": [
       "10"
      ]
     },
     "execution_count": 200,
     "metadata": {},
     "output_type": "execute_result"
    }
   ],
   "source": [
    "# Максимум\n",
    "a.max()"
   ]
  },
  {
   "cell_type": "code",
   "execution_count": 201,
   "id": "665d18c5",
   "metadata": {},
   "outputs": [
    {
     "data": {
      "text/plain": [
       "array([10,  9, 10])"
      ]
     },
     "execution_count": 201,
     "metadata": {},
     "output_type": "execute_result"
    }
   ],
   "source": [
    "a.max(axis = 1)"
   ]
  },
  {
   "cell_type": "code",
   "execution_count": 202,
   "id": "4a1692b1",
   "metadata": {},
   "outputs": [
    {
     "data": {
      "text/plain": [
       "4.666666666666667"
      ]
     },
     "execution_count": 202,
     "metadata": {},
     "output_type": "execute_result"
    }
   ],
   "source": [
    "# Среднее значение\n",
    "a.mean()"
   ]
  },
  {
   "cell_type": "code",
   "execution_count": 205,
   "id": "874ac075",
   "metadata": {},
   "outputs": [
    {
     "data": {
      "text/plain": [
       "4.20977698010503"
      ]
     },
     "execution_count": 205,
     "metadata": {},
     "output_type": "execute_result"
    }
   ],
   "source": [
    "# Среднеквадратичное отклонение\n",
    "a.std()"
   ]
  },
  {
   "cell_type": "code",
   "execution_count": 206,
   "id": "95e53780",
   "metadata": {},
   "outputs": [
    {
     "data": {
      "text/plain": [
       "array([2.        , 6.        , 3.66666667, 7.        ])"
      ]
     },
     "execution_count": 206,
     "metadata": {},
     "output_type": "execute_result"
    }
   ],
   "source": [
    "a.mean(axis = 0)"
   ]
  },
  {
   "cell_type": "code",
   "execution_count": 207,
   "id": "db3fad21",
   "metadata": {},
   "outputs": [
    {
     "data": {
      "text/plain": [
       "array([2.1602469 , 4.24264069, 4.49691252, 3.55902608])"
      ]
     },
     "execution_count": 207,
     "metadata": {},
     "output_type": "execute_result"
    }
   ],
   "source": [
    "a.std(axis = 0)"
   ]
  },
  {
   "cell_type": "markdown",
   "id": "3b3f2d13",
   "metadata": {},
   "source": [
    "#### Запись и чтение массивов из файла"
   ]
  },
  {
   "cell_type": "markdown",
   "id": "f32d65cf",
   "metadata": {},
   "source": [
    "Запись массива *а* в файл 'a.npy'"
   ]
  },
  {
   "cell_type": "code",
   "execution_count": 208,
   "id": "1b4fc7d8",
   "metadata": {},
   "outputs": [],
   "source": [
    "np.save('a.npy', a)"
   ]
  },
  {
   "cell_type": "markdown",
   "id": "926c1d4e",
   "metadata": {},
   "source": [
    "Чтение массива из файла"
   ]
  },
  {
   "cell_type": "code",
   "execution_count": 210,
   "id": "e8016e2d",
   "metadata": {},
   "outputs": [
    {
     "data": {
      "text/plain": [
       "array([[ 5,  9,  0, 10],\n",
       "       [ 1,  0,  1,  9],\n",
       "       [ 0,  9, 10,  2]])"
      ]
     },
     "execution_count": 210,
     "metadata": {},
     "output_type": "execute_result"
    }
   ],
   "source": [
    "np.load('a.npy')"
   ]
  },
  {
   "cell_type": "code",
   "execution_count": null,
   "id": "a0486c49",
   "metadata": {},
   "outputs": [],
   "source": []
  }
 ],
 "metadata": {
  "kernelspec": {
   "display_name": "Python 3",
   "language": "python",
   "name": "python3"
  },
  "language_info": {
   "codemirror_mode": {
    "name": "ipython",
    "version": 3
   },
   "file_extension": ".py",
   "mimetype": "text/x-python",
   "name": "python",
   "nbconvert_exporter": "python",
   "pygments_lexer": "ipython3",
   "version": "3.8.8"
  }
 },
 "nbformat": 4,
 "nbformat_minor": 5
}
