{
 "cells": [
  {
   "cell_type": "markdown",
   "id": "Re5THijI3Xnt",
   "metadata": {
    "id": "Re5THijI3Xnt"
   },
   "source": [
    "**Импортирование библиотек**"
   ]
  },
  {
   "cell_type": "code",
   "execution_count": 1,
   "id": "d025c0c1",
   "metadata": {
    "id": "d025c0c1"
   },
   "outputs": [],
   "source": [
    "import numpy as np"
   ]
  },
  {
   "cell_type": "markdown",
   "id": "53a8ee2f",
   "metadata": {
    "id": "53a8ee2f"
   },
   "source": [
    "**Задание 1**\n",
    "\n",
    "Создайте массив Numpy под названием a размером 5x2, то есть состоящий из 5 строк и 2 столбцов. Первый столбец должен содержать числа 1, 2, 3, 3, 1, а второй - числа 6, 8, 11, 10, 7. Будем считать, что каждый столбец - это признак, а строка - наблюдение. Затем найдите среднее значение по каждому признаку, используя метод mean массива Numpy. Результат запишите в массив mean_a, в нем должно быть 2 элемента.\n"
   ]
  },
  {
   "cell_type": "code",
   "execution_count": 2,
   "id": "9c1ad8a0",
   "metadata": {
    "colab": {
     "base_uri": "https://localhost:8080/"
    },
    "executionInfo": {
     "elapsed": 225,
     "status": "ok",
     "timestamp": 1630006942565,
     "user": {
      "displayName": "Nicholas",
      "photoUrl": "https://lh3.googleusercontent.com/a-/AOh14GjaDecTSBAaY7KPwCJMfzSDhBf1AVaXuAWThNfaOw=s64",
      "userId": "11433708549885944593"
     },
     "user_tz": -180
    },
    "id": "9c1ad8a0",
    "outputId": "b4551281-37cc-4c10-c170-e9a30fc28e32"
   },
   "outputs": [
    {
     "data": {
      "text/plain": [
       "array([[ 1,  6],\n",
       "       [ 2,  8],\n",
       "       [ 3, 11],\n",
       "       [ 3, 10],\n",
       "       [ 1,  7]])"
      ]
     },
     "execution_count": 2,
     "metadata": {},
     "output_type": "execute_result"
    }
   ],
   "source": [
    "b=np.array((1, 2, 3, 3, 1))\n",
    "c=np.array((6, 8, 11, 10, 7))\n",
    "a = np.dstack((b, c))[0]\n",
    "a\n",
    "\n",
    "# a = np.array([[1, 6], [2, 8], [3, 11], [3, 10], [1, 7]])\n",
    "# a"
   ]
  },
  {
   "cell_type": "code",
   "execution_count": 3,
   "id": "75b9a8c8",
   "metadata": {
    "colab": {
     "base_uri": "https://localhost:8080/"
    },
    "executionInfo": {
     "elapsed": 238,
     "status": "ok",
     "timestamp": 1630006947257,
     "user": {
      "displayName": "Nicholas",
      "photoUrl": "https://lh3.googleusercontent.com/a-/AOh14GjaDecTSBAaY7KPwCJMfzSDhBf1AVaXuAWThNfaOw=s64",
      "userId": "11433708549885944593"
     },
     "user_tz": -180
    },
    "id": "75b9a8c8",
    "outputId": "ff2eacb3-9f39-4c5c-9451-8fb4d5a7317b"
   },
   "outputs": [
    {
     "data": {
      "text/plain": [
       "array([2. , 8.4])"
      ]
     },
     "execution_count": 3,
     "metadata": {},
     "output_type": "execute_result"
    }
   ],
   "source": [
    "mean_a = a.mean(axis = 0)\n",
    "mean_a"
   ]
  },
  {
   "cell_type": "markdown",
   "id": "5c64d606",
   "metadata": {
    "id": "5c64d606"
   },
   "source": [
    "**Задание 2**\n",
    "\n",
    "Вычислите массив a_centered, отняв от значений массива “а” средние значения соответствующих признаков, содержащиеся в массиве mean_a. Вычисление должно производиться в одно действие. Получившийся массив должен иметь размер 5x2.\n"
   ]
  },
  {
   "cell_type": "code",
   "execution_count": 4,
   "id": "3fd05ceb",
   "metadata": {
    "colab": {
     "base_uri": "https://localhost:8080/"
    },
    "executionInfo": {
     "elapsed": 254,
     "status": "ok",
     "timestamp": 1630006951897,
     "user": {
      "displayName": "Nicholas",
      "photoUrl": "https://lh3.googleusercontent.com/a-/AOh14GjaDecTSBAaY7KPwCJMfzSDhBf1AVaXuAWThNfaOw=s64",
      "userId": "11433708549885944593"
     },
     "user_tz": -180
    },
    "id": "3fd05ceb",
    "outputId": "31dd282c-164c-49e2-8c08-5702d2d24ceb"
   },
   "outputs": [
    {
     "data": {
      "text/plain": [
       "array([[-1. , -2.4],\n",
       "       [ 0. , -0.4],\n",
       "       [ 1. ,  2.6],\n",
       "       [ 1. ,  1.6],\n",
       "       [-1. , -1.4]])"
      ]
     },
     "execution_count": 4,
     "metadata": {},
     "output_type": "execute_result"
    }
   ],
   "source": [
    "a_centered = a - mean_a\n",
    "a_centered"
   ]
  },
  {
   "cell_type": "markdown",
   "id": "ae3092a2",
   "metadata": {
    "id": "ae3092a2"
   },
   "source": [
    "**Задание 3**\n",
    "\n",
    "Найдите скалярное произведение столбцов массива a_centered. В результате должна получиться величина a_centered_sp. Затем поделите a_centered_sp на N-1, где N - число наблюдений.\n"
   ]
  },
  {
   "cell_type": "code",
   "execution_count": 5,
   "id": "12deccb6",
   "metadata": {
    "colab": {
     "base_uri": "https://localhost:8080/"
    },
    "executionInfo": {
     "elapsed": 236,
     "status": "ok",
     "timestamp": 1630006955494,
     "user": {
      "displayName": "Nicholas",
      "photoUrl": "https://lh3.googleusercontent.com/a-/AOh14GjaDecTSBAaY7KPwCJMfzSDhBf1AVaXuAWThNfaOw=s64",
      "userId": "11433708549885944593"
     },
     "user_tz": -180
    },
    "id": "12deccb6",
    "outputId": "b1c24e7c-d3a0-4acd-fe5e-c800cb11a736"
   },
   "outputs": [
    {
     "data": {
      "text/plain": [
       "8.0"
      ]
     },
     "execution_count": 5,
     "metadata": {},
     "output_type": "execute_result"
    }
   ],
   "source": [
    "a_centered_sp = np.dot(a_centered[:, 0], a_centered[:, 1])\n",
    "a_centered_sp"
   ]
  },
  {
   "cell_type": "code",
   "execution_count": 6,
   "id": "4a95ad31",
   "metadata": {
    "colab": {
     "base_uri": "https://localhost:8080/"
    },
    "executionInfo": {
     "elapsed": 2,
     "status": "ok",
     "timestamp": 1630006957600,
     "user": {
      "displayName": "Nicholas",
      "photoUrl": "https://lh3.googleusercontent.com/a-/AOh14GjaDecTSBAaY7KPwCJMfzSDhBf1AVaXuAWThNfaOw=s64",
      "userId": "11433708549885944593"
     },
     "user_tz": -180
    },
    "id": "4a95ad31",
    "outputId": "0492d7a2-365d-4fff-e878-c7a8ea4f2c88"
   },
   "outputs": [
    {
     "data": {
      "text/plain": [
       "2.0"
      ]
     },
     "execution_count": 6,
     "metadata": {},
     "output_type": "execute_result"
    }
   ],
   "source": [
    "cov_one = a_centered_sp / (a.shape[0] - 1)\n",
    "cov_one"
   ]
  },
  {
   "cell_type": "markdown",
   "id": "23f09a51",
   "metadata": {
    "id": "23f09a51"
   },
   "source": [
    "**Задание 4****\n",
    "\n",
    "Число, которое мы получили в конце задания 3 является ковариацией двух признаков, содержащихся в массиве “а”. В задании 4 мы делили сумму произведений центрированных признаков на N-1, а не на N, поэтому полученная нами величина является несмещенной оценкой ковариации.\n",
    "\n",
    "В этом задании проверьте получившееся число, вычислив ковариацию еще одним способом - с помощью функции np.cov. В качестве аргумента m функция np.cov должна принимать транспонированный массив “a”. В получившейся ковариационной матрице (массив Numpy размером 2x2) искомое значение ковариации будет равно элементу в строке с индексом 0 и столбце с индексом 1.\n"
   ]
  },
  {
   "cell_type": "code",
   "execution_count": 7,
   "id": "2b17c25f",
   "metadata": {
    "colab": {
     "base_uri": "https://localhost:8080/"
    },
    "executionInfo": {
     "elapsed": 241,
     "status": "ok",
     "timestamp": 1630006984629,
     "user": {
      "displayName": "Nicholas",
      "photoUrl": "https://lh3.googleusercontent.com/a-/AOh14GjaDecTSBAaY7KPwCJMfzSDhBf1AVaXuAWThNfaOw=s64",
      "userId": "11433708549885944593"
     },
     "user_tz": -180
    },
    "id": "2b17c25f",
    "outputId": "f3fc7251-551f-4d63-acb8-1f92524010d2"
   },
   "outputs": [
    {
     "data": {
      "text/plain": [
       "array([[1. , 2. ],\n",
       "       [2. , 4.3]])"
      ]
     },
     "execution_count": 7,
     "metadata": {},
     "output_type": "execute_result"
    }
   ],
   "source": [
    "matrix_cov = np.cov(m = a.T)\n",
    "matrix_cov"
   ]
  },
  {
   "cell_type": "code",
   "execution_count": 8,
   "id": "edfecafb",
   "metadata": {
    "colab": {
     "base_uri": "https://localhost:8080/"
    },
    "executionInfo": {
     "elapsed": 246,
     "status": "ok",
     "timestamp": 1630006987273,
     "user": {
      "displayName": "Nicholas",
      "photoUrl": "https://lh3.googleusercontent.com/a-/AOh14GjaDecTSBAaY7KPwCJMfzSDhBf1AVaXuAWThNfaOw=s64",
      "userId": "11433708549885944593"
     },
     "user_tz": -180
    },
    "id": "edfecafb",
    "outputId": "b748947e-f224-456e-c9ee-571dc069d181"
   },
   "outputs": [
    {
     "data": {
      "text/plain": [
       "2.0"
      ]
     },
     "execution_count": 8,
     "metadata": {},
     "output_type": "execute_result"
    }
   ],
   "source": [
    "cov_two = matrix_cov[0, 1]\n",
    "cov_two"
   ]
  },
  {
   "cell_type": "code",
   "execution_count": 9,
   "id": "ISxDSUOE5Tbv",
   "metadata": {
    "colab": {
     "base_uri": "https://localhost:8080/"
    },
    "executionInfo": {
     "elapsed": 231,
     "status": "ok",
     "timestamp": 1630006989357,
     "user": {
      "displayName": "Nicholas",
      "photoUrl": "https://lh3.googleusercontent.com/a-/AOh14GjaDecTSBAaY7KPwCJMfzSDhBf1AVaXuAWThNfaOw=s64",
      "userId": "11433708549885944593"
     },
     "user_tz": -180
    },
    "id": "ISxDSUOE5Tbv",
    "outputId": "1f421d72-c463-4a29-ecfe-24f416b9c117"
   },
   "outputs": [
    {
     "data": {
      "text/plain": [
       "True"
      ]
     },
     "execution_count": 9,
     "metadata": {},
     "output_type": "execute_result"
    }
   ],
   "source": [
    "cov_one == cov_two"
   ]
  }
 ],
 "metadata": {
  "colab": {
   "collapsed_sections": [],
   "name": "lesson-2-hw-numpy.ipynb",
   "provenance": [],
   "toc_visible": true
  },
  "kernelspec": {
   "display_name": "Python 3 (ipykernel)",
   "language": "python",
   "name": "python3"
  },
  "language_info": {
   "codemirror_mode": {
    "name": "ipython",
    "version": 3
   },
   "file_extension": ".py",
   "mimetype": "text/x-python",
   "name": "python",
   "nbconvert_exporter": "python",
   "pygments_lexer": "ipython3",
   "version": "3.9.16"
  }
 },
 "nbformat": 4,
 "nbformat_minor": 5
}
